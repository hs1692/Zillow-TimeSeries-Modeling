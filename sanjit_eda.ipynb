{
 "cells": [
  {
   "cell_type": "code",
   "execution_count": 2,
   "metadata": {},
   "outputs": [],
   "source": [
    "import numpy as np\n",
    "import pandas as pd\n",
    "import matplotlib.pyplot as plt\n",
    "%matplotlib inline"
   ]
  },
  {
   "cell_type": "markdown",
   "metadata": {},
   "source": [
    "## Helper Functions"
   ]
  },
  {
   "cell_type": "code",
   "execution_count": 3,
   "metadata": {},
   "outputs": [],
   "source": [
    "def get_datetimes(df):\n",
    "    \"\"\"\n",
    "    Takes a dataframe:\n",
    "    returns only those column names that can be converted into datetime objects \n",
    "    as datetime objects.\n",
    "    NOTE number of returned columns may not match total number of columns in passed dataframe\n",
    "    \"\"\"\n",
    "    \n",
    "    return pd.to_datetime(df.columns.values[7:], format='%Y-%m')\n",
    "\n",
    "\n",
    "def melt_data(df):\n",
    "    \"\"\"\n",
    "    Takes the zillow_data dataset in wide form or a subset of the zillow_dataset.  \n",
    "    Returns a long-form datetime dataframe \n",
    "    with the datetime column names as the index and the values as the 'values' column.\n",
    "    \n",
    "    If more than one row is passes in the wide-form dataset, the values column\n",
    "    will be the mean of the values from the datetime columns in all of the rows.\n",
    "    \"\"\"\n",
    "    \n",
    "    melted = pd.melt(df, id_vars=['RegionName', 'RegionID', 'SizeRank', 'City', 'State', 'Metro', 'CountyName'], var_name='time')\n",
    "    melted['time'] = pd.to_datetime(melted['time'], infer_datetime_format=True)\n",
    "    melted = melted.dropna(subset=['value'])\n",
    "    return melted.groupby('time').aggregate({'value':'mean'})"
   ]
  },
  {
   "cell_type": "markdown",
   "metadata": {},
   "source": [
    "# Data"
   ]
  },
  {
   "cell_type": "code",
   "execution_count": 4,
   "metadata": {},
   "outputs": [],
   "source": [
    "#Loading our dataset\n",
    "df = pd.read_csv('data/zillow_data.csv')"
   ]
  },
  {
   "cell_type": "code",
   "execution_count": 5,
   "metadata": {
    "scrolled": true
   },
   "outputs": [
    {
     "data": {
      "text/html": [
       "<div>\n",
       "<style scoped>\n",
       "    .dataframe tbody tr th:only-of-type {\n",
       "        vertical-align: middle;\n",
       "    }\n",
       "\n",
       "    .dataframe tbody tr th {\n",
       "        vertical-align: top;\n",
       "    }\n",
       "\n",
       "    .dataframe thead th {\n",
       "        text-align: right;\n",
       "    }\n",
       "</style>\n",
       "<table border=\"1\" class=\"dataframe\">\n",
       "  <thead>\n",
       "    <tr style=\"text-align: right;\">\n",
       "      <th></th>\n",
       "      <th>RegionID</th>\n",
       "      <th>RegionName</th>\n",
       "      <th>City</th>\n",
       "      <th>State</th>\n",
       "      <th>Metro</th>\n",
       "      <th>CountyName</th>\n",
       "      <th>SizeRank</th>\n",
       "      <th>1996-04</th>\n",
       "      <th>1996-05</th>\n",
       "      <th>1996-06</th>\n",
       "      <th>...</th>\n",
       "      <th>2017-07</th>\n",
       "      <th>2017-08</th>\n",
       "      <th>2017-09</th>\n",
       "      <th>2017-10</th>\n",
       "      <th>2017-11</th>\n",
       "      <th>2017-12</th>\n",
       "      <th>2018-01</th>\n",
       "      <th>2018-02</th>\n",
       "      <th>2018-03</th>\n",
       "      <th>2018-04</th>\n",
       "    </tr>\n",
       "  </thead>\n",
       "  <tbody>\n",
       "    <tr>\n",
       "      <th>0</th>\n",
       "      <td>84654</td>\n",
       "      <td>60657</td>\n",
       "      <td>Chicago</td>\n",
       "      <td>IL</td>\n",
       "      <td>Chicago</td>\n",
       "      <td>Cook</td>\n",
       "      <td>1</td>\n",
       "      <td>334200.0</td>\n",
       "      <td>335400.0</td>\n",
       "      <td>336500.0</td>\n",
       "      <td>...</td>\n",
       "      <td>1005500</td>\n",
       "      <td>1007500</td>\n",
       "      <td>1007800</td>\n",
       "      <td>1009600</td>\n",
       "      <td>1013300</td>\n",
       "      <td>1018700</td>\n",
       "      <td>1024400</td>\n",
       "      <td>1030700</td>\n",
       "      <td>1033800</td>\n",
       "      <td>1030600</td>\n",
       "    </tr>\n",
       "    <tr>\n",
       "      <th>1</th>\n",
       "      <td>90668</td>\n",
       "      <td>75070</td>\n",
       "      <td>McKinney</td>\n",
       "      <td>TX</td>\n",
       "      <td>Dallas-Fort Worth</td>\n",
       "      <td>Collin</td>\n",
       "      <td>2</td>\n",
       "      <td>235700.0</td>\n",
       "      <td>236900.0</td>\n",
       "      <td>236700.0</td>\n",
       "      <td>...</td>\n",
       "      <td>308000</td>\n",
       "      <td>310000</td>\n",
       "      <td>312500</td>\n",
       "      <td>314100</td>\n",
       "      <td>315000</td>\n",
       "      <td>316600</td>\n",
       "      <td>318100</td>\n",
       "      <td>319600</td>\n",
       "      <td>321100</td>\n",
       "      <td>321800</td>\n",
       "    </tr>\n",
       "    <tr>\n",
       "      <th>2</th>\n",
       "      <td>91982</td>\n",
       "      <td>77494</td>\n",
       "      <td>Katy</td>\n",
       "      <td>TX</td>\n",
       "      <td>Houston</td>\n",
       "      <td>Harris</td>\n",
       "      <td>3</td>\n",
       "      <td>210400.0</td>\n",
       "      <td>212200.0</td>\n",
       "      <td>212200.0</td>\n",
       "      <td>...</td>\n",
       "      <td>321000</td>\n",
       "      <td>320600</td>\n",
       "      <td>320200</td>\n",
       "      <td>320400</td>\n",
       "      <td>320800</td>\n",
       "      <td>321200</td>\n",
       "      <td>321200</td>\n",
       "      <td>323000</td>\n",
       "      <td>326900</td>\n",
       "      <td>329900</td>\n",
       "    </tr>\n",
       "    <tr>\n",
       "      <th>3</th>\n",
       "      <td>84616</td>\n",
       "      <td>60614</td>\n",
       "      <td>Chicago</td>\n",
       "      <td>IL</td>\n",
       "      <td>Chicago</td>\n",
       "      <td>Cook</td>\n",
       "      <td>4</td>\n",
       "      <td>498100.0</td>\n",
       "      <td>500900.0</td>\n",
       "      <td>503100.0</td>\n",
       "      <td>...</td>\n",
       "      <td>1289800</td>\n",
       "      <td>1287700</td>\n",
       "      <td>1287400</td>\n",
       "      <td>1291500</td>\n",
       "      <td>1296600</td>\n",
       "      <td>1299000</td>\n",
       "      <td>1302700</td>\n",
       "      <td>1306400</td>\n",
       "      <td>1308500</td>\n",
       "      <td>1307000</td>\n",
       "    </tr>\n",
       "    <tr>\n",
       "      <th>4</th>\n",
       "      <td>93144</td>\n",
       "      <td>79936</td>\n",
       "      <td>El Paso</td>\n",
       "      <td>TX</td>\n",
       "      <td>El Paso</td>\n",
       "      <td>El Paso</td>\n",
       "      <td>5</td>\n",
       "      <td>77300.0</td>\n",
       "      <td>77300.0</td>\n",
       "      <td>77300.0</td>\n",
       "      <td>...</td>\n",
       "      <td>119100</td>\n",
       "      <td>119400</td>\n",
       "      <td>120000</td>\n",
       "      <td>120300</td>\n",
       "      <td>120300</td>\n",
       "      <td>120300</td>\n",
       "      <td>120300</td>\n",
       "      <td>120500</td>\n",
       "      <td>121000</td>\n",
       "      <td>121500</td>\n",
       "    </tr>\n",
       "    <tr>\n",
       "      <th>...</th>\n",
       "      <td>...</td>\n",
       "      <td>...</td>\n",
       "      <td>...</td>\n",
       "      <td>...</td>\n",
       "      <td>...</td>\n",
       "      <td>...</td>\n",
       "      <td>...</td>\n",
       "      <td>...</td>\n",
       "      <td>...</td>\n",
       "      <td>...</td>\n",
       "      <td>...</td>\n",
       "      <td>...</td>\n",
       "      <td>...</td>\n",
       "      <td>...</td>\n",
       "      <td>...</td>\n",
       "      <td>...</td>\n",
       "      <td>...</td>\n",
       "      <td>...</td>\n",
       "      <td>...</td>\n",
       "      <td>...</td>\n",
       "      <td>...</td>\n",
       "    </tr>\n",
       "    <tr>\n",
       "      <th>14718</th>\n",
       "      <td>58333</td>\n",
       "      <td>1338</td>\n",
       "      <td>Ashfield</td>\n",
       "      <td>MA</td>\n",
       "      <td>Greenfield Town</td>\n",
       "      <td>Franklin</td>\n",
       "      <td>14719</td>\n",
       "      <td>94600.0</td>\n",
       "      <td>94300.0</td>\n",
       "      <td>94000.0</td>\n",
       "      <td>...</td>\n",
       "      <td>216800</td>\n",
       "      <td>217700</td>\n",
       "      <td>218600</td>\n",
       "      <td>218500</td>\n",
       "      <td>218100</td>\n",
       "      <td>216400</td>\n",
       "      <td>213100</td>\n",
       "      <td>209800</td>\n",
       "      <td>209200</td>\n",
       "      <td>209300</td>\n",
       "    </tr>\n",
       "    <tr>\n",
       "      <th>14719</th>\n",
       "      <td>59107</td>\n",
       "      <td>3293</td>\n",
       "      <td>Woodstock</td>\n",
       "      <td>NH</td>\n",
       "      <td>Claremont</td>\n",
       "      <td>Grafton</td>\n",
       "      <td>14720</td>\n",
       "      <td>92700.0</td>\n",
       "      <td>92500.0</td>\n",
       "      <td>92400.0</td>\n",
       "      <td>...</td>\n",
       "      <td>202100</td>\n",
       "      <td>208400</td>\n",
       "      <td>212200</td>\n",
       "      <td>215200</td>\n",
       "      <td>214300</td>\n",
       "      <td>213100</td>\n",
       "      <td>213700</td>\n",
       "      <td>218300</td>\n",
       "      <td>222700</td>\n",
       "      <td>225800</td>\n",
       "    </tr>\n",
       "    <tr>\n",
       "      <th>14720</th>\n",
       "      <td>75672</td>\n",
       "      <td>40404</td>\n",
       "      <td>Berea</td>\n",
       "      <td>KY</td>\n",
       "      <td>Richmond</td>\n",
       "      <td>Madison</td>\n",
       "      <td>14721</td>\n",
       "      <td>57100.0</td>\n",
       "      <td>57300.0</td>\n",
       "      <td>57500.0</td>\n",
       "      <td>...</td>\n",
       "      <td>121800</td>\n",
       "      <td>122800</td>\n",
       "      <td>124600</td>\n",
       "      <td>126700</td>\n",
       "      <td>128800</td>\n",
       "      <td>130600</td>\n",
       "      <td>131700</td>\n",
       "      <td>132500</td>\n",
       "      <td>133000</td>\n",
       "      <td>133400</td>\n",
       "    </tr>\n",
       "    <tr>\n",
       "      <th>14721</th>\n",
       "      <td>93733</td>\n",
       "      <td>81225</td>\n",
       "      <td>Mount Crested Butte</td>\n",
       "      <td>CO</td>\n",
       "      <td>NaN</td>\n",
       "      <td>Gunnison</td>\n",
       "      <td>14722</td>\n",
       "      <td>191100.0</td>\n",
       "      <td>192400.0</td>\n",
       "      <td>193700.0</td>\n",
       "      <td>...</td>\n",
       "      <td>662800</td>\n",
       "      <td>671200</td>\n",
       "      <td>682400</td>\n",
       "      <td>695600</td>\n",
       "      <td>695500</td>\n",
       "      <td>694700</td>\n",
       "      <td>706400</td>\n",
       "      <td>705300</td>\n",
       "      <td>681500</td>\n",
       "      <td>664400</td>\n",
       "    </tr>\n",
       "    <tr>\n",
       "      <th>14722</th>\n",
       "      <td>95851</td>\n",
       "      <td>89155</td>\n",
       "      <td>Mesquite</td>\n",
       "      <td>NV</td>\n",
       "      <td>Las Vegas</td>\n",
       "      <td>Clark</td>\n",
       "      <td>14723</td>\n",
       "      <td>176400.0</td>\n",
       "      <td>176300.0</td>\n",
       "      <td>176100.0</td>\n",
       "      <td>...</td>\n",
       "      <td>333800</td>\n",
       "      <td>336400</td>\n",
       "      <td>339700</td>\n",
       "      <td>343800</td>\n",
       "      <td>346800</td>\n",
       "      <td>348900</td>\n",
       "      <td>350400</td>\n",
       "      <td>353000</td>\n",
       "      <td>356000</td>\n",
       "      <td>357200</td>\n",
       "    </tr>\n",
       "  </tbody>\n",
       "</table>\n",
       "<p>14723 rows × 272 columns</p>\n",
       "</div>"
      ],
      "text/plain": [
       "       RegionID  RegionName                 City State              Metro  \\\n",
       "0         84654       60657              Chicago    IL            Chicago   \n",
       "1         90668       75070             McKinney    TX  Dallas-Fort Worth   \n",
       "2         91982       77494                 Katy    TX            Houston   \n",
       "3         84616       60614              Chicago    IL            Chicago   \n",
       "4         93144       79936              El Paso    TX            El Paso   \n",
       "...         ...         ...                  ...   ...                ...   \n",
       "14718     58333        1338             Ashfield    MA    Greenfield Town   \n",
       "14719     59107        3293            Woodstock    NH          Claremont   \n",
       "14720     75672       40404                Berea    KY           Richmond   \n",
       "14721     93733       81225  Mount Crested Butte    CO                NaN   \n",
       "14722     95851       89155             Mesquite    NV          Las Vegas   \n",
       "\n",
       "      CountyName  SizeRank   1996-04   1996-05   1996-06  ...  2017-07  \\\n",
       "0           Cook         1  334200.0  335400.0  336500.0  ...  1005500   \n",
       "1         Collin         2  235700.0  236900.0  236700.0  ...   308000   \n",
       "2         Harris         3  210400.0  212200.0  212200.0  ...   321000   \n",
       "3           Cook         4  498100.0  500900.0  503100.0  ...  1289800   \n",
       "4        El Paso         5   77300.0   77300.0   77300.0  ...   119100   \n",
       "...          ...       ...       ...       ...       ...  ...      ...   \n",
       "14718   Franklin     14719   94600.0   94300.0   94000.0  ...   216800   \n",
       "14719    Grafton     14720   92700.0   92500.0   92400.0  ...   202100   \n",
       "14720    Madison     14721   57100.0   57300.0   57500.0  ...   121800   \n",
       "14721   Gunnison     14722  191100.0  192400.0  193700.0  ...   662800   \n",
       "14722      Clark     14723  176400.0  176300.0  176100.0  ...   333800   \n",
       "\n",
       "       2017-08  2017-09  2017-10  2017-11  2017-12  2018-01  2018-02  2018-03  \\\n",
       "0      1007500  1007800  1009600  1013300  1018700  1024400  1030700  1033800   \n",
       "1       310000   312500   314100   315000   316600   318100   319600   321100   \n",
       "2       320600   320200   320400   320800   321200   321200   323000   326900   \n",
       "3      1287700  1287400  1291500  1296600  1299000  1302700  1306400  1308500   \n",
       "4       119400   120000   120300   120300   120300   120300   120500   121000   \n",
       "...        ...      ...      ...      ...      ...      ...      ...      ...   \n",
       "14718   217700   218600   218500   218100   216400   213100   209800   209200   \n",
       "14719   208400   212200   215200   214300   213100   213700   218300   222700   \n",
       "14720   122800   124600   126700   128800   130600   131700   132500   133000   \n",
       "14721   671200   682400   695600   695500   694700   706400   705300   681500   \n",
       "14722   336400   339700   343800   346800   348900   350400   353000   356000   \n",
       "\n",
       "       2018-04  \n",
       "0      1030600  \n",
       "1       321800  \n",
       "2       329900  \n",
       "3      1307000  \n",
       "4       121500  \n",
       "...        ...  \n",
       "14718   209300  \n",
       "14719   225800  \n",
       "14720   133400  \n",
       "14721   664400  \n",
       "14722   357200  \n",
       "\n",
       "[14723 rows x 272 columns]"
      ]
     },
     "execution_count": 5,
     "metadata": {},
     "output_type": "execute_result"
    }
   ],
   "source": [
    "#Observing what our dataset looks like\n",
    "df"
   ]
  },
  {
   "cell_type": "markdown",
   "metadata": {},
   "source": [
    "# Data Analysis"
   ]
  },
  {
   "cell_type": "markdown",
   "metadata": {},
   "source": [
    "## Narrowing the scope of our project"
   ]
  },
  {
   "cell_type": "markdown",
   "metadata": {},
   "source": [
    "Our client is looking to purchase a home in Florida. We want to identify the best 5 Zip Codes which we believe will have the highest ROI after 3 years of purchase. i.e. We want the zipcodes that we believe will appreciate the most in value. These predictions will be mades using Time Series modeling."
   ]
  },
  {
   "cell_type": "markdown",
   "metadata": {},
   "source": [
    "### Looking at our Florida data"
   ]
  },
  {
   "cell_type": "code",
   "execution_count": 6,
   "metadata": {},
   "outputs": [],
   "source": [
    "#Dataframe containing only zips from Florida\n",
    "\n",
    "florida =  df[df['State']=='FL']"
   ]
  },
  {
   "cell_type": "code",
   "execution_count": 7,
   "metadata": {},
   "outputs": [
    {
     "data": {
      "text/html": [
       "<div>\n",
       "<style scoped>\n",
       "    .dataframe tbody tr th:only-of-type {\n",
       "        vertical-align: middle;\n",
       "    }\n",
       "\n",
       "    .dataframe tbody tr th {\n",
       "        vertical-align: top;\n",
       "    }\n",
       "\n",
       "    .dataframe thead th {\n",
       "        text-align: right;\n",
       "    }\n",
       "</style>\n",
       "<table border=\"1\" class=\"dataframe\">\n",
       "  <thead>\n",
       "    <tr style=\"text-align: right;\">\n",
       "      <th></th>\n",
       "      <th>RegionID</th>\n",
       "      <th>RegionName</th>\n",
       "      <th>City</th>\n",
       "      <th>State</th>\n",
       "      <th>Metro</th>\n",
       "      <th>CountyName</th>\n",
       "      <th>SizeRank</th>\n",
       "      <th>1996-04</th>\n",
       "      <th>1996-05</th>\n",
       "      <th>1996-06</th>\n",
       "      <th>...</th>\n",
       "      <th>2017-07</th>\n",
       "      <th>2017-08</th>\n",
       "      <th>2017-09</th>\n",
       "      <th>2017-10</th>\n",
       "      <th>2017-11</th>\n",
       "      <th>2017-12</th>\n",
       "      <th>2018-01</th>\n",
       "      <th>2018-02</th>\n",
       "      <th>2018-03</th>\n",
       "      <th>2018-04</th>\n",
       "    </tr>\n",
       "  </thead>\n",
       "  <tbody>\n",
       "    <tr>\n",
       "      <th>11</th>\n",
       "      <td>71831</td>\n",
       "      <td>32162</td>\n",
       "      <td>The Villages</td>\n",
       "      <td>FL</td>\n",
       "      <td>The Villages</td>\n",
       "      <td>Sumter</td>\n",
       "      <td>12</td>\n",
       "      <td>101000.0</td>\n",
       "      <td>100700.0</td>\n",
       "      <td>100400.0</td>\n",
       "      <td>...</td>\n",
       "      <td>249900</td>\n",
       "      <td>250400</td>\n",
       "      <td>249900</td>\n",
       "      <td>248700</td>\n",
       "      <td>247500</td>\n",
       "      <td>247100</td>\n",
       "      <td>246800</td>\n",
       "      <td>247500</td>\n",
       "      <td>249800</td>\n",
       "      <td>251800</td>\n",
       "    </tr>\n",
       "    <tr>\n",
       "      <th>60</th>\n",
       "      <td>72463</td>\n",
       "      <td>33160</td>\n",
       "      <td>Sunny Isles Beach</td>\n",
       "      <td>FL</td>\n",
       "      <td>Miami-Fort Lauderdale</td>\n",
       "      <td>Miami-Dade</td>\n",
       "      <td>61</td>\n",
       "      <td>337300.0</td>\n",
       "      <td>337900.0</td>\n",
       "      <td>338300.0</td>\n",
       "      <td>...</td>\n",
       "      <td>1466200</td>\n",
       "      <td>1471000</td>\n",
       "      <td>1485400</td>\n",
       "      <td>1497700</td>\n",
       "      <td>1504200</td>\n",
       "      <td>1507600</td>\n",
       "      <td>1495800</td>\n",
       "      <td>1466200</td>\n",
       "      <td>1443900</td>\n",
       "      <td>1432300</td>\n",
       "    </tr>\n",
       "    <tr>\n",
       "      <th>82</th>\n",
       "      <td>72363</td>\n",
       "      <td>33025</td>\n",
       "      <td>Miramar</td>\n",
       "      <td>FL</td>\n",
       "      <td>Miami-Fort Lauderdale</td>\n",
       "      <td>Broward</td>\n",
       "      <td>83</td>\n",
       "      <td>111600.0</td>\n",
       "      <td>111700.0</td>\n",
       "      <td>111800.0</td>\n",
       "      <td>...</td>\n",
       "      <td>283500</td>\n",
       "      <td>286100</td>\n",
       "      <td>287800</td>\n",
       "      <td>288800</td>\n",
       "      <td>289700</td>\n",
       "      <td>291000</td>\n",
       "      <td>292500</td>\n",
       "      <td>294200</td>\n",
       "      <td>296400</td>\n",
       "      <td>298200</td>\n",
       "    </tr>\n",
       "    <tr>\n",
       "      <th>83</th>\n",
       "      <td>72578</td>\n",
       "      <td>33411</td>\n",
       "      <td>Royal Palm Beach</td>\n",
       "      <td>FL</td>\n",
       "      <td>Miami-Fort Lauderdale</td>\n",
       "      <td>Palm Beach</td>\n",
       "      <td>84</td>\n",
       "      <td>126800.0</td>\n",
       "      <td>126800.0</td>\n",
       "      <td>126800.0</td>\n",
       "      <td>...</td>\n",
       "      <td>297400</td>\n",
       "      <td>299300</td>\n",
       "      <td>301400</td>\n",
       "      <td>303300</td>\n",
       "      <td>304900</td>\n",
       "      <td>307100</td>\n",
       "      <td>309800</td>\n",
       "      <td>311700</td>\n",
       "      <td>312600</td>\n",
       "      <td>313100</td>\n",
       "    </tr>\n",
       "    <tr>\n",
       "      <th>84</th>\n",
       "      <td>72442</td>\n",
       "      <td>33139</td>\n",
       "      <td>Miami Beach</td>\n",
       "      <td>FL</td>\n",
       "      <td>Miami-Fort Lauderdale</td>\n",
       "      <td>Miami-Dade</td>\n",
       "      <td>85</td>\n",
       "      <td>480200.0</td>\n",
       "      <td>480700.0</td>\n",
       "      <td>481200.0</td>\n",
       "      <td>...</td>\n",
       "      <td>2917100</td>\n",
       "      <td>2925700</td>\n",
       "      <td>2942400</td>\n",
       "      <td>2958300</td>\n",
       "      <td>2946300</td>\n",
       "      <td>2912900</td>\n",
       "      <td>2900900</td>\n",
       "      <td>2923300</td>\n",
       "      <td>2933600</td>\n",
       "      <td>2914100</td>\n",
       "    </tr>\n",
       "    <tr>\n",
       "      <th>...</th>\n",
       "      <td>...</td>\n",
       "      <td>...</td>\n",
       "      <td>...</td>\n",
       "      <td>...</td>\n",
       "      <td>...</td>\n",
       "      <td>...</td>\n",
       "      <td>...</td>\n",
       "      <td>...</td>\n",
       "      <td>...</td>\n",
       "      <td>...</td>\n",
       "      <td>...</td>\n",
       "      <td>...</td>\n",
       "      <td>...</td>\n",
       "      <td>...</td>\n",
       "      <td>...</td>\n",
       "      <td>...</td>\n",
       "      <td>...</td>\n",
       "      <td>...</td>\n",
       "      <td>...</td>\n",
       "      <td>...</td>\n",
       "      <td>...</td>\n",
       "    </tr>\n",
       "    <tr>\n",
       "      <th>14250</th>\n",
       "      <td>73224</td>\n",
       "      <td>34797</td>\n",
       "      <td>Yalaha</td>\n",
       "      <td>FL</td>\n",
       "      <td>Orlando</td>\n",
       "      <td>Lake</td>\n",
       "      <td>14251</td>\n",
       "      <td>86100.0</td>\n",
       "      <td>86800.0</td>\n",
       "      <td>87400.0</td>\n",
       "      <td>...</td>\n",
       "      <td>174900</td>\n",
       "      <td>177100</td>\n",
       "      <td>179100</td>\n",
       "      <td>181500</td>\n",
       "      <td>184200</td>\n",
       "      <td>186200</td>\n",
       "      <td>187200</td>\n",
       "      <td>189000</td>\n",
       "      <td>191900</td>\n",
       "      <td>193500</td>\n",
       "    </tr>\n",
       "    <tr>\n",
       "      <th>14262</th>\n",
       "      <td>71852</td>\n",
       "      <td>32193</td>\n",
       "      <td>Welaka</td>\n",
       "      <td>FL</td>\n",
       "      <td>Palatka</td>\n",
       "      <td>Putnam</td>\n",
       "      <td>14263</td>\n",
       "      <td>53800.0</td>\n",
       "      <td>54100.0</td>\n",
       "      <td>54300.0</td>\n",
       "      <td>...</td>\n",
       "      <td>94400</td>\n",
       "      <td>99000</td>\n",
       "      <td>100800</td>\n",
       "      <td>101000</td>\n",
       "      <td>103000</td>\n",
       "      <td>105400</td>\n",
       "      <td>104900</td>\n",
       "      <td>106100</td>\n",
       "      <td>112600</td>\n",
       "      <td>118300</td>\n",
       "    </tr>\n",
       "    <tr>\n",
       "      <th>14315</th>\n",
       "      <td>72384</td>\n",
       "      <td>33051</td>\n",
       "      <td>Key Colony Beach</td>\n",
       "      <td>FL</td>\n",
       "      <td>Key West</td>\n",
       "      <td>Monroe</td>\n",
       "      <td>14316</td>\n",
       "      <td>202200.0</td>\n",
       "      <td>202800.0</td>\n",
       "      <td>203400.0</td>\n",
       "      <td>...</td>\n",
       "      <td>570200</td>\n",
       "      <td>564800</td>\n",
       "      <td>561100</td>\n",
       "      <td>557300</td>\n",
       "      <td>552300</td>\n",
       "      <td>545100</td>\n",
       "      <td>542300</td>\n",
       "      <td>551500</td>\n",
       "      <td>570900</td>\n",
       "      <td>585300</td>\n",
       "    </tr>\n",
       "    <tr>\n",
       "      <th>14558</th>\n",
       "      <td>72865</td>\n",
       "      <td>33855</td>\n",
       "      <td>Lake Wales</td>\n",
       "      <td>FL</td>\n",
       "      <td>Lakeland</td>\n",
       "      <td>Polk</td>\n",
       "      <td>14559</td>\n",
       "      <td>NaN</td>\n",
       "      <td>NaN</td>\n",
       "      <td>NaN</td>\n",
       "      <td>...</td>\n",
       "      <td>130400</td>\n",
       "      <td>131500</td>\n",
       "      <td>134800</td>\n",
       "      <td>137900</td>\n",
       "      <td>139400</td>\n",
       "      <td>140000</td>\n",
       "      <td>140000</td>\n",
       "      <td>140300</td>\n",
       "      <td>141900</td>\n",
       "      <td>143000</td>\n",
       "    </tr>\n",
       "    <tr>\n",
       "      <th>14600</th>\n",
       "      <td>72916</td>\n",
       "      <td>33924</td>\n",
       "      <td>Captiva</td>\n",
       "      <td>FL</td>\n",
       "      <td>Fort Myers</td>\n",
       "      <td>Lee</td>\n",
       "      <td>14601</td>\n",
       "      <td>345100.0</td>\n",
       "      <td>344200.0</td>\n",
       "      <td>343300.0</td>\n",
       "      <td>...</td>\n",
       "      <td>1001400</td>\n",
       "      <td>1004300</td>\n",
       "      <td>1006900</td>\n",
       "      <td>1017000</td>\n",
       "      <td>1026700</td>\n",
       "      <td>1024200</td>\n",
       "      <td>1018000</td>\n",
       "      <td>1022900</td>\n",
       "      <td>1044100</td>\n",
       "      <td>1067800</td>\n",
       "    </tr>\n",
       "  </tbody>\n",
       "</table>\n",
       "<p>785 rows × 272 columns</p>\n",
       "</div>"
      ],
      "text/plain": [
       "       RegionID  RegionName               City State                  Metro  \\\n",
       "11        71831       32162       The Villages    FL           The Villages   \n",
       "60        72463       33160  Sunny Isles Beach    FL  Miami-Fort Lauderdale   \n",
       "82        72363       33025            Miramar    FL  Miami-Fort Lauderdale   \n",
       "83        72578       33411   Royal Palm Beach    FL  Miami-Fort Lauderdale   \n",
       "84        72442       33139        Miami Beach    FL  Miami-Fort Lauderdale   \n",
       "...         ...         ...                ...   ...                    ...   \n",
       "14250     73224       34797             Yalaha    FL                Orlando   \n",
       "14262     71852       32193             Welaka    FL                Palatka   \n",
       "14315     72384       33051   Key Colony Beach    FL               Key West   \n",
       "14558     72865       33855         Lake Wales    FL               Lakeland   \n",
       "14600     72916       33924            Captiva    FL             Fort Myers   \n",
       "\n",
       "       CountyName  SizeRank   1996-04   1996-05   1996-06  ...  2017-07  \\\n",
       "11         Sumter        12  101000.0  100700.0  100400.0  ...   249900   \n",
       "60     Miami-Dade        61  337300.0  337900.0  338300.0  ...  1466200   \n",
       "82        Broward        83  111600.0  111700.0  111800.0  ...   283500   \n",
       "83     Palm Beach        84  126800.0  126800.0  126800.0  ...   297400   \n",
       "84     Miami-Dade        85  480200.0  480700.0  481200.0  ...  2917100   \n",
       "...           ...       ...       ...       ...       ...  ...      ...   \n",
       "14250        Lake     14251   86100.0   86800.0   87400.0  ...   174900   \n",
       "14262      Putnam     14263   53800.0   54100.0   54300.0  ...    94400   \n",
       "14315      Monroe     14316  202200.0  202800.0  203400.0  ...   570200   \n",
       "14558        Polk     14559       NaN       NaN       NaN  ...   130400   \n",
       "14600         Lee     14601  345100.0  344200.0  343300.0  ...  1001400   \n",
       "\n",
       "       2017-08  2017-09  2017-10  2017-11  2017-12  2018-01  2018-02  2018-03  \\\n",
       "11      250400   249900   248700   247500   247100   246800   247500   249800   \n",
       "60     1471000  1485400  1497700  1504200  1507600  1495800  1466200  1443900   \n",
       "82      286100   287800   288800   289700   291000   292500   294200   296400   \n",
       "83      299300   301400   303300   304900   307100   309800   311700   312600   \n",
       "84     2925700  2942400  2958300  2946300  2912900  2900900  2923300  2933600   \n",
       "...        ...      ...      ...      ...      ...      ...      ...      ...   \n",
       "14250   177100   179100   181500   184200   186200   187200   189000   191900   \n",
       "14262    99000   100800   101000   103000   105400   104900   106100   112600   \n",
       "14315   564800   561100   557300   552300   545100   542300   551500   570900   \n",
       "14558   131500   134800   137900   139400   140000   140000   140300   141900   \n",
       "14600  1004300  1006900  1017000  1026700  1024200  1018000  1022900  1044100   \n",
       "\n",
       "       2018-04  \n",
       "11      251800  \n",
       "60     1432300  \n",
       "82      298200  \n",
       "83      313100  \n",
       "84     2914100  \n",
       "...        ...  \n",
       "14250   193500  \n",
       "14262   118300  \n",
       "14315   585300  \n",
       "14558   143000  \n",
       "14600  1067800  \n",
       "\n",
       "[785 rows x 272 columns]"
      ]
     },
     "execution_count": 7,
     "metadata": {},
     "output_type": "execute_result"
    }
   ],
   "source": [
    "#Observing what our Florida dataset looks like\n",
    "\n",
    "florida"
   ]
  },
  {
   "cell_type": "markdown",
   "metadata": {},
   "source": [
    "## Number of ZipCodes for each Metro in Florida"
   ]
  },
  {
   "cell_type": "code",
   "execution_count": 8,
   "metadata": {},
   "outputs": [
    {
     "data": {
      "image/png": "[encoded data removed]",
      "text/plain": [
       "<Figure size 720x864 with 1 Axes>"
      ]
     },
     "metadata": {
      "needs_background": "light"
     },
     "output_type": "display_data"
    }
   ],
   "source": [
    "#Visualizing the value counts of zipcodes in each metro region in Florida\n",
    "\n",
    "fig, ax = plt.subplots(figsize=(10,12))\n",
    "\n",
    "y = [a for a in florida['Metro'].value_counts()]\n",
    "\n",
    "x = [a for a in florida['Metro'].value_counts().keys()]\n",
    "\n",
    "ax.barh(x,y);"
   ]
  },
  {
   "cell_type": "markdown",
   "metadata": {},
   "source": [
    "We can see above that the Miami-Fort Lauderdale region has the highest number of zipcodes."
   ]
  },
  {
   "cell_type": "markdown",
   "metadata": {},
   "source": [
    "## Selecting a ZipCode to build our Time Series model on"
   ]
  },
  {
   "cell_type": "markdown",
   "metadata": {},
   "source": [
    "We want to build a Time Series model to predict the future ROI for each zip code in Florida. But first, we will select one specific zipcode to build our time series model on. For this purpose, we decided to find the zipcode that has seen the highest growth in the 5 years since our last recorded date - April, 2018. i.e. We will find the zipcode which has grown the most between April,2015 and April,2018."
   ]
  },
  {
   "cell_type": "code",
   "execution_count": 9,
   "metadata": {},
   "outputs": [
    {
     "name": "stderr",
     "output_type": "stream",
     "text": [
      "<ipython-input-9-9a093817bc5b>:3: SettingWithCopyWarning: \n",
      "A value is trying to be set on a copy of a slice from a DataFrame.\n",
      "Try using .loc[row_indexer,col_indexer] = value instead\n",
      "\n",
      "See the caveats in the documentation: https://pandas.pydata.org/pandas-docs/stable/user_guide/indexing.html#returning-a-view-versus-a-copy\n",
      "  florida['3 yr ROI'] = None\n",
      "<ipython-input-9-9a093817bc5b>:4: SettingWithCopyWarning: \n",
      "A value is trying to be set on a copy of a slice from a DataFrame.\n",
      "Try using .loc[row_indexer,col_indexer] = value instead\n",
      "\n",
      "See the caveats in the documentation: https://pandas.pydata.org/pandas-docs/stable/user_guide/indexing.html#returning-a-view-versus-a-copy\n",
      "  florida['3 yr ROI'] = florida['2018-04'].apply(lambda x : x-florida['2015-04'])\n"
     ]
    }
   ],
   "source": [
    "#Creating a new column that shows the 5 year increase in value. From April, 2013 to April, 2018.\n",
    "\n",
    "florida['3 yr ROI'] = None\n",
    "florida['3 yr ROI'] = florida['2018-04'].apply(lambda x : x-florida['2015-04'])"
   ]
  },
  {
   "cell_type": "code",
   "execution_count": 10,
   "metadata": {},
   "outputs": [
    {
     "name": "stdout",
     "output_type": "stream",
     "text": [
      "Highest growing Zipcode since April 2015 is : 33480\n"
     ]
    }
   ],
   "source": [
    "#Identifying the ZipCode that grew the most between April,2013 and April,2018.\n",
    "\n",
    "roi_df = florida[['RegionName','3 yr ROI']].sort_values('3 yr ROI',ascending = False)\n",
    "\n",
    "print(f'Highest growing Zipcode since April 2015 is : {int(roi_df.iloc[0][0])}')"
   ]
  },
  {
   "cell_type": "markdown",
   "metadata": {},
   "source": [
    "We will run our first Time Series model on the ZipCode- 33480 to predict what its future value will be. Then we can run a similar model on other zipcodes in the state to identify which 5 zipcodes have the highest predicted ROI."
   ]
  },
  {
   "cell_type": "code",
   "execution_count": 11,
   "metadata": {},
   "outputs": [],
   "source": [
    "#Dataframe containining historical prices of the 33480 Zip Code.\n",
    "\n",
    "zip33480 = df[df['RegionName']==33480]"
   ]
  },
  {
   "cell_type": "code",
   "execution_count": 12,
   "metadata": {},
   "outputs": [],
   "source": [
    "# Time Series dataframe of 33480 Zip Code prices\n",
    "\n",
    "series33480 = melt_data(zip33480)"
   ]
  },
  {
   "cell_type": "code",
   "execution_count": 13,
   "metadata": {},
   "outputs": [
    {
     "data": {
      "text/html": [
       "<div>\n",
       "<style scoped>\n",
       "    .dataframe tbody tr th:only-of-type {\n",
       "        vertical-align: middle;\n",
       "    }\n",
       "\n",
       "    .dataframe tbody tr th {\n",
       "        vertical-align: top;\n",
       "    }\n",
       "\n",
       "    .dataframe thead th {\n",
       "        text-align: right;\n",
       "    }\n",
       "</style>\n",
       "<table border=\"1\" class=\"dataframe\">\n",
       "  <thead>\n",
       "    <tr style=\"text-align: right;\">\n",
       "      <th></th>\n",
       "      <th>value</th>\n",
       "    </tr>\n",
       "    <tr>\n",
       "      <th>time</th>\n",
       "      <th></th>\n",
       "    </tr>\n",
       "  </thead>\n",
       "  <tbody>\n",
       "    <tr>\n",
       "      <th>1996-04-01</th>\n",
       "      <td>958400.0</td>\n",
       "    </tr>\n",
       "    <tr>\n",
       "      <th>1996-05-01</th>\n",
       "      <td>958100.0</td>\n",
       "    </tr>\n",
       "    <tr>\n",
       "      <th>1996-06-01</th>\n",
       "      <td>957900.0</td>\n",
       "    </tr>\n",
       "    <tr>\n",
       "      <th>1996-07-01</th>\n",
       "      <td>957800.0</td>\n",
       "    </tr>\n",
       "    <tr>\n",
       "      <th>1996-08-01</th>\n",
       "      <td>958000.0</td>\n",
       "    </tr>\n",
       "    <tr>\n",
       "      <th>...</th>\n",
       "      <td>...</td>\n",
       "    </tr>\n",
       "    <tr>\n",
       "      <th>2017-12-01</th>\n",
       "      <td>4609000.0</td>\n",
       "    </tr>\n",
       "    <tr>\n",
       "      <th>2018-01-01</th>\n",
       "      <td>4626500.0</td>\n",
       "    </tr>\n",
       "    <tr>\n",
       "      <th>2018-02-01</th>\n",
       "      <td>4661200.0</td>\n",
       "    </tr>\n",
       "    <tr>\n",
       "      <th>2018-03-01</th>\n",
       "      <td>4692300.0</td>\n",
       "    </tr>\n",
       "    <tr>\n",
       "      <th>2018-04-01</th>\n",
       "      <td>4686200.0</td>\n",
       "    </tr>\n",
       "  </tbody>\n",
       "</table>\n",
       "<p>265 rows × 1 columns</p>\n",
       "</div>"
      ],
      "text/plain": [
       "                value\n",
       "time                 \n",
       "1996-04-01   958400.0\n",
       "1996-05-01   958100.0\n",
       "1996-06-01   957900.0\n",
       "1996-07-01   957800.0\n",
       "1996-08-01   958000.0\n",
       "...               ...\n",
       "2017-12-01  4609000.0\n",
       "2018-01-01  4626500.0\n",
       "2018-02-01  4661200.0\n",
       "2018-03-01  4692300.0\n",
       "2018-04-01  4686200.0\n",
       "\n",
       "[265 rows x 1 columns]"
      ]
     },
     "execution_count": 13,
     "metadata": {},
     "output_type": "execute_result"
    }
   ],
   "source": [
    "#Observing our Time Series dataframe\n",
    "\n",
    "series33480"
   ]
  },
  {
   "cell_type": "code",
   "execution_count": 14,
   "metadata": {},
   "outputs": [
    {
     "data": {
      "image/png": "[encoded data removed]",
      "text/plain": [
       "<Figure size 1440x864 with 1 Axes>"
      ]
     },
     "metadata": {
      "needs_background": "light"
     },
     "output_type": "display_data"
    }
   ],
   "source": [
    "#Visualizing our Time Series Data\n",
    "\n",
    "fig, ax = plt.subplots(figsize=(20,12))\n",
    "ax.plot(series33480)\n",
    "\n",
    "ax.set_xlabel('Year', fontsize=30)\n",
    "ax.set_ylabel('Price in 100,000($)',fontsize=20);"
   ]
  },
  {
   "cell_type": "markdown",
   "metadata": {},
   "source": [
    "We can see from above that after several years of growth in the early years of the 21st Century, prices seemed to have likely fallen due to the economic crisis that emerged in 2008. Since around 2011 though, there has been a dramatic increase in prices."
   ]
  },
  {
   "cell_type": "markdown",
   "metadata": {},
   "source": [
    "# Data Pre-Processing"
   ]
  },
  {
   "cell_type": "markdown",
   "metadata": {},
   "source": [
    "## Tests for Stationarity"
   ]
  },
  {
   "cell_type": "markdown",
   "metadata": {},
   "source": [
    "Time series models commonly operate with the assumption that the time series is **stationary**. i.e. Over a longer period of time, the series tends not to have a trend or seasonal effects. This means that if a time series that displays a particular behavior over time, it is highly likely that it will replicate similar behavior in the future. We can perform some tests for **Stationarity** to show if the time series is stationary."
   ]
  },
  {
   "cell_type": "markdown",
   "metadata": {},
   "source": [
    "### Looking at the Rolling Statistics"
   ]
  },
  {
   "cell_type": "code",
   "execution_count": 15,
   "metadata": {},
   "outputs": [],
   "source": [
    "roll_mean = series33480.rolling(window=8, center=False).mean()\n",
    "roll_std = series33480.rolling(window=8, center=False).std()"
   ]
  },
  {
   "cell_type": "code",
   "execution_count": 20,
   "metadata": {},
   "outputs": [
    {
     "data": {
      "image/png": "[encoded data removed]",
      "text/plain": [
       "<Figure size 864x504 with 1 Axes>"
      ]
     },
     "metadata": {
      "needs_background": "light"
     },
     "output_type": "display_data"
    }
   ],
   "source": [
    "fig = plt.figure(figsize=(12,7))\n",
    "plt.plot(series33480, color='blue', label='Original')\n",
    "plt.plot(roll_mean, color='red', label='Rolling Mean')\n",
    "plt.plot(roll_std, color='black', label = 'Rolling Std')\n",
    "plt.legend(loc='best')\n",
    "plt.title('Rolling Mean & Standard Deviation')\n",
    "plt.xlabel('Year')\n",
    "plt.show(block=False)"
   ]
  },
  {
   "cell_type": "markdown",
   "metadata": {},
   "source": [
    "We can see that our rolling mean increases over time. This means that our time series data is not stationary."
   ]
  },
  {
   "cell_type": "markdown",
   "metadata": {},
   "source": [
    "### The Dickey-Fuller Test"
   ]
  },
  {
   "cell_type": "markdown",
   "metadata": {},
   "source": [
    "Let's perform a Dickey-Fuller test to prove statistically that the time series is not stationary. For the Dickey-Fuller test, the null hypothesis is that the time series is not stationary. Therefore, in order to reject the null hypothesis, we will want a p-value of less than 0.05."
   ]
  },
  {
   "cell_type": "code",
   "execution_count": 21,
   "metadata": {},
   "outputs": [
    {
     "name": "stdout",
     "output_type": "stream",
     "text": [
      "Results of Dickey-Fuller test: \n",
      "\n",
      "Test Statistic                  -1.741387\n",
      "p-value                          0.409925\n",
      "#Lags Used                      16.000000\n",
      "Number of Observations Used    248.000000\n",
      "Critical Value (1%)             -3.456996\n",
      "Critical Value (5%)             -2.873266\n",
      "Critical Value (10%)            -2.573019\n",
      "dtype: float64\n"
     ]
    }
   ],
   "source": [
    "from statsmodels.tsa.stattools import adfuller\n",
    "\n",
    "dftest = adfuller(series33480)\n",
    "\n",
    "# Extract and display test results in a user friendly manner\n",
    "dfoutput = pd.Series(dftest[0:4], index=['Test Statistic', 'p-value', '#Lags Used', 'Number of Observations Used'])\n",
    "for key,value in dftest[4].items():\n",
    "    dfoutput['Critical Value (%s)'%key] = value\n",
    "\n",
    "print ('Results of Dickey-Fuller test: \\n')\n",
    "\n",
    "print(dfoutput)"
   ]
  },
  {
   "cell_type": "markdown",
   "metadata": {},
   "source": [
    "We can see from above that the test returned a p-value of 0.49. This is much higher than the 0.05 cutoff that was necessary to reject the null hypothesis. Therefore we fail to reject the null hypothesis and can conclude that the time series is not stationary. Of course this is quite intuitive just by looking at the graph, but it is always good practice to prove this statistically."
   ]
  },
  {
   "cell_type": "markdown",
   "metadata": {},
   "source": [
    "# Making our Time Series Stationary"
   ]
  },
  {
   "cell_type": "markdown",
   "metadata": {},
   "source": [
    "As mentioned earlier, most models work under the assumption that the Time Series is stationary. Therefore we will need to make our current time series stationary. A common method that is used to eliminate this problem is **Differencing**."
   ]
  },
  {
   "cell_type": "markdown",
   "metadata": {},
   "source": [
    "## Differencing"
   ]
  },
  {
   "cell_type": "markdown",
   "metadata": {},
   "source": [
    "In order to difference our time series, we will need to decide upon the best period value at which we want to do our differencing. Therefore we will perform a loop function to iterate over period values of 0 to 24 to find the smallest period that returns a p-value below 0.05."
   ]
  },
  {
   "cell_type": "code",
   "execution_count": 40,
   "metadata": {},
   "outputs": [
    {
     "name": "stderr",
     "output_type": "stream",
     "text": [
      "/Users/sanjitvarma/opt/anaconda3/envs/learn-env/lib/python3.8/site-packages/statsmodels/regression/linear_model.py:903: RuntimeWarning: divide by zero encountered in log\n",
      "  llf = -nobs2*np.log(2*np.pi) - nobs2*np.log(ssr / nobs) - nobs2\n"
     ]
    },
    {
     "name": "stdout",
     "output_type": "stream",
     "text": [
      "0 nan\n",
      "1 0.343131540861913\n",
      "2 0.45148878461964975\n",
      "3 0.3498779332973291\n",
      "4 0.2657516719792066\n",
      "5 0.2619961261754454\n",
      "6 0.30968491386363906\n",
      "7 0.19910839223251842\n",
      "8 0.2115094850164156\n",
      "9 0.37267840416752657\n",
      "10 0.08902492361440495\n",
      "11 0.14508366097604297\n",
      "12 0.17102021265075695\n",
      "13 0.06528026593849018\n",
      "14 0.03683844039720054\n",
      "15 0.028217511106596708\n",
      "16 0.20034873851597862\n",
      "17 0.39427111907187\n",
      "18 0.3923268584409646\n",
      "19 0.08066468289972795\n",
      "20 0.15143785859299064\n",
      "21 0.0324766436581636\n",
      "22 0.0827926852867667\n",
      "23 0.02497432287830202\n",
      "24 0.03767554534847937\n"
     ]
    }
   ],
   "source": [
    "from statsmodels.tsa.stattools import adfuller\n",
    "\n",
    "def differencer(data):\n",
    "    for i in range(0,25):\n",
    "        difference = data.diff(periods=i)\n",
    "        dftest = adfuller(difference[i:])\n",
    "        print(i,dftest[1])\n",
    "\n",
    "differencer(series33480)"
   ]
  },
  {
   "cell_type": "markdown",
   "metadata": {},
   "source": [
    "We can see from the above results that a period value of 14 is the smallest period that returns a p-value of less than 0.05. Therefore this is the period value we will use to perform differencing on our time series."
   ]
  },
  {
   "cell_type": "code",
   "execution_count": 41,
   "metadata": {},
   "outputs": [],
   "source": [
    "#We use .dropna() to remove the first 14 values which will return NaN.\n",
    "series_diff= series33480.diff(periods=14).dropna()"
   ]
  },
  {
   "cell_type": "markdown",
   "metadata": {},
   "source": [
    "Now that we have a differenced time series, let us perform our tests to check for stationarity."
   ]
  },
  {
   "cell_type": "markdown",
   "metadata": {},
   "source": [
    "## Testing our Differenced Series for Stationarity"
   ]
  },
  {
   "cell_type": "markdown",
   "metadata": {},
   "source": [
    "### Differenced Time Series Rolling Statistics"
   ]
  },
  {
   "cell_type": "code",
   "execution_count": 42,
   "metadata": {},
   "outputs": [],
   "source": [
    "roll_mean_diff = series_diff.rolling(window=8, center=False).mean()\n",
    "roll_std_diff = series_diff.rolling(window=8, center=False).std()"
   ]
  },
  {
   "cell_type": "code",
   "execution_count": 43,
   "metadata": {},
   "outputs": [
    {
     "data": {
      "image/png": "[encoded data removed]",
      "text/plain": [
       "<Figure size 864x504 with 1 Axes>"
      ]
     },
     "metadata": {
      "needs_background": "light"
     },
     "output_type": "display_data"
    }
   ],
   "source": [
    "fig = plt.figure(figsize=(12,7))\n",
    "plt.plot(series_diff, color='blue', label='Differenced Series')\n",
    "plt.plot(roll_mean_diff, color='red', label='Differenced Rolling Mean')\n",
    "plt.plot(roll_std_diff, color='black', label = 'Differenced Rolling Std')\n",
    "plt.legend(loc='best')\n",
    "plt.title('Differenced Rolling Mean & Standard Deviation')\n",
    "plt.xlabel('Year')\n",
    "plt.show(block=False)"
   ]
  },
  {
   "cell_type": "markdown",
   "metadata": {},
   "source": [
    "There is a significant drop in the rolling mean of our differenced series during the financial crisis that occurred in 2008. But the rolling mean picks back up to indicate possible stationarity over time. We can confirm this statistically by performing the Dickey-Fuller test."
   ]
  },
  {
   "cell_type": "markdown",
   "metadata": {},
   "source": [
    "### Dickey-Fuller Test on Differenced Time Series"
   ]
  },
  {
   "cell_type": "markdown",
   "metadata": {},
   "source": [
    "Given that the null hypothesis is that the series is not stationary, we need a p-value of less than 0.05 to reject it."
   ]
  },
  {
   "cell_type": "code",
   "execution_count": 45,
   "metadata": {},
   "outputs": [
    {
     "name": "stdout",
     "output_type": "stream",
     "text": [
      "Results of Dickey-Fuller test: \n",
      "\n",
      "Test Statistic                  -2.979656\n",
      "p-value                          0.036838\n",
      "#Lags Used                      15.000000\n",
      "Number of Observations Used    235.000000\n",
      "dtype: float64\n"
     ]
    }
   ],
   "source": [
    "dftest_diff = adfuller(series_diff)\n",
    "\n",
    "# Extract and display test results in a user friendly manner\n",
    "dfoutput_diff = pd.Series(dftest_diff[0:4], index=['Test Statistic', 'p-value', '#Lags Used', 'Number of Observations Used'])\n",
    "for key,value in dftest[4].items():\n",
    "    dfoutput['Critical Value (%s)'%key] = value\n",
    "\n",
    "print ('Results of Dickey-Fuller test: \\n')\n",
    "\n",
    "print(dfoutput_diff)"
   ]
  },
  {
   "cell_type": "markdown",
   "metadata": {},
   "source": [
    "A p-value of 0.036838 is less than 0.05 and therefore we can reject the null hypothesis and conclude that the series is now stationary."
   ]
  },
  {
   "cell_type": "code",
   "execution_count": null,
   "metadata": {},
   "outputs": [],
   "source": []
  }
 ],
 "metadata": {
  "kernelspec": {
   "display_name": "Python (learn-env)",
   "language": "python",
   "name": "learn-env"
  },
  "language_info": {
   "codemirror_mode": {
    "name": "ipython",
    "version": 3
   },
   "file_extension": ".py",
   "mimetype": "text/x-python",
   "name": "python",
   "nbconvert_exporter": "python",
   "pygments_lexer": "ipython3",
   "version": "3.8.5"
  }
 },
 "nbformat": 4,
 "nbformat_minor": 4
}
