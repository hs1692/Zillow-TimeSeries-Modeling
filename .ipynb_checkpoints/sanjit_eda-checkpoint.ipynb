{
 "cells": [
  {
   "cell_type": "markdown",
   "metadata": {},
   "source": [
    "# Notebook Setup"
   ]
  },
  {
   "cell_type": "code",
   "execution_count": 170,
   "metadata": {},
   "outputs": [],
   "source": [
    "import numpy as np\n",
    "import pandas as pd\n",
    "import matplotlib.pyplot as plt\n",
    "%matplotlib inline\n",
    "import statsmodels.api as sm\n",
    "\n",
    "\n",
    "from statsmodels.tsa.arima_model import ARMA\n",
    "from statsmodels.tsa.stattools import adfuller\n",
    "from sklearn.model_selection import TimeSeriesSplit\n",
    "\n",
    "from keras.models import Sequential\n",
    "from keras.layers import LSTM, Dense, Dropout\n",
    "\n",
    "\n",
    "\n",
    "\n",
    "import warnings\n",
    "warnings.filterwarnings('ignore')\n",
    "\n",
    "from user_functions import *"
   ]
  },
  {
   "cell_type": "code",
   "execution_count": 183,
   "metadata": {},
   "outputs": [],
   "source": [
    "# Loading our dataset\n",
    "df = pd.read_csv('data/zillow_data.csv')"
   ]
  },
  {
   "cell_type": "markdown",
   "metadata": {},
   "source": [
    "# EDA"
   ]
  },
  {
   "cell_type": "code",
   "execution_count": 184,
   "metadata": {
    "scrolled": true
   },
   "outputs": [
    {
     "data": {
      "text/html": [
       "<div>\n",
       "<style scoped>\n",
       "    .dataframe tbody tr th:only-of-type {\n",
       "        vertical-align: middle;\n",
       "    }\n",
       "\n",
       "    .dataframe tbody tr th {\n",
       "        vertical-align: top;\n",
       "    }\n",
       "\n",
       "    .dataframe thead th {\n",
       "        text-align: right;\n",
       "    }\n",
       "</style>\n",
       "<table border=\"1\" class=\"dataframe\">\n",
       "  <thead>\n",
       "    <tr style=\"text-align: right;\">\n",
       "      <th></th>\n",
       "      <th>RegionID</th>\n",
       "      <th>RegionName</th>\n",
       "      <th>City</th>\n",
       "      <th>State</th>\n",
       "      <th>Metro</th>\n",
       "      <th>CountyName</th>\n",
       "      <th>SizeRank</th>\n",
       "      <th>1996-04</th>\n",
       "      <th>1996-05</th>\n",
       "      <th>1996-06</th>\n",
       "      <th>...</th>\n",
       "      <th>2017-07</th>\n",
       "      <th>2017-08</th>\n",
       "      <th>2017-09</th>\n",
       "      <th>2017-10</th>\n",
       "      <th>2017-11</th>\n",
       "      <th>2017-12</th>\n",
       "      <th>2018-01</th>\n",
       "      <th>2018-02</th>\n",
       "      <th>2018-03</th>\n",
       "      <th>2018-04</th>\n",
       "    </tr>\n",
       "  </thead>\n",
       "  <tbody>\n",
       "    <tr>\n",
       "      <th>0</th>\n",
       "      <td>84654</td>\n",
       "      <td>60657</td>\n",
       "      <td>Chicago</td>\n",
       "      <td>IL</td>\n",
       "      <td>Chicago</td>\n",
       "      <td>Cook</td>\n",
       "      <td>1</td>\n",
       "      <td>334200.0</td>\n",
       "      <td>335400.0</td>\n",
       "      <td>336500.0</td>\n",
       "      <td>...</td>\n",
       "      <td>1005500</td>\n",
       "      <td>1007500</td>\n",
       "      <td>1007800</td>\n",
       "      <td>1009600</td>\n",
       "      <td>1013300</td>\n",
       "      <td>1018700</td>\n",
       "      <td>1024400</td>\n",
       "      <td>1030700</td>\n",
       "      <td>1033800</td>\n",
       "      <td>1030600</td>\n",
       "    </tr>\n",
       "    <tr>\n",
       "      <th>1</th>\n",
       "      <td>90668</td>\n",
       "      <td>75070</td>\n",
       "      <td>McKinney</td>\n",
       "      <td>TX</td>\n",
       "      <td>Dallas-Fort Worth</td>\n",
       "      <td>Collin</td>\n",
       "      <td>2</td>\n",
       "      <td>235700.0</td>\n",
       "      <td>236900.0</td>\n",
       "      <td>236700.0</td>\n",
       "      <td>...</td>\n",
       "      <td>308000</td>\n",
       "      <td>310000</td>\n",
       "      <td>312500</td>\n",
       "      <td>314100</td>\n",
       "      <td>315000</td>\n",
       "      <td>316600</td>\n",
       "      <td>318100</td>\n",
       "      <td>319600</td>\n",
       "      <td>321100</td>\n",
       "      <td>321800</td>\n",
       "    </tr>\n",
       "    <tr>\n",
       "      <th>2</th>\n",
       "      <td>91982</td>\n",
       "      <td>77494</td>\n",
       "      <td>Katy</td>\n",
       "      <td>TX</td>\n",
       "      <td>Houston</td>\n",
       "      <td>Harris</td>\n",
       "      <td>3</td>\n",
       "      <td>210400.0</td>\n",
       "      <td>212200.0</td>\n",
       "      <td>212200.0</td>\n",
       "      <td>...</td>\n",
       "      <td>321000</td>\n",
       "      <td>320600</td>\n",
       "      <td>320200</td>\n",
       "      <td>320400</td>\n",
       "      <td>320800</td>\n",
       "      <td>321200</td>\n",
       "      <td>321200</td>\n",
       "      <td>323000</td>\n",
       "      <td>326900</td>\n",
       "      <td>329900</td>\n",
       "    </tr>\n",
       "    <tr>\n",
       "      <th>3</th>\n",
       "      <td>84616</td>\n",
       "      <td>60614</td>\n",
       "      <td>Chicago</td>\n",
       "      <td>IL</td>\n",
       "      <td>Chicago</td>\n",
       "      <td>Cook</td>\n",
       "      <td>4</td>\n",
       "      <td>498100.0</td>\n",
       "      <td>500900.0</td>\n",
       "      <td>503100.0</td>\n",
       "      <td>...</td>\n",
       "      <td>1289800</td>\n",
       "      <td>1287700</td>\n",
       "      <td>1287400</td>\n",
       "      <td>1291500</td>\n",
       "      <td>1296600</td>\n",
       "      <td>1299000</td>\n",
       "      <td>1302700</td>\n",
       "      <td>1306400</td>\n",
       "      <td>1308500</td>\n",
       "      <td>1307000</td>\n",
       "    </tr>\n",
       "    <tr>\n",
       "      <th>4</th>\n",
       "      <td>93144</td>\n",
       "      <td>79936</td>\n",
       "      <td>El Paso</td>\n",
       "      <td>TX</td>\n",
       "      <td>El Paso</td>\n",
       "      <td>El Paso</td>\n",
       "      <td>5</td>\n",
       "      <td>77300.0</td>\n",
       "      <td>77300.0</td>\n",
       "      <td>77300.0</td>\n",
       "      <td>...</td>\n",
       "      <td>119100</td>\n",
       "      <td>119400</td>\n",
       "      <td>120000</td>\n",
       "      <td>120300</td>\n",
       "      <td>120300</td>\n",
       "      <td>120300</td>\n",
       "      <td>120300</td>\n",
       "      <td>120500</td>\n",
       "      <td>121000</td>\n",
       "      <td>121500</td>\n",
       "    </tr>\n",
       "  </tbody>\n",
       "</table>\n",
       "<p>5 rows × 272 columns</p>\n",
       "</div>"
      ],
      "text/plain": [
       "   RegionID  RegionName      City State              Metro CountyName  \\\n",
       "0     84654       60657   Chicago    IL            Chicago       Cook   \n",
       "1     90668       75070  McKinney    TX  Dallas-Fort Worth     Collin   \n",
       "2     91982       77494      Katy    TX            Houston     Harris   \n",
       "3     84616       60614   Chicago    IL            Chicago       Cook   \n",
       "4     93144       79936   El Paso    TX            El Paso    El Paso   \n",
       "\n",
       "   SizeRank   1996-04   1996-05   1996-06  ...  2017-07  2017-08  2017-09  \\\n",
       "0         1  334200.0  335400.0  336500.0  ...  1005500  1007500  1007800   \n",
       "1         2  235700.0  236900.0  236700.0  ...   308000   310000   312500   \n",
       "2         3  210400.0  212200.0  212200.0  ...   321000   320600   320200   \n",
       "3         4  498100.0  500900.0  503100.0  ...  1289800  1287700  1287400   \n",
       "4         5   77300.0   77300.0   77300.0  ...   119100   119400   120000   \n",
       "\n",
       "   2017-10  2017-11  2017-12  2018-01  2018-02  2018-03  2018-04  \n",
       "0  1009600  1013300  1018700  1024400  1030700  1033800  1030600  \n",
       "1   314100   315000   316600   318100   319600   321100   321800  \n",
       "2   320400   320800   321200   321200   323000   326900   329900  \n",
       "3  1291500  1296600  1299000  1302700  1306400  1308500  1307000  \n",
       "4   120300   120300   120300   120300   120500   121000   121500  \n",
       "\n",
       "[5 rows x 272 columns]"
      ]
     },
     "execution_count": 184,
     "metadata": {},
     "output_type": "execute_result"
    }
   ],
   "source": [
    "#Observing what our dataset looks like\n",
    "df.head()"
   ]
  },
  {
   "cell_type": "code",
   "execution_count": 185,
   "metadata": {},
   "outputs": [
    {
     "name": "stdout",
     "output_type": "stream",
     "text": [
      "<class 'pandas.core.frame.DataFrame'>\n",
      "RangeIndex: 14723 entries, 0 to 14722\n",
      "Columns: 272 entries, RegionID to 2018-04\n",
      "dtypes: float64(219), int64(49), object(4)\n",
      "memory usage: 30.6+ MB\n"
     ]
    }
   ],
   "source": [
    "df.info()"
   ]
  },
  {
   "cell_type": "markdown",
   "metadata": {},
   "source": [
    "# Data Analysis"
   ]
  },
  {
   "cell_type": "markdown",
   "metadata": {},
   "source": [
    "## Narrowing the scope of our project"
   ]
  },
  {
   "cell_type": "markdown",
   "metadata": {},
   "source": [
    "Our client is looking to purchase a home in Florida. We want to identify the best 5 Zip Codes which we believe will have the highest ROI after 3 years of purchase. i.e. We want the zipcodes that we believe will appreciate the most in value. These predictions will be mades using Time Series modeling."
   ]
  },
  {
   "cell_type": "markdown",
   "metadata": {},
   "source": [
    "### Looking at our Florida data"
   ]
  },
  {
   "cell_type": "code",
   "execution_count": 5,
   "metadata": {},
   "outputs": [],
   "source": [
    "#Dataframe containing only zips from Florida\n",
    "florida =  df[df['State']=='FL']"
   ]
  },
  {
   "cell_type": "code",
   "execution_count": 6,
   "metadata": {},
   "outputs": [
    {
     "data": {
      "text/html": [
       "<div>\n",
       "<style scoped>\n",
       "    .dataframe tbody tr th:only-of-type {\n",
       "        vertical-align: middle;\n",
       "    }\n",
       "\n",
       "    .dataframe tbody tr th {\n",
       "        vertical-align: top;\n",
       "    }\n",
       "\n",
       "    .dataframe thead th {\n",
       "        text-align: right;\n",
       "    }\n",
       "</style>\n",
       "<table border=\"1\" class=\"dataframe\">\n",
       "  <thead>\n",
       "    <tr style=\"text-align: right;\">\n",
       "      <th></th>\n",
       "      <th>RegionID</th>\n",
       "      <th>RegionName</th>\n",
       "      <th>City</th>\n",
       "      <th>State</th>\n",
       "      <th>Metro</th>\n",
       "      <th>CountyName</th>\n",
       "      <th>SizeRank</th>\n",
       "      <th>1996-04</th>\n",
       "      <th>1996-05</th>\n",
       "      <th>1996-06</th>\n",
       "      <th>...</th>\n",
       "      <th>2017-07</th>\n",
       "      <th>2017-08</th>\n",
       "      <th>2017-09</th>\n",
       "      <th>2017-10</th>\n",
       "      <th>2017-11</th>\n",
       "      <th>2017-12</th>\n",
       "      <th>2018-01</th>\n",
       "      <th>2018-02</th>\n",
       "      <th>2018-03</th>\n",
       "      <th>2018-04</th>\n",
       "    </tr>\n",
       "  </thead>\n",
       "  <tbody>\n",
       "    <tr>\n",
       "      <th>11</th>\n",
       "      <td>71831</td>\n",
       "      <td>32162</td>\n",
       "      <td>The Villages</td>\n",
       "      <td>FL</td>\n",
       "      <td>The Villages</td>\n",
       "      <td>Sumter</td>\n",
       "      <td>12</td>\n",
       "      <td>101000.0</td>\n",
       "      <td>100700.0</td>\n",
       "      <td>100400.0</td>\n",
       "      <td>...</td>\n",
       "      <td>249900</td>\n",
       "      <td>250400</td>\n",
       "      <td>249900</td>\n",
       "      <td>248700</td>\n",
       "      <td>247500</td>\n",
       "      <td>247100</td>\n",
       "      <td>246800</td>\n",
       "      <td>247500</td>\n",
       "      <td>249800</td>\n",
       "      <td>251800</td>\n",
       "    </tr>\n",
       "    <tr>\n",
       "      <th>60</th>\n",
       "      <td>72463</td>\n",
       "      <td>33160</td>\n",
       "      <td>Sunny Isles Beach</td>\n",
       "      <td>FL</td>\n",
       "      <td>Miami-Fort Lauderdale</td>\n",
       "      <td>Miami-Dade</td>\n",
       "      <td>61</td>\n",
       "      <td>337300.0</td>\n",
       "      <td>337900.0</td>\n",
       "      <td>338300.0</td>\n",
       "      <td>...</td>\n",
       "      <td>1466200</td>\n",
       "      <td>1471000</td>\n",
       "      <td>1485400</td>\n",
       "      <td>1497700</td>\n",
       "      <td>1504200</td>\n",
       "      <td>1507600</td>\n",
       "      <td>1495800</td>\n",
       "      <td>1466200</td>\n",
       "      <td>1443900</td>\n",
       "      <td>1432300</td>\n",
       "    </tr>\n",
       "    <tr>\n",
       "      <th>82</th>\n",
       "      <td>72363</td>\n",
       "      <td>33025</td>\n",
       "      <td>Miramar</td>\n",
       "      <td>FL</td>\n",
       "      <td>Miami-Fort Lauderdale</td>\n",
       "      <td>Broward</td>\n",
       "      <td>83</td>\n",
       "      <td>111600.0</td>\n",
       "      <td>111700.0</td>\n",
       "      <td>111800.0</td>\n",
       "      <td>...</td>\n",
       "      <td>283500</td>\n",
       "      <td>286100</td>\n",
       "      <td>287800</td>\n",
       "      <td>288800</td>\n",
       "      <td>289700</td>\n",
       "      <td>291000</td>\n",
       "      <td>292500</td>\n",
       "      <td>294200</td>\n",
       "      <td>296400</td>\n",
       "      <td>298200</td>\n",
       "    </tr>\n",
       "    <tr>\n",
       "      <th>83</th>\n",
       "      <td>72578</td>\n",
       "      <td>33411</td>\n",
       "      <td>Royal Palm Beach</td>\n",
       "      <td>FL</td>\n",
       "      <td>Miami-Fort Lauderdale</td>\n",
       "      <td>Palm Beach</td>\n",
       "      <td>84</td>\n",
       "      <td>126800.0</td>\n",
       "      <td>126800.0</td>\n",
       "      <td>126800.0</td>\n",
       "      <td>...</td>\n",
       "      <td>297400</td>\n",
       "      <td>299300</td>\n",
       "      <td>301400</td>\n",
       "      <td>303300</td>\n",
       "      <td>304900</td>\n",
       "      <td>307100</td>\n",
       "      <td>309800</td>\n",
       "      <td>311700</td>\n",
       "      <td>312600</td>\n",
       "      <td>313100</td>\n",
       "    </tr>\n",
       "    <tr>\n",
       "      <th>84</th>\n",
       "      <td>72442</td>\n",
       "      <td>33139</td>\n",
       "      <td>Miami Beach</td>\n",
       "      <td>FL</td>\n",
       "      <td>Miami-Fort Lauderdale</td>\n",
       "      <td>Miami-Dade</td>\n",
       "      <td>85</td>\n",
       "      <td>480200.0</td>\n",
       "      <td>480700.0</td>\n",
       "      <td>481200.0</td>\n",
       "      <td>...</td>\n",
       "      <td>2917100</td>\n",
       "      <td>2925700</td>\n",
       "      <td>2942400</td>\n",
       "      <td>2958300</td>\n",
       "      <td>2946300</td>\n",
       "      <td>2912900</td>\n",
       "      <td>2900900</td>\n",
       "      <td>2923300</td>\n",
       "      <td>2933600</td>\n",
       "      <td>2914100</td>\n",
       "    </tr>\n",
       "    <tr>\n",
       "      <th>...</th>\n",
       "      <td>...</td>\n",
       "      <td>...</td>\n",
       "      <td>...</td>\n",
       "      <td>...</td>\n",
       "      <td>...</td>\n",
       "      <td>...</td>\n",
       "      <td>...</td>\n",
       "      <td>...</td>\n",
       "      <td>...</td>\n",
       "      <td>...</td>\n",
       "      <td>...</td>\n",
       "      <td>...</td>\n",
       "      <td>...</td>\n",
       "      <td>...</td>\n",
       "      <td>...</td>\n",
       "      <td>...</td>\n",
       "      <td>...</td>\n",
       "      <td>...</td>\n",
       "      <td>...</td>\n",
       "      <td>...</td>\n",
       "      <td>...</td>\n",
       "    </tr>\n",
       "    <tr>\n",
       "      <th>14250</th>\n",
       "      <td>73224</td>\n",
       "      <td>34797</td>\n",
       "      <td>Yalaha</td>\n",
       "      <td>FL</td>\n",
       "      <td>Orlando</td>\n",
       "      <td>Lake</td>\n",
       "      <td>14251</td>\n",
       "      <td>86100.0</td>\n",
       "      <td>86800.0</td>\n",
       "      <td>87400.0</td>\n",
       "      <td>...</td>\n",
       "      <td>174900</td>\n",
       "      <td>177100</td>\n",
       "      <td>179100</td>\n",
       "      <td>181500</td>\n",
       "      <td>184200</td>\n",
       "      <td>186200</td>\n",
       "      <td>187200</td>\n",
       "      <td>189000</td>\n",
       "      <td>191900</td>\n",
       "      <td>193500</td>\n",
       "    </tr>\n",
       "    <tr>\n",
       "      <th>14262</th>\n",
       "      <td>71852</td>\n",
       "      <td>32193</td>\n",
       "      <td>Welaka</td>\n",
       "      <td>FL</td>\n",
       "      <td>Palatka</td>\n",
       "      <td>Putnam</td>\n",
       "      <td>14263</td>\n",
       "      <td>53800.0</td>\n",
       "      <td>54100.0</td>\n",
       "      <td>54300.0</td>\n",
       "      <td>...</td>\n",
       "      <td>94400</td>\n",
       "      <td>99000</td>\n",
       "      <td>100800</td>\n",
       "      <td>101000</td>\n",
       "      <td>103000</td>\n",
       "      <td>105400</td>\n",
       "      <td>104900</td>\n",
       "      <td>106100</td>\n",
       "      <td>112600</td>\n",
       "      <td>118300</td>\n",
       "    </tr>\n",
       "    <tr>\n",
       "      <th>14315</th>\n",
       "      <td>72384</td>\n",
       "      <td>33051</td>\n",
       "      <td>Key Colony Beach</td>\n",
       "      <td>FL</td>\n",
       "      <td>Key West</td>\n",
       "      <td>Monroe</td>\n",
       "      <td>14316</td>\n",
       "      <td>202200.0</td>\n",
       "      <td>202800.0</td>\n",
       "      <td>203400.0</td>\n",
       "      <td>...</td>\n",
       "      <td>570200</td>\n",
       "      <td>564800</td>\n",
       "      <td>561100</td>\n",
       "      <td>557300</td>\n",
       "      <td>552300</td>\n",
       "      <td>545100</td>\n",
       "      <td>542300</td>\n",
       "      <td>551500</td>\n",
       "      <td>570900</td>\n",
       "      <td>585300</td>\n",
       "    </tr>\n",
       "    <tr>\n",
       "      <th>14558</th>\n",
       "      <td>72865</td>\n",
       "      <td>33855</td>\n",
       "      <td>Lake Wales</td>\n",
       "      <td>FL</td>\n",
       "      <td>Lakeland</td>\n",
       "      <td>Polk</td>\n",
       "      <td>14559</td>\n",
       "      <td>NaN</td>\n",
       "      <td>NaN</td>\n",
       "      <td>NaN</td>\n",
       "      <td>...</td>\n",
       "      <td>130400</td>\n",
       "      <td>131500</td>\n",
       "      <td>134800</td>\n",
       "      <td>137900</td>\n",
       "      <td>139400</td>\n",
       "      <td>140000</td>\n",
       "      <td>140000</td>\n",
       "      <td>140300</td>\n",
       "      <td>141900</td>\n",
       "      <td>143000</td>\n",
       "    </tr>\n",
       "    <tr>\n",
       "      <th>14600</th>\n",
       "      <td>72916</td>\n",
       "      <td>33924</td>\n",
       "      <td>Captiva</td>\n",
       "      <td>FL</td>\n",
       "      <td>Fort Myers</td>\n",
       "      <td>Lee</td>\n",
       "      <td>14601</td>\n",
       "      <td>345100.0</td>\n",
       "      <td>344200.0</td>\n",
       "      <td>343300.0</td>\n",
       "      <td>...</td>\n",
       "      <td>1001400</td>\n",
       "      <td>1004300</td>\n",
       "      <td>1006900</td>\n",
       "      <td>1017000</td>\n",
       "      <td>1026700</td>\n",
       "      <td>1024200</td>\n",
       "      <td>1018000</td>\n",
       "      <td>1022900</td>\n",
       "      <td>1044100</td>\n",
       "      <td>1067800</td>\n",
       "    </tr>\n",
       "  </tbody>\n",
       "</table>\n",
       "<p>785 rows × 272 columns</p>\n",
       "</div>"
      ],
      "text/plain": [
       "       RegionID  RegionName               City State                  Metro  \\\n",
       "11        71831       32162       The Villages    FL           The Villages   \n",
       "60        72463       33160  Sunny Isles Beach    FL  Miami-Fort Lauderdale   \n",
       "82        72363       33025            Miramar    FL  Miami-Fort Lauderdale   \n",
       "83        72578       33411   Royal Palm Beach    FL  Miami-Fort Lauderdale   \n",
       "84        72442       33139        Miami Beach    FL  Miami-Fort Lauderdale   \n",
       "...         ...         ...                ...   ...                    ...   \n",
       "14250     73224       34797             Yalaha    FL                Orlando   \n",
       "14262     71852       32193             Welaka    FL                Palatka   \n",
       "14315     72384       33051   Key Colony Beach    FL               Key West   \n",
       "14558     72865       33855         Lake Wales    FL               Lakeland   \n",
       "14600     72916       33924            Captiva    FL             Fort Myers   \n",
       "\n",
       "       CountyName  SizeRank   1996-04   1996-05   1996-06  ...  2017-07  \\\n",
       "11         Sumter        12  101000.0  100700.0  100400.0  ...   249900   \n",
       "60     Miami-Dade        61  337300.0  337900.0  338300.0  ...  1466200   \n",
       "82        Broward        83  111600.0  111700.0  111800.0  ...   283500   \n",
       "83     Palm Beach        84  126800.0  126800.0  126800.0  ...   297400   \n",
       "84     Miami-Dade        85  480200.0  480700.0  481200.0  ...  2917100   \n",
       "...           ...       ...       ...       ...       ...  ...      ...   \n",
       "14250        Lake     14251   86100.0   86800.0   87400.0  ...   174900   \n",
       "14262      Putnam     14263   53800.0   54100.0   54300.0  ...    94400   \n",
       "14315      Monroe     14316  202200.0  202800.0  203400.0  ...   570200   \n",
       "14558        Polk     14559       NaN       NaN       NaN  ...   130400   \n",
       "14600         Lee     14601  345100.0  344200.0  343300.0  ...  1001400   \n",
       "\n",
       "       2017-08  2017-09  2017-10  2017-11  2017-12  2018-01  2018-02  2018-03  \\\n",
       "11      250400   249900   248700   247500   247100   246800   247500   249800   \n",
       "60     1471000  1485400  1497700  1504200  1507600  1495800  1466200  1443900   \n",
       "82      286100   287800   288800   289700   291000   292500   294200   296400   \n",
       "83      299300   301400   303300   304900   307100   309800   311700   312600   \n",
       "84     2925700  2942400  2958300  2946300  2912900  2900900  2923300  2933600   \n",
       "...        ...      ...      ...      ...      ...      ...      ...      ...   \n",
       "14250   177100   179100   181500   184200   186200   187200   189000   191900   \n",
       "14262    99000   100800   101000   103000   105400   104900   106100   112600   \n",
       "14315   564800   561100   557300   552300   545100   542300   551500   570900   \n",
       "14558   131500   134800   137900   139400   140000   140000   140300   141900   \n",
       "14600  1004300  1006900  1017000  1026700  1024200  1018000  1022900  1044100   \n",
       "\n",
       "       2018-04  \n",
       "11      251800  \n",
       "60     1432300  \n",
       "82      298200  \n",
       "83      313100  \n",
       "84     2914100  \n",
       "...        ...  \n",
       "14250   193500  \n",
       "14262   118300  \n",
       "14315   585300  \n",
       "14558   143000  \n",
       "14600  1067800  \n",
       "\n",
       "[785 rows x 272 columns]"
      ]
     },
     "execution_count": 6,
     "metadata": {},
     "output_type": "execute_result"
    }
   ],
   "source": [
    "#Observing what our Florida dataset looks like\n",
    "florida"
   ]
  },
  {
   "cell_type": "markdown",
   "metadata": {},
   "source": [
    "## Number of ZipCodes for each Metro in Florida"
   ]
  },
  {
   "cell_type": "code",
   "execution_count": 7,
   "metadata": {},
   "outputs": [
    {
     "data": {
      "image/png": "[encoded data removed]",
      "text/plain": [
       "<Figure size 720x864 with 1 Axes>"
      ]
     },
     "metadata": {
      "needs_background": "light"
     },
     "output_type": "display_data"
    }
   ],
   "source": [
    "#Visualizing the value counts of zipcodes in each metro region in Florida\n",
    "\n",
    "fig, ax = plt.subplots(figsize=(10,12))\n",
    "\n",
    "y = [a for a in florida['Metro'].value_counts()]\n",
    "\n",
    "x = [a for a in florida['Metro'].value_counts().keys()]\n",
    "\n",
    "ax.barh(x,y);"
   ]
  },
  {
   "cell_type": "markdown",
   "metadata": {},
   "source": [
    "We can see above that the Miami-Fort Lauderdale region has the highest number of zipcodes."
   ]
  },
  {
   "cell_type": "markdown",
   "metadata": {},
   "source": [
    "## Selecting a ZipCode to build our Time Series model on"
   ]
  },
  {
   "cell_type": "markdown",
   "metadata": {},
   "source": [
    "We want to build a Time Series model to predict the future ROI for each zip code in Florida. But first, we will select one specific zipcode to build our time series model on. For this purpose, we decided to find the zipcode that has seen the highest growth in the 5 years since our last recorded date - April, 2018. i.e. We will find the zipcode which has grown the most between April,2015 and April,2018."
   ]
  },
  {
   "cell_type": "code",
   "execution_count": 173,
   "metadata": {},
   "outputs": [],
   "source": [
    "#Creating a new column that shows the 3 year increase in value. From April, 2015 to April, 2018.\n",
    "florida['3 yr ROI'] = None\n",
    "florida['3 yr ROI'] = florida['2018-04'].apply(lambda x : x-florida['2015-04'])"
   ]
  },
  {
   "cell_type": "code",
   "execution_count": 174,
   "metadata": {},
   "outputs": [
    {
     "name": "stdout",
     "output_type": "stream",
     "text": [
      "Highest growing Zipcode since April 2015 is : 33480\n"
     ]
    }
   ],
   "source": [
    "#Identifying the ZipCode that grew the most between April,2015 and April,2018.\n",
    "\n",
    "roi_df = florida[['RegionName','3 yr ROI']].sort_values('3 yr ROI',ascending = False)\n",
    "\n",
    "print(f'Highest growing Zipcode since April 2015 is : {int(roi_df.iloc[0][0])}')"
   ]
  },
  {
   "cell_type": "markdown",
   "metadata": {},
   "source": [
    "We will run our first Time Series model on the ZipCode- 33480 to predict what its future value will be. Then we can run a similar model on other zipcodes in the state to identify which 5 zipcodes have the highest predicted ROI."
   ]
  },
  {
   "cell_type": "code",
   "execution_count": 186,
   "metadata": {},
   "outputs": [
    {
     "data": {
      "text/html": [
       "<div>\n",
       "<style scoped>\n",
       "    .dataframe tbody tr th:only-of-type {\n",
       "        vertical-align: middle;\n",
       "    }\n",
       "\n",
       "    .dataframe tbody tr th {\n",
       "        vertical-align: top;\n",
       "    }\n",
       "\n",
       "    .dataframe thead th {\n",
       "        text-align: right;\n",
       "    }\n",
       "</style>\n",
       "<table border=\"1\" class=\"dataframe\">\n",
       "  <thead>\n",
       "    <tr style=\"text-align: right;\">\n",
       "      <th></th>\n",
       "      <th>RegionName</th>\n",
       "      <th>3 yr ROI</th>\n",
       "    </tr>\n",
       "  </thead>\n",
       "  <tbody>\n",
       "    <tr>\n",
       "      <th>4723</th>\n",
       "      <td>33480</td>\n",
       "      <td>4442100</td>\n",
       "    </tr>\n",
       "    <tr>\n",
       "      <th>84</th>\n",
       "      <td>33139</td>\n",
       "      <td>2670000</td>\n",
       "    </tr>\n",
       "    <tr>\n",
       "      <th>6391</th>\n",
       "      <td>33149</td>\n",
       "      <td>2627600</td>\n",
       "    </tr>\n",
       "    <tr>\n",
       "      <th>5746</th>\n",
       "      <td>34102</td>\n",
       "      <td>2471300</td>\n",
       "    </tr>\n",
       "    <tr>\n",
       "      <th>12634</th>\n",
       "      <td>33921</td>\n",
       "      <td>1745000</td>\n",
       "    </tr>\n",
       "    <tr>\n",
       "      <th>...</th>\n",
       "      <td>...</td>\n",
       "      <td>...</td>\n",
       "    </tr>\n",
       "    <tr>\n",
       "      <th>11786</th>\n",
       "      <td>32628</td>\n",
       "      <td>-171000</td>\n",
       "    </tr>\n",
       "    <tr>\n",
       "      <th>7087</th>\n",
       "      <td>33843</td>\n",
       "      <td>-172700</td>\n",
       "    </tr>\n",
       "    <tr>\n",
       "      <th>6841</th>\n",
       "      <td>32351</td>\n",
       "      <td>-173100</td>\n",
       "    </tr>\n",
       "    <tr>\n",
       "      <th>8476</th>\n",
       "      <td>32134</td>\n",
       "      <td>-180300</td>\n",
       "    </tr>\n",
       "    <tr>\n",
       "      <th>11221</th>\n",
       "      <td>32324</td>\n",
       "      <td>-196400</td>\n",
       "    </tr>\n",
       "  </tbody>\n",
       "</table>\n",
       "<p>785 rows × 2 columns</p>\n",
       "</div>"
      ],
      "text/plain": [
       "       RegionName  3 yr ROI\n",
       "4723        33480   4442100\n",
       "84          33139   2670000\n",
       "6391        33149   2627600\n",
       "5746        34102   2471300\n",
       "12634       33921   1745000\n",
       "...           ...       ...\n",
       "11786       32628   -171000\n",
       "7087        33843   -172700\n",
       "6841        32351   -173100\n",
       "8476        32134   -180300\n",
       "11221       32324   -196400\n",
       "\n",
       "[785 rows x 2 columns]"
      ]
     },
     "execution_count": 186,
     "metadata": {},
     "output_type": "execute_result"
    }
   ],
   "source": [
    "roi_df"
   ]
  },
  {
   "cell_type": "code",
   "execution_count": 188,
   "metadata": {},
   "outputs": [],
   "source": [
    "# Creating dataframes containing historical prices of the Top 5 Zip Codes\n",
    "zip33480 = df[df['RegionName']==33480]\n",
    "zip33139 = df[df['RegionName']==33139]\n",
    "zip33149 = df[df['RegionName']==33149]\n",
    "zip34102 = df[df['RegionName']==34102]\n",
    "zip33921 = df[df['RegionName']==33921]"
   ]
  },
  {
   "cell_type": "code",
   "execution_count": 190,
   "metadata": {},
   "outputs": [],
   "source": [
    "# Time Series dataframe of Top 5 Zip Code prices\n",
    "series33480 = melt_data(zip33480)\n",
    "series33139 = melt_data(zip33139)\n",
    "series33149 = melt_data(zip33149)\n",
    "series34102 = melt_data(zip34102)\n",
    "series33921 = melt_data(zip33921)"
   ]
  },
  {
   "cell_type": "code",
   "execution_count": 191,
   "metadata": {},
   "outputs": [],
   "source": [
    "# Creating a dataframe combining the information for the Top 5 Zip Codes\n",
    "top5 = series33480.append([series33139, series33149, series34102, series33921])"
   ]
  },
  {
   "cell_type": "code",
   "execution_count": 192,
   "metadata": {
    "collapsed": true,
    "jupyter": {
     "outputs_hidden": true
    }
   },
   "outputs": [
    {
     "data": {
      "text/html": [
       "<div>\n",
       "<style scoped>\n",
       "    .dataframe tbody tr th:only-of-type {\n",
       "        vertical-align: middle;\n",
       "    }\n",
       "\n",
       "    .dataframe tbody tr th {\n",
       "        vertical-align: top;\n",
       "    }\n",
       "\n",
       "    .dataframe thead th {\n",
       "        text-align: right;\n",
       "    }\n",
       "</style>\n",
       "<table border=\"1\" class=\"dataframe\">\n",
       "  <thead>\n",
       "    <tr style=\"text-align: right;\">\n",
       "      <th></th>\n",
       "      <th>value</th>\n",
       "    </tr>\n",
       "    <tr>\n",
       "      <th>time</th>\n",
       "      <th></th>\n",
       "    </tr>\n",
       "  </thead>\n",
       "  <tbody>\n",
       "    <tr>\n",
       "      <th>1996-04-01</th>\n",
       "      <td>958400.0</td>\n",
       "    </tr>\n",
       "    <tr>\n",
       "      <th>1996-05-01</th>\n",
       "      <td>958100.0</td>\n",
       "    </tr>\n",
       "    <tr>\n",
       "      <th>1996-06-01</th>\n",
       "      <td>957900.0</td>\n",
       "    </tr>\n",
       "    <tr>\n",
       "      <th>1996-07-01</th>\n",
       "      <td>957800.0</td>\n",
       "    </tr>\n",
       "    <tr>\n",
       "      <th>1996-08-01</th>\n",
       "      <td>958000.0</td>\n",
       "    </tr>\n",
       "    <tr>\n",
       "      <th>...</th>\n",
       "      <td>...</td>\n",
       "    </tr>\n",
       "    <tr>\n",
       "      <th>2017-12-01</th>\n",
       "      <td>1919700.0</td>\n",
       "    </tr>\n",
       "    <tr>\n",
       "      <th>2018-01-01</th>\n",
       "      <td>1926000.0</td>\n",
       "    </tr>\n",
       "    <tr>\n",
       "      <th>2018-02-01</th>\n",
       "      <td>1935800.0</td>\n",
       "    </tr>\n",
       "    <tr>\n",
       "      <th>2018-03-01</th>\n",
       "      <td>1958500.0</td>\n",
       "    </tr>\n",
       "    <tr>\n",
       "      <th>2018-04-01</th>\n",
       "      <td>1989100.0</td>\n",
       "    </tr>\n",
       "  </tbody>\n",
       "</table>\n",
       "<p>1325 rows × 1 columns</p>\n",
       "</div>"
      ],
      "text/plain": [
       "                value\n",
       "time                 \n",
       "1996-04-01   958400.0\n",
       "1996-05-01   958100.0\n",
       "1996-06-01   957900.0\n",
       "1996-07-01   957800.0\n",
       "1996-08-01   958000.0\n",
       "...               ...\n",
       "2017-12-01  1919700.0\n",
       "2018-01-01  1926000.0\n",
       "2018-02-01  1935800.0\n",
       "2018-03-01  1958500.0\n",
       "2018-04-01  1989100.0\n",
       "\n",
       "[1325 rows x 1 columns]"
      ]
     },
     "execution_count": 192,
     "metadata": {},
     "output_type": "execute_result"
    }
   ],
   "source": [
    "top5"
   ]
  },
  {
   "cell_type": "code",
   "execution_count": 13,
   "metadata": {},
   "outputs": [
    {
     "data": {
      "image/png": "[encoded data removed]",
      "text/plain": [
       "<Figure size 1440x864 with 1 Axes>"
      ]
     },
     "metadata": {
      "needs_background": "light"
     },
     "output_type": "display_data"
    }
   ],
   "source": [
    "#Visualizing our Time Series Data\n",
    "fig, ax = plt.subplots(figsize=(20,12))\n",
    "ax.plot(series33480)\n",
    "\n",
    "ax.set_xlabel('Year', fontsize=30)\n",
    "ax.set_ylabel('Price in 100,000($)',fontsize=20);"
   ]
  },
  {
   "cell_type": "markdown",
   "metadata": {},
   "source": [
    "We can see from above that after several years of growth in the early years of the 21st Century, prices seemed to have likely fallen due to the economic crisis that emerged in 2008. Since around 2011 though, there has been a dramatic increase in prices."
   ]
  },
  {
   "cell_type": "markdown",
   "metadata": {},
   "source": [
    "# Modeling"
   ]
  },
  {
   "cell_type": "code",
   "execution_count": 16,
   "metadata": {},
   "outputs": [],
   "source": [
    "# def stationarity_check(TS):\n",
    "    \n",
    "#     # Import adfuller\n",
    "#     from statsmodels.tsa.stattools import adfuller\n",
    "    \n",
    "#     # Calculate rolling statistics\n",
    "#     roll_mean = TS.rolling(window=12, center=False).mean()\n",
    "#     roll_std = TS.rolling(window=12, center=False).std()\n",
    "    \n",
    "#     # Perform the Dickey Fuller Test\n",
    "#     dftest = adfuller(TS)\n",
    "    \n",
    "#     # Plot rolling statistics:\n",
    "#     fig = plt.figure(figsize=(12,6))\n",
    "#     plt.plot(TS, color='blue',label='Original')\n",
    "#     plt.plot(roll_mean, color='red', label='Rolling Mean')\n",
    "#     plt.plot(roll_std, color='black', label = 'Rolling Std')\n",
    "#     plt.legend(loc='best')\n",
    "#     plt.title('Rolling Mean & Standard Deviation')\n",
    "#     plt.show(block=False)\n",
    "    \n",
    "#     # Print Dickey-Fuller test results\n",
    "#     print('Results of Dickey-Fuller Test: \\n')\n",
    "\n",
    "#     dfoutput = pd.Series(dftest[0:4], index=['Test Statistic', 'p-value', \n",
    "#                                              '#Lags Used', 'Number of Observations Used'])\n",
    "#     for key,value in dftest[4].items():\n",
    "#         dfoutput['Critical Value (%s)'%key] = value\n",
    "#     print(dfoutput)\n",
    "    \n",
    "#     return None"
   ]
  },
  {
   "cell_type": "code",
   "execution_count": 17,
   "metadata": {},
   "outputs": [
    {
     "data": {
      "image/png": "[encoded data removed]",
      "text/plain": [
       "<Figure size 864x432 with 1 Axes>"
      ]
     },
     "metadata": {
      "needs_background": "light"
     },
     "output_type": "display_data"
    },
    {
     "name": "stdout",
     "output_type": "stream",
     "text": [
      "Results of Dickey-Fuller Test: \n",
      "\n",
      "Test Statistic                  -1.741387\n",
      "p-value                          0.409925\n",
      "#Lags Used                      16.000000\n",
      "Number of Observations Used    248.000000\n",
      "Critical Value (1%)             -3.456996\n",
      "Critical Value (5%)             -2.873266\n",
      "Critical Value (10%)            -2.573019\n",
      "dtype: float64\n"
     ]
    }
   ],
   "source": [
    "stationarity_check(series33480)"
   ]
  },
  {
   "cell_type": "code",
   "execution_count": 32,
   "metadata": {},
   "outputs": [],
   "source": [
    "data_diff = series33480.diff()"
   ]
  },
  {
   "cell_type": "code",
   "execution_count": 19,
   "metadata": {},
   "outputs": [
    {
     "data": {
      "text/html": [
       "<div>\n",
       "<style scoped>\n",
       "    .dataframe tbody tr th:only-of-type {\n",
       "        vertical-align: middle;\n",
       "    }\n",
       "\n",
       "    .dataframe tbody tr th {\n",
       "        vertical-align: top;\n",
       "    }\n",
       "\n",
       "    .dataframe thead th {\n",
       "        text-align: right;\n",
       "    }\n",
       "</style>\n",
       "<table border=\"1\" class=\"dataframe\">\n",
       "  <thead>\n",
       "    <tr style=\"text-align: right;\">\n",
       "      <th></th>\n",
       "      <th>value</th>\n",
       "    </tr>\n",
       "    <tr>\n",
       "      <th>time</th>\n",
       "      <th></th>\n",
       "    </tr>\n",
       "  </thead>\n",
       "  <tbody>\n",
       "    <tr>\n",
       "      <th>1996-04-01</th>\n",
       "      <td>NaN</td>\n",
       "    </tr>\n",
       "    <tr>\n",
       "      <th>1996-05-01</th>\n",
       "      <td>-300.0</td>\n",
       "    </tr>\n",
       "    <tr>\n",
       "      <th>1996-06-01</th>\n",
       "      <td>-200.0</td>\n",
       "    </tr>\n",
       "    <tr>\n",
       "      <th>1996-07-01</th>\n",
       "      <td>-100.0</td>\n",
       "    </tr>\n",
       "    <tr>\n",
       "      <th>1996-08-01</th>\n",
       "      <td>200.0</td>\n",
       "    </tr>\n",
       "  </tbody>\n",
       "</table>\n",
       "</div>"
      ],
      "text/plain": [
       "            value\n",
       "time             \n",
       "1996-04-01    NaN\n",
       "1996-05-01 -300.0\n",
       "1996-06-01 -200.0\n",
       "1996-07-01 -100.0\n",
       "1996-08-01  200.0"
      ]
     },
     "execution_count": 19,
     "metadata": {},
     "output_type": "execute_result"
    }
   ],
   "source": [
    "data_diff.head()"
   ]
  },
  {
   "cell_type": "code",
   "execution_count": 21,
   "metadata": {},
   "outputs": [
    {
     "data": {
      "image/png": "[encoded data removed]",
      "text/plain": [
       "<Figure size 864x432 with 1 Axes>"
      ]
     },
     "metadata": {
      "needs_background": "light"
     },
     "output_type": "display_data"
    },
    {
     "name": "stdout",
     "output_type": "stream",
     "text": [
      "Results of Dickey-Fuller Test: \n",
      "\n",
      "Test Statistic                  -1.876634\n",
      "p-value                          0.343132\n",
      "#Lags Used                      15.000000\n",
      "Number of Observations Used    248.000000\n",
      "Critical Value (1%)             -3.456996\n",
      "Critical Value (5%)             -2.873266\n",
      "Critical Value (10%)            -2.573019\n",
      "dtype: float64\n"
     ]
    }
   ],
   "source": [
    "stationarity_check(data_diff.dropna())"
   ]
  },
  {
   "cell_type": "code",
   "execution_count": 40,
   "metadata": {},
   "outputs": [],
   "source": [
    "log_zip = np.log(series33480)"
   ]
  },
  {
   "cell_type": "code",
   "execution_count": 45,
   "metadata": {},
   "outputs": [],
   "source": [
    "zip_diff = series33480.diff()"
   ]
  },
  {
   "cell_type": "code",
   "execution_count": 38,
   "metadata": {},
   "outputs": [],
   "source": [
    "series_drop_nan = series33480.dropna()"
   ]
  },
  {
   "cell_type": "code",
   "execution_count": 41,
   "metadata": {},
   "outputs": [
    {
     "data": {
      "image/png": "[encoded data removed]",
      "text/plain": [
       "<Figure size 864x432 with 1 Axes>"
      ]
     },
     "metadata": {
      "needs_background": "light"
     },
     "output_type": "display_data"
    },
    {
     "name": "stdout",
     "output_type": "stream",
     "text": [
      "Results of Dickey-Fuller Test: \n",
      "\n",
      "Test Statistic                  -2.440318\n",
      "p-value                          0.130679\n",
      "#Lags Used                      16.000000\n",
      "Number of Observations Used    248.000000\n",
      "Critical Value (1%)             -3.456996\n",
      "Critical Value (5%)             -2.873266\n",
      "Critical Value (10%)            -2.573019\n",
      "dtype: float64\n"
     ]
    }
   ],
   "source": [
    "stationarity_check(log_zip)"
   ]
  },
  {
   "cell_type": "code",
   "execution_count": 42,
   "metadata": {},
   "outputs": [],
   "source": [
    "log_diff = log_zip.diff()"
   ]
  },
  {
   "cell_type": "code",
   "execution_count": 47,
   "metadata": {},
   "outputs": [],
   "source": [
    "log_diff = log_diff.dropna()"
   ]
  },
  {
   "cell_type": "code",
   "execution_count": 44,
   "metadata": {},
   "outputs": [
    {
     "data": {
      "image/png": "[encoded data removed]",
      "text/plain": [
       "<Figure size 864x432 with 1 Axes>"
      ]
     },
     "metadata": {
      "needs_background": "light"
     },
     "output_type": "display_data"
    },
    {
     "name": "stdout",
     "output_type": "stream",
     "text": [
      "Results of Dickey-Fuller Test: \n",
      "\n",
      "Test Statistic                  -1.619108\n",
      "p-value                          0.473197\n",
      "#Lags Used                      15.000000\n",
      "Number of Observations Used    248.000000\n",
      "Critical Value (1%)             -3.456996\n",
      "Critical Value (5%)             -2.873266\n",
      "Critical Value (10%)            -2.573019\n",
      "dtype: float64\n"
     ]
    }
   ],
   "source": [
    "stationarity_check(log_diff.dropna())"
   ]
  },
  {
   "cell_type": "code",
   "execution_count": 181,
   "metadata": {},
   "outputs": [
    {
     "name": "stdout",
     "output_type": "stream",
     "text": [
      "0 nan\n",
      "1 0.343131540861913\n",
      "2 0.45148878461964975\n",
      "3 0.3498779332973291\n",
      "4 0.2657516719792066\n",
      "5 0.2619961261754454\n",
      "6 0.30968491386363906\n",
      "7 0.19910839223251842\n",
      "8 0.2115094850164156\n",
      "9 0.37267840416752657\n",
      "10 0.08902492361440495\n",
      "11 0.14508366097604297\n",
      "12 0.17102021265075695\n",
      "13 0.06528026593849018\n",
      "14 0.03683844039720054\n",
      "15 0.028217511106596708\n",
      "16 0.20034873851597862\n",
      "17 0.39427111907187\n",
      "18 0.3923268584409646\n",
      "19 0.08066468289972795\n",
      "20 0.15143785859299064\n",
      "21 0.0324766436581636\n",
      "22 0.0827926852867667\n",
      "23 0.02497432287830202\n",
      "24 0.03767554534847937\n"
     ]
    }
   ],
   "source": [
    "differencer(series33480)"
   ]
  },
  {
   "cell_type": "code",
   "execution_count": 69,
   "metadata": {},
   "outputs": [],
   "source": [
    "series_diff= series33480.diff(periods=14).dropna()"
   ]
  },
  {
   "cell_type": "code",
   "execution_count": 71,
   "metadata": {},
   "outputs": [
    {
     "data": {
      "image/png": "[encoded data removed]",
      "text/plain": [
       "<Figure size 864x432 with 1 Axes>"
      ]
     },
     "metadata": {
      "needs_background": "light"
     },
     "output_type": "display_data"
    },
    {
     "name": "stdout",
     "output_type": "stream",
     "text": [
      "Results of Dickey-Fuller Test: \n",
      "\n",
      "Test Statistic                  -2.979656\n",
      "p-value                          0.036838\n",
      "#Lags Used                      15.000000\n",
      "Number of Observations Used    235.000000\n",
      "Critical Value (1%)             -3.458487\n",
      "Critical Value (5%)             -2.873919\n",
      "Critical Value (10%)            -2.573367\n",
      "dtype: float64\n"
     ]
    }
   ],
   "source": [
    "# USE THIS ONE\n",
    "stationarity_check(series_diff)"
   ]
  },
  {
   "cell_type": "code",
   "execution_count": 182,
   "metadata": {},
   "outputs": [],
   "source": [
    "# Instantiate an AR(1) model to the simulated data\n",
    "mod_arma = ARMA(series_diff, order=(1,0))"
   ]
  },
  {
   "cell_type": "code",
   "execution_count": 76,
   "metadata": {},
   "outputs": [],
   "source": [
    "# # Fitting the model to data\n",
    "# res_arma = mod_arma.fit()"
   ]
  },
  {
   "cell_type": "code",
   "execution_count": 77,
   "metadata": {},
   "outputs": [
    {
     "data": {
      "text/plain": [
       "201"
      ]
     },
     "execution_count": 77,
     "metadata": {},
     "output_type": "execute_result"
    }
   ],
   "source": [
    "# Finding the index which allows us to split off 20% of the data\n",
    "cutoff = round(series_diff.shape[0]*0.8)\n",
    "cutoff"
   ]
  },
  {
   "cell_type": "code",
   "execution_count": 79,
   "metadata": {},
   "outputs": [
    {
     "data": {
      "image/png": "[encoded data removed]",
      "text/plain": [
       "<Figure size 864x576 with 1 Axes>"
      ]
     },
     "metadata": {
      "needs_background": "light"
     },
     "output_type": "display_data"
    }
   ],
   "source": [
    "# Defining train and test sets according to the index found above\n",
    "train = series_diff[:cutoff]\n",
    "test = series_diff[cutoff:]\n",
    "\n",
    "fix, ax = plt.subplots(figsize=(12,8))\n",
    "ax.plot(train, label='train')\n",
    "ax.plot(test, label='test')\n",
    "ax.set_title('Train-Test Split')\n",
    "plt.legend();"
   ]
  },
  {
   "cell_type": "code",
   "execution_count": 81,
   "metadata": {},
   "outputs": [
    {
     "name": "stdout",
     "output_type": "stream",
     "text": [
      "[ 0  1  2  3  4  5  6  7  8  9 10 11 12 13 14 15 16 17 18 19 20 21 22 23\n",
      " 24 25 26 27 28 29 30 31 32 33 34 35] [36 37 38 39 40 41 42 43 44 45 46 47 48 49 50 51 52 53 54 55 56 57 58 59\n",
      " 60 61 62 63 64 65 66 67 68]\n",
      "[ 0  1  2  3  4  5  6  7  8  9 10 11 12 13 14 15 16 17 18 19 20 21 22 23\n",
      " 24 25 26 27 28 29 30 31 32 33 34 35 36 37 38 39 40 41 42 43 44 45 46 47\n",
      " 48 49 50 51 52 53 54 55 56 57 58 59 60 61 62 63 64 65 66 67 68] [ 69  70  71  72  73  74  75  76  77  78  79  80  81  82  83  84  85  86\n",
      "  87  88  89  90  91  92  93  94  95  96  97  98  99 100 101]\n",
      "[  0   1   2   3   4   5   6   7   8   9  10  11  12  13  14  15  16  17\n",
      "  18  19  20  21  22  23  24  25  26  27  28  29  30  31  32  33  34  35\n",
      "  36  37  38  39  40  41  42  43  44  45  46  47  48  49  50  51  52  53\n",
      "  54  55  56  57  58  59  60  61  62  63  64  65  66  67  68  69  70  71\n",
      "  72  73  74  75  76  77  78  79  80  81  82  83  84  85  86  87  88  89\n",
      "  90  91  92  93  94  95  96  97  98  99 100 101] [102 103 104 105 106 107 108 109 110 111 112 113 114 115 116 117 118 119\n",
      " 120 121 122 123 124 125 126 127 128 129 130 131 132 133 134]\n",
      "[  0   1   2   3   4   5   6   7   8   9  10  11  12  13  14  15  16  17\n",
      "  18  19  20  21  22  23  24  25  26  27  28  29  30  31  32  33  34  35\n",
      "  36  37  38  39  40  41  42  43  44  45  46  47  48  49  50  51  52  53\n",
      "  54  55  56  57  58  59  60  61  62  63  64  65  66  67  68  69  70  71\n",
      "  72  73  74  75  76  77  78  79  80  81  82  83  84  85  86  87  88  89\n",
      "  90  91  92  93  94  95  96  97  98  99 100 101 102 103 104 105 106 107\n",
      " 108 109 110 111 112 113 114 115 116 117 118 119 120 121 122 123 124 125\n",
      " 126 127 128 129 130 131 132 133 134] [135 136 137 138 139 140 141 142 143 144 145 146 147 148 149 150 151 152\n",
      " 153 154 155 156 157 158 159 160 161 162 163 164 165 166 167]\n",
      "[  0   1   2   3   4   5   6   7   8   9  10  11  12  13  14  15  16  17\n",
      "  18  19  20  21  22  23  24  25  26  27  28  29  30  31  32  33  34  35\n",
      "  36  37  38  39  40  41  42  43  44  45  46  47  48  49  50  51  52  53\n",
      "  54  55  56  57  58  59  60  61  62  63  64  65  66  67  68  69  70  71\n",
      "  72  73  74  75  76  77  78  79  80  81  82  83  84  85  86  87  88  89\n",
      "  90  91  92  93  94  95  96  97  98  99 100 101 102 103 104 105 106 107\n",
      " 108 109 110 111 112 113 114 115 116 117 118 119 120 121 122 123 124 125\n",
      " 126 127 128 129 130 131 132 133 134 135 136 137 138 139 140 141 142 143\n",
      " 144 145 146 147 148 149 150 151 152 153 154 155 156 157 158 159 160 161\n",
      " 162 163 164 165 166 167] [168 169 170 171 172 173 174 175 176 177 178 179 180 181 182 183 184 185\n",
      " 186 187 188 189 190 191 192 193 194 195 196 197 198 199 200]\n"
     ]
    }
   ],
   "source": [
    "split = TimeSeriesSplit()\n",
    "\n",
    "for train_ind, val_ind in split.split(train):\n",
    "    print(train_ind, val_ind)"
   ]
  },
  {
   "cell_type": "markdown",
   "metadata": {},
   "source": [
    "Baseline"
   ]
  },
  {
   "cell_type": "code",
   "execution_count": 82,
   "metadata": {},
   "outputs": [
    {
     "data": {
      "text/html": [
       "<div>\n",
       "<style scoped>\n",
       "    .dataframe tbody tr th:only-of-type {\n",
       "        vertical-align: middle;\n",
       "    }\n",
       "\n",
       "    .dataframe tbody tr th {\n",
       "        vertical-align: top;\n",
       "    }\n",
       "\n",
       "    .dataframe thead th {\n",
       "        text-align: right;\n",
       "    }\n",
       "</style>\n",
       "<table border=\"1\" class=\"dataframe\">\n",
       "  <thead>\n",
       "    <tr style=\"text-align: right;\">\n",
       "      <th></th>\n",
       "      <th>value</th>\n",
       "    </tr>\n",
       "    <tr>\n",
       "      <th>time</th>\n",
       "      <th></th>\n",
       "    </tr>\n",
       "  </thead>\n",
       "  <tbody>\n",
       "    <tr>\n",
       "      <th>1997-06-01</th>\n",
       "      <td>31400.0</td>\n",
       "    </tr>\n",
       "    <tr>\n",
       "      <th>1997-07-01</th>\n",
       "      <td>36900.0</td>\n",
       "    </tr>\n",
       "    <tr>\n",
       "      <th>1997-08-01</th>\n",
       "      <td>42700.0</td>\n",
       "    </tr>\n",
       "    <tr>\n",
       "      <th>1997-09-01</th>\n",
       "      <td>49000.0</td>\n",
       "    </tr>\n",
       "    <tr>\n",
       "      <th>1997-10-01</th>\n",
       "      <td>55600.0</td>\n",
       "    </tr>\n",
       "    <tr>\n",
       "      <th>...</th>\n",
       "      <td>...</td>\n",
       "    </tr>\n",
       "    <tr>\n",
       "      <th>2013-10-01</th>\n",
       "      <td>352700.0</td>\n",
       "    </tr>\n",
       "    <tr>\n",
       "      <th>2013-11-01</th>\n",
       "      <td>393700.0</td>\n",
       "    </tr>\n",
       "    <tr>\n",
       "      <th>2013-12-01</th>\n",
       "      <td>423300.0</td>\n",
       "    </tr>\n",
       "    <tr>\n",
       "      <th>2014-01-01</th>\n",
       "      <td>436400.0</td>\n",
       "    </tr>\n",
       "    <tr>\n",
       "      <th>2014-02-01</th>\n",
       "      <td>443600.0</td>\n",
       "    </tr>\n",
       "  </tbody>\n",
       "</table>\n",
       "<p>201 rows × 1 columns</p>\n",
       "</div>"
      ],
      "text/plain": [
       "               value\n",
       "time                \n",
       "1997-06-01   31400.0\n",
       "1997-07-01   36900.0\n",
       "1997-08-01   42700.0\n",
       "1997-09-01   49000.0\n",
       "1997-10-01   55600.0\n",
       "...              ...\n",
       "2013-10-01  352700.0\n",
       "2013-11-01  393700.0\n",
       "2013-12-01  423300.0\n",
       "2014-01-01  436400.0\n",
       "2014-02-01  443600.0\n",
       "\n",
       "[201 rows x 1 columns]"
      ]
     },
     "execution_count": 82,
     "metadata": {},
     "output_type": "execute_result"
    }
   ],
   "source": [
    "train"
   ]
  },
  {
   "cell_type": "code",
   "execution_count": 83,
   "metadata": {},
   "outputs": [
    {
     "data": {
      "text/html": [
       "<div>\n",
       "<style scoped>\n",
       "    .dataframe tbody tr th:only-of-type {\n",
       "        vertical-align: middle;\n",
       "    }\n",
       "\n",
       "    .dataframe tbody tr th {\n",
       "        vertical-align: top;\n",
       "    }\n",
       "\n",
       "    .dataframe thead th {\n",
       "        text-align: right;\n",
       "    }\n",
       "</style>\n",
       "<table border=\"1\" class=\"dataframe\">\n",
       "  <thead>\n",
       "    <tr style=\"text-align: right;\">\n",
       "      <th></th>\n",
       "      <th>value</th>\n",
       "    </tr>\n",
       "    <tr>\n",
       "      <th>time</th>\n",
       "      <th></th>\n",
       "    </tr>\n",
       "  </thead>\n",
       "  <tbody>\n",
       "    <tr>\n",
       "      <th>1997-06-01</th>\n",
       "      <td>NaN</td>\n",
       "    </tr>\n",
       "    <tr>\n",
       "      <th>1997-07-01</th>\n",
       "      <td>31400.0</td>\n",
       "    </tr>\n",
       "    <tr>\n",
       "      <th>1997-08-01</th>\n",
       "      <td>36900.0</td>\n",
       "    </tr>\n",
       "    <tr>\n",
       "      <th>1997-09-01</th>\n",
       "      <td>42700.0</td>\n",
       "    </tr>\n",
       "    <tr>\n",
       "      <th>1997-10-01</th>\n",
       "      <td>49000.0</td>\n",
       "    </tr>\n",
       "    <tr>\n",
       "      <th>...</th>\n",
       "      <td>...</td>\n",
       "    </tr>\n",
       "    <tr>\n",
       "      <th>2013-10-01</th>\n",
       "      <td>307100.0</td>\n",
       "    </tr>\n",
       "    <tr>\n",
       "      <th>2013-11-01</th>\n",
       "      <td>352700.0</td>\n",
       "    </tr>\n",
       "    <tr>\n",
       "      <th>2013-12-01</th>\n",
       "      <td>393700.0</td>\n",
       "    </tr>\n",
       "    <tr>\n",
       "      <th>2014-01-01</th>\n",
       "      <td>423300.0</td>\n",
       "    </tr>\n",
       "    <tr>\n",
       "      <th>2014-02-01</th>\n",
       "      <td>436400.0</td>\n",
       "    </tr>\n",
       "  </tbody>\n",
       "</table>\n",
       "<p>201 rows × 1 columns</p>\n",
       "</div>"
      ],
      "text/plain": [
       "               value\n",
       "time                \n",
       "1997-06-01       NaN\n",
       "1997-07-01   31400.0\n",
       "1997-08-01   36900.0\n",
       "1997-09-01   42700.0\n",
       "1997-10-01   49000.0\n",
       "...              ...\n",
       "2013-10-01  307100.0\n",
       "2013-11-01  352700.0\n",
       "2013-12-01  393700.0\n",
       "2014-01-01  423300.0\n",
       "2014-02-01  436400.0\n",
       "\n",
       "[201 rows x 1 columns]"
      ]
     },
     "execution_count": 83,
     "metadata": {},
     "output_type": "execute_result"
    }
   ],
   "source": [
    "# we can perform this with the shift operator\n",
    "# The prediction for the next day is the original series shifted to the future by one day.\n",
    "naive = train.shift(1)\n",
    "naive"
   ]
  },
  {
   "cell_type": "code",
   "execution_count": 84,
   "metadata": {},
   "outputs": [
    {
     "data": {
      "image/png": "[encoded data removed]",
      "text/plain": [
       "<Figure size 432x288 with 1 Axes>"
      ]
     },
     "metadata": {
      "needs_background": "light"
     },
     "output_type": "display_data"
    }
   ],
   "source": [
    "fig, ax = plt.subplots()\n",
    "\n",
    "train[0:30].plot(ax=ax, c='r', label='original')\n",
    "naive[0:30].plot(ax=ax, c='b', label='shifted')\n",
    "ax.set_title('naive')\n",
    "ax.legend();"
   ]
  },
  {
   "cell_type": "code",
   "execution_count": 86,
   "metadata": {},
   "outputs": [],
   "source": [
    "from sklearn.metrics import mean_squared_error\n"
   ]
  },
  {
   "cell_type": "code",
   "execution_count": 87,
   "metadata": {},
   "outputs": [
    {
     "data": {
      "text/plain": [
       "20965.879423482336"
      ]
     },
     "execution_count": 87,
     "metadata": {},
     "output_type": "execute_result"
    }
   ],
   "source": [
    "# Calculating RMSE for the naive model as a baseline to compare our later models\n",
    "\n",
    "np.sqrt(mean_squared_error(train[1:], naive.dropna()))"
   ]
  },
  {
   "cell_type": "code",
   "execution_count": 88,
   "metadata": {},
   "outputs": [
    {
     "data": {
      "image/png": "[encoded data removed]",
      "text/plain": [
       "<Figure size 432x288 with 1 Axes>"
      ]
     },
     "metadata": {
      "needs_background": "light"
     },
     "output_type": "display_data"
    }
   ],
   "source": [
    "fig, ax = plt.subplots()\n",
    "residuals = naive[1:] - train[1:]\n",
    "ax.plot(residuals.index, residuals)\n",
    "ax.plot(residuals.index, residuals.rolling(30).std());"
   ]
  },
  {
   "cell_type": "code",
   "execution_count": 89,
   "metadata": {},
   "outputs": [
    {
     "data": {
      "image/png": "[encoded data removed]",
      "text/plain": [
       "<Figure size 432x288 with 1 Axes>"
      ]
     },
     "metadata": {
      "needs_background": "light"
     },
     "output_type": "display_data"
    }
   ],
   "source": [
    "fig, ax = plt.subplots()\n",
    "\n",
    "ax.plot(residuals.index, residuals.rolling(30).var());"
   ]
  },
  {
   "cell_type": "code",
   "execution_count": 90,
   "metadata": {},
   "outputs": [],
   "source": [
    "from random import gauss as gs\n",
    "import pandas as pd\n",
    "import numpy as np\n",
    "import matplotlib.pyplot as plt\n",
    "from sklearn.metrics import mean_squared_error\n",
    "from sklearn.linear_model import LinearRegression\n",
    "from sklearn.model_selection import TimeSeriesSplit\n",
    "\n",
    "import itertools\n",
    "#from pmdarima import auto_arima\n",
    "\n",
    "#statsmodels\n",
    "from statsmodels.tsa.arima.model import ARIMA\n",
    "from statsmodels.tsa.stattools import acf, pacf\n",
    "from statsmodels.graphics.tsaplots import plot_acf, plot_pacf\n",
    "from statsmodels.tsa.statespace.sarimax import SARIMAX\n",
    "\n",
    "\n",
    "%matplotlib inline"
   ]
  },
  {
   "cell_type": "code",
   "execution_count": 91,
   "metadata": {},
   "outputs": [
    {
     "name": "stderr",
     "output_type": "stream",
     "text": [
      "/Users/a_conte/opt/anaconda3/envs/learn-env/lib/python3.8/site-packages/statsmodels/tsa/base/tsa_model.py:524: ValueWarning: No frequency information was provided, so inferred frequency MS will be used.\n",
      "  warnings.warn('No frequency information was'\n",
      "/Users/a_conte/opt/anaconda3/envs/learn-env/lib/python3.8/site-packages/statsmodels/tsa/base/tsa_model.py:524: ValueWarning: No frequency information was provided, so inferred frequency MS will be used.\n",
      "  warnings.warn('No frequency information was'\n",
      "/Users/a_conte/opt/anaconda3/envs/learn-env/lib/python3.8/site-packages/statsmodels/tsa/base/tsa_model.py:524: ValueWarning: No frequency information was provided, so inferred frequency MS will be used.\n",
      "  warnings.warn('No frequency information was'\n"
     ]
    },
    {
     "data": {
      "text/plain": [
       "1997-06-01         0.000000\n",
       "1997-07-01     60456.844961\n",
       "1997-08-01     42002.541071\n",
       "1997-09-01     48080.861493\n",
       "1997-10-01     54844.728863\n",
       "                  ...      \n",
       "2013-10-01    341611.732332\n",
       "2013-11-01    395004.704149\n",
       "2013-12-01    431737.124344\n",
       "2014-01-01    450760.948307\n",
       "2014-02-01    448553.325095\n",
       "Freq: MS, Name: predicted_mean, Length: 201, dtype: float64"
      ]
     },
     "execution_count": 91,
     "metadata": {},
     "output_type": "execute_result"
    }
   ],
   "source": [
    "ar_1 = ARIMA(train, order=(1, 1, 0)).fit()\n",
    "\n",
    "# We put a typ='levels' to convert our predictions to remove the differencing performed.\n",
    "ar_1.predict(typ='levels')"
   ]
  },
  {
   "cell_type": "code",
   "execution_count": 92,
   "metadata": {},
   "outputs": [
    {
     "data": {
      "text/html": [
       "<table class=\"simpletable\">\n",
       "<caption>SARIMAX Results</caption>\n",
       "<tr>\n",
       "  <th>Dep. Variable:</th>         <td>value</td>      <th>  No. Observations:  </th>    <td>201</td>   \n",
       "</tr>\n",
       "<tr>\n",
       "  <th>Model:</th>            <td>ARIMA(1, 1, 0)</td>  <th>  Log Likelihood     </th> <td>-2070.052</td>\n",
       "</tr>\n",
       "<tr>\n",
       "  <th>Date:</th>            <td>Tue, 24 Aug 2021</td> <th>  AIC                </th> <td>4144.104</td> \n",
       "</tr>\n",
       "<tr>\n",
       "  <th>Time:</th>                <td>14:32:56</td>     <th>  BIC                </th> <td>4150.701</td> \n",
       "</tr>\n",
       "<tr>\n",
       "  <th>Sample:</th>             <td>06-01-1997</td>    <th>  HQIC               </th> <td>4146.774</td> \n",
       "</tr>\n",
       "<tr>\n",
       "  <th></th>                   <td>- 02-01-2014</td>   <th>                     </th>     <td> </td>    \n",
       "</tr>\n",
       "<tr>\n",
       "  <th>Covariance Type:</th>        <td>opg</td>       <th>                     </th>     <td> </td>    \n",
       "</tr>\n",
       "</table>\n",
       "<table class=\"simpletable\">\n",
       "<tr>\n",
       "     <td></td>       <th>coef</th>     <th>std err</th>      <th>z</th>      <th>P>|z|</th>  <th>[0.025</th>    <th>0.975]</th>  \n",
       "</tr>\n",
       "<tr>\n",
       "  <th>ar.L1</th>  <td>    0.9277</td> <td>    0.020</td> <td>   46.578</td> <td> 0.000</td> <td>    0.889</td> <td>    0.967</td>\n",
       "</tr>\n",
       "<tr>\n",
       "  <th>sigma2</th> <td> 5.468e+07</td> <td> 1.36e-11</td> <td> 4.03e+18</td> <td> 0.000</td> <td> 5.47e+07</td> <td> 5.47e+07</td>\n",
       "</tr>\n",
       "</table>\n",
       "<table class=\"simpletable\">\n",
       "<tr>\n",
       "  <th>Ljung-Box (L1) (Q):</th>     <td>54.12</td> <th>  Jarque-Bera (JB):  </th> <td>34.43</td>\n",
       "</tr>\n",
       "<tr>\n",
       "  <th>Prob(Q):</th>                <td>0.00</td>  <th>  Prob(JB):          </th> <td>0.00</td> \n",
       "</tr>\n",
       "<tr>\n",
       "  <th>Heteroskedasticity (H):</th> <td>11.83</td> <th>  Skew:              </th> <td>0.10</td> \n",
       "</tr>\n",
       "<tr>\n",
       "  <th>Prob(H) (two-sided):</th>    <td>0.00</td>  <th>  Kurtosis:          </th> <td>5.02</td> \n",
       "</tr>\n",
       "</table><br/><br/>Warnings:<br/>[1] Covariance matrix calculated using the outer product of gradients (complex-step).<br/>[2] Covariance matrix is singular or near-singular, with condition number    inf. Standard errors may be unstable."
      ],
      "text/plain": [
       "<class 'statsmodels.iolib.summary.Summary'>\n",
       "\"\"\"\n",
       "                               SARIMAX Results                                \n",
       "==============================================================================\n",
       "Dep. Variable:                  value   No. Observations:                  201\n",
       "Model:                 ARIMA(1, 1, 0)   Log Likelihood               -2070.052\n",
       "Date:                Tue, 24 Aug 2021   AIC                           4144.104\n",
       "Time:                        14:32:56   BIC                           4150.701\n",
       "Sample:                    06-01-1997   HQIC                          4146.774\n",
       "                         - 02-01-2014                                         \n",
       "Covariance Type:                  opg                                         \n",
       "==============================================================================\n",
       "                 coef    std err          z      P>|z|      [0.025      0.975]\n",
       "------------------------------------------------------------------------------\n",
       "ar.L1          0.9277      0.020     46.578      0.000       0.889       0.967\n",
       "sigma2      5.468e+07   1.36e-11   4.03e+18      0.000    5.47e+07    5.47e+07\n",
       "===================================================================================\n",
       "Ljung-Box (L1) (Q):                  54.12   Jarque-Bera (JB):                34.43\n",
       "Prob(Q):                              0.00   Prob(JB):                         0.00\n",
       "Heteroskedasticity (H):              11.83   Skew:                             0.10\n",
       "Prob(H) (two-sided):                  0.00   Kurtosis:                         5.02\n",
       "===================================================================================\n",
       "\n",
       "Warnings:\n",
       "[1] Covariance matrix calculated using the outer product of gradients (complex-step).\n",
       "[2] Covariance matrix is singular or near-singular, with condition number    inf. Standard errors may be unstable.\n",
       "\"\"\""
      ]
     },
     "execution_count": 92,
     "metadata": {},
     "output_type": "execute_result"
    }
   ],
   "source": [
    "ar_1.summary()"
   ]
  },
  {
   "cell_type": "code",
   "execution_count": 94,
   "metadata": {},
   "outputs": [
    {
     "name": "stderr",
     "output_type": "stream",
     "text": [
      "/Users/a_conte/opt/anaconda3/envs/learn-env/lib/python3.8/site-packages/statsmodels/tsa/base/tsa_model.py:524: ValueWarning: No frequency information was provided, so inferred frequency MS will be used.\n",
      "  warnings.warn('No frequency information was'\n",
      "/Users/a_conte/opt/anaconda3/envs/learn-env/lib/python3.8/site-packages/statsmodels/tsa/base/tsa_model.py:524: ValueWarning: No frequency information was provided, so inferred frequency MS will be used.\n",
      "  warnings.warn('No frequency information was'\n",
      "/Users/a_conte/opt/anaconda3/envs/learn-env/lib/python3.8/site-packages/statsmodels/tsa/base/tsa_model.py:524: ValueWarning: No frequency information was provided, so inferred frequency MS will be used.\n",
      "  warnings.warn('No frequency information was'\n"
     ]
    },
    {
     "data": {
      "text/html": [
       "<table class=\"simpletable\">\n",
       "<caption>SARIMAX Results</caption>\n",
       "<tr>\n",
       "  <th>Dep. Variable:</th>         <td>value</td>      <th>  No. Observations:  </th>    <td>201</td>   \n",
       "</tr>\n",
       "<tr>\n",
       "  <th>Model:</th>            <td>ARIMA(0, 1, 0)</td>  <th>  Log Likelihood     </th> <td>-2273.919</td>\n",
       "</tr>\n",
       "<tr>\n",
       "  <th>Date:</th>            <td>Tue, 24 Aug 2021</td> <th>  AIC                </th> <td>4549.839</td> \n",
       "</tr>\n",
       "<tr>\n",
       "  <th>Time:</th>                <td>14:33:47</td>     <th>  BIC                </th> <td>4553.137</td> \n",
       "</tr>\n",
       "<tr>\n",
       "  <th>Sample:</th>             <td>06-01-1997</td>    <th>  HQIC               </th> <td>4551.173</td> \n",
       "</tr>\n",
       "<tr>\n",
       "  <th></th>                   <td>- 02-01-2014</td>   <th>                     </th>     <td> </td>    \n",
       "</tr>\n",
       "<tr>\n",
       "  <th>Covariance Type:</th>        <td>opg</td>       <th>                     </th>     <td> </td>    \n",
       "</tr>\n",
       "</table>\n",
       "<table class=\"simpletable\">\n",
       "<tr>\n",
       "     <td></td>       <th>coef</th>     <th>std err</th>      <th>z</th>      <th>P>|z|</th>  <th>[0.025</th>    <th>0.975]</th>  \n",
       "</tr>\n",
       "<tr>\n",
       "  <th>sigma2</th> <td> 4.374e+08</td> <td> 3.74e+07</td> <td>   11.687</td> <td> 0.000</td> <td> 3.64e+08</td> <td> 5.11e+08</td>\n",
       "</tr>\n",
       "</table>\n",
       "<table class=\"simpletable\">\n",
       "<tr>\n",
       "  <th>Ljung-Box (L1) (Q):</th>     <td>177.57</td> <th>  Jarque-Bera (JB):  </th> <td>12.36</td>\n",
       "</tr>\n",
       "<tr>\n",
       "  <th>Prob(Q):</th>                 <td>0.00</td>  <th>  Prob(JB):          </th> <td>0.00</td> \n",
       "</tr>\n",
       "<tr>\n",
       "  <th>Heteroskedasticity (H):</th>  <td>15.67</td> <th>  Skew:              </th> <td>-0.42</td>\n",
       "</tr>\n",
       "<tr>\n",
       "  <th>Prob(H) (two-sided):</th>     <td>0.00</td>  <th>  Kurtosis:          </th> <td>3.88</td> \n",
       "</tr>\n",
       "</table><br/><br/>Warnings:<br/>[1] Covariance matrix calculated using the outer product of gradients (complex-step)."
      ],
      "text/plain": [
       "<class 'statsmodels.iolib.summary.Summary'>\n",
       "\"\"\"\n",
       "                               SARIMAX Results                                \n",
       "==============================================================================\n",
       "Dep. Variable:                  value   No. Observations:                  201\n",
       "Model:                 ARIMA(0, 1, 0)   Log Likelihood               -2273.919\n",
       "Date:                Tue, 24 Aug 2021   AIC                           4549.839\n",
       "Time:                        14:33:47   BIC                           4553.137\n",
       "Sample:                    06-01-1997   HQIC                          4551.173\n",
       "                         - 02-01-2014                                         \n",
       "Covariance Type:                  opg                                         \n",
       "==============================================================================\n",
       "                 coef    std err          z      P>|z|      [0.025      0.975]\n",
       "------------------------------------------------------------------------------\n",
       "sigma2      4.374e+08   3.74e+07     11.687      0.000    3.64e+08    5.11e+08\n",
       "===================================================================================\n",
       "Ljung-Box (L1) (Q):                 177.57   Jarque-Bera (JB):                12.36\n",
       "Prob(Q):                              0.00   Prob(JB):                         0.00\n",
       "Heteroskedasticity (H):              15.67   Skew:                            -0.42\n",
       "Prob(H) (two-sided):                  0.00   Kurtosis:                         3.88\n",
       "===================================================================================\n",
       "\n",
       "Warnings:\n",
       "[1] Covariance matrix calculated using the outer product of gradients (complex-step).\n",
       "\"\"\""
      ]
     },
     "execution_count": 94,
     "metadata": {},
     "output_type": "execute_result"
    }
   ],
   "source": [
    "random_walk_model = ARIMA(train, order=(0, 1, 0)).fit()\n",
    "random_walk_model.summary()"
   ]
  },
  {
   "cell_type": "code",
   "execution_count": 95,
   "metadata": {},
   "outputs": [
    {
     "name": "stdout",
     "output_type": "stream",
     "text": [
      "Random Walk AIC: 4549.838547357989\n",
      "AR(1, 1, 0) AIC: 4144.104227726902\n"
     ]
    }
   ],
   "source": [
    "print(f'Random Walk AIC: {random_walk_model.aic}')\n",
    "print(f'AR(1, 1, 0) AIC: {ar_1.aic}' )"
   ]
  },
  {
   "cell_type": "code",
   "execution_count": 96,
   "metadata": {},
   "outputs": [
    {
     "data": {
      "text/plain": [
       "7863.503101132045"
      ]
     },
     "execution_count": 96,
     "metadata": {},
     "output_type": "execute_result"
    }
   ],
   "source": [
    "y_hat_ar1 = ar_1.predict(typ='levels')\n",
    "np.sqrt(mean_squared_error(train, y_hat_ar1))"
   ]
  },
  {
   "cell_type": "code",
   "execution_count": 97,
   "metadata": {},
   "outputs": [
    {
     "name": "stderr",
     "output_type": "stream",
     "text": [
      "/Users/a_conte/opt/anaconda3/envs/learn-env/lib/python3.8/site-packages/statsmodels/tsa/base/tsa_model.py:524: ValueWarning: No frequency information was provided, so inferred frequency MS will be used.\n",
      "  warnings.warn('No frequency information was'\n",
      "/Users/a_conte/opt/anaconda3/envs/learn-env/lib/python3.8/site-packages/statsmodels/tsa/base/tsa_model.py:524: ValueWarning: No frequency information was provided, so inferred frequency MS will be used.\n",
      "  warnings.warn('No frequency information was'\n",
      "/Users/a_conte/opt/anaconda3/envs/learn-env/lib/python3.8/site-packages/statsmodels/tsa/base/tsa_model.py:524: ValueWarning: No frequency information was provided, so inferred frequency MS will be used.\n",
      "  warnings.warn('No frequency information was'\n"
     ]
    },
    {
     "data": {
      "text/plain": [
       "1997-06-01         0.000000\n",
       "1997-07-01     60662.495177\n",
       "1997-08-01     27381.012217\n",
       "1997-09-01     48071.255785\n",
       "1997-10-01     54933.277003\n",
       "                  ...      \n",
       "2013-10-01    350687.821102\n",
       "2013-11-01    398363.170229\n",
       "2013-12-01    427849.107603\n",
       "2014-01-01    443361.783067\n",
       "2014-02-01    438767.699472\n",
       "Freq: MS, Name: predicted_mean, Length: 201, dtype: float64"
      ]
     },
     "execution_count": 97,
     "metadata": {},
     "output_type": "execute_result"
    }
   ],
   "source": [
    "ar_2 = ARIMA(train, order=(2, 1, 0)).fit()\n",
    "\n",
    "ar_2.predict(typ='levels')"
   ]
  },
  {
   "cell_type": "code",
   "execution_count": 98,
   "metadata": {},
   "outputs": [
    {
     "name": "stdout",
     "output_type": "stream",
     "text": [
      "4549.838547357989\n",
      "4144.104227726902\n",
      "4071.749518189915\n"
     ]
    }
   ],
   "source": [
    "print(random_walk_model.aic)\n",
    "print(ar_1.aic)\n",
    "print(ar_2.aic)"
   ]
  },
  {
   "cell_type": "code",
   "execution_count": 99,
   "metadata": {},
   "outputs": [
    {
     "data": {
      "text/plain": [
       "6703.550207708691"
      ]
     },
     "execution_count": 99,
     "metadata": {},
     "output_type": "execute_result"
    }
   ],
   "source": [
    "\n",
    "\n",
    "y_hat_ar1 = ar_2.predict(typ='levels')\n",
    "np.sqrt(mean_squared_error(train, y_hat_ar1))"
   ]
  },
  {
   "cell_type": "markdown",
   "metadata": {},
   "source": [
    "# Moving Average Model (MA)"
   ]
  },
  {
   "cell_type": "code",
   "execution_count": 100,
   "metadata": {},
   "outputs": [
    {
     "name": "stderr",
     "output_type": "stream",
     "text": [
      "/Users/a_conte/opt/anaconda3/envs/learn-env/lib/python3.8/site-packages/statsmodels/tsa/base/tsa_model.py:524: ValueWarning: No frequency information was provided, so inferred frequency MS will be used.\n",
      "  warnings.warn('No frequency information was'\n",
      "/Users/a_conte/opt/anaconda3/envs/learn-env/lib/python3.8/site-packages/statsmodels/tsa/base/tsa_model.py:524: ValueWarning: No frequency information was provided, so inferred frequency MS will be used.\n",
      "  warnings.warn('No frequency information was'\n",
      "/Users/a_conte/opt/anaconda3/envs/learn-env/lib/python3.8/site-packages/statsmodels/tsa/base/tsa_model.py:524: ValueWarning: No frequency information was provided, so inferred frequency MS will be used.\n",
      "  warnings.warn('No frequency information was'\n",
      "/Users/a_conte/opt/anaconda3/envs/learn-env/lib/python3.8/site-packages/statsmodels/tsa/statespace/sarimax.py:977: UserWarning: Non-invertible starting MA parameters found. Using zeros as starting parameters.\n",
      "  warn('Non-invertible starting MA parameters found.'\n"
     ]
    },
    {
     "data": {
      "text/plain": [
       "1997-06-01    141732.835835\n",
       "1997-07-01     86577.008418\n",
       "1997-08-01    108625.424769\n",
       "1997-09-01     92310.906665\n",
       "1997-10-01    107104.052419\n",
       "                  ...      \n",
       "2013-10-01    236579.622732\n",
       "2013-11-01    255597.910707\n",
       "2013-12-01    277152.780356\n",
       "2014-01-01    285041.752843\n",
       "2014-02-01    290151.667762\n",
       "Freq: MS, Name: predicted_mean, Length: 201, dtype: float64"
      ]
     },
     "execution_count": 100,
     "metadata": {},
     "output_type": "execute_result"
    }
   ],
   "source": [
    "ma_1 = ARIMA(train, order=(0, 0, 1)).fit()\n",
    "y_hat = ma_1.predict(typ='levels')\n",
    "y_hat"
   ]
  },
  {
   "cell_type": "code",
   "execution_count": 102,
   "metadata": {},
   "outputs": [
    {
     "data": {
      "text/html": [
       "<table class=\"simpletable\">\n",
       "<caption>SARIMAX Results</caption>\n",
       "<tr>\n",
       "  <th>Dep. Variable:</th>         <td>value</td>      <th>  No. Observations:  </th>    <td>201</td>   \n",
       "</tr>\n",
       "<tr>\n",
       "  <th>Model:</th>            <td>ARIMA(0, 0, 1)</td>  <th>  Log Likelihood     </th> <td>-2736.513</td>\n",
       "</tr>\n",
       "<tr>\n",
       "  <th>Date:</th>            <td>Tue, 24 Aug 2021</td> <th>  AIC                </th> <td>5479.026</td> \n",
       "</tr>\n",
       "<tr>\n",
       "  <th>Time:</th>                <td>14:37:05</td>     <th>  BIC                </th> <td>5488.936</td> \n",
       "</tr>\n",
       "<tr>\n",
       "  <th>Sample:</th>             <td>06-01-1997</td>    <th>  HQIC               </th> <td>5483.036</td> \n",
       "</tr>\n",
       "<tr>\n",
       "  <th></th>                   <td>- 02-01-2014</td>   <th>                     </th>     <td> </td>    \n",
       "</tr>\n",
       "<tr>\n",
       "  <th>Covariance Type:</th>        <td>opg</td>       <th>                     </th>     <td> </td>    \n",
       "</tr>\n",
       "</table>\n",
       "<table class=\"simpletable\">\n",
       "<tr>\n",
       "     <td></td>       <th>coef</th>     <th>std err</th>      <th>z</th>      <th>P>|z|</th>  <th>[0.025</th>    <th>0.975]</th>  \n",
       "</tr>\n",
       "<tr>\n",
       "  <th>const</th>  <td> 1.417e+05</td> <td> 9.28e+04</td> <td>    1.528</td> <td> 0.127</td> <td>-4.01e+04</td> <td> 3.24e+05</td>\n",
       "</tr>\n",
       "<tr>\n",
       "  <th>ma.L1</th>  <td>    0.9806</td> <td>    0.312</td> <td>    3.147</td> <td> 0.002</td> <td>    0.370</td> <td>    1.591</td>\n",
       "</tr>\n",
       "<tr>\n",
       "  <th>sigma2</th> <td> 8.136e+10</td> <td>    0.056</td> <td> 1.44e+12</td> <td> 0.000</td> <td> 8.14e+10</td> <td> 8.14e+10</td>\n",
       "</tr>\n",
       "</table>\n",
       "<table class=\"simpletable\">\n",
       "<tr>\n",
       "  <th>Ljung-Box (L1) (Q):</th>     <td>201.21</td> <th>  Jarque-Bera (JB):  </th> <td>25.20</td>\n",
       "</tr>\n",
       "<tr>\n",
       "  <th>Prob(Q):</th>                 <td>0.00</td>  <th>  Prob(JB):          </th> <td>0.00</td> \n",
       "</tr>\n",
       "<tr>\n",
       "  <th>Heteroskedasticity (H):</th>  <td>5.03</td>  <th>  Skew:              </th> <td>-0.86</td>\n",
       "</tr>\n",
       "<tr>\n",
       "  <th>Prob(H) (two-sided):</th>     <td>0.00</td>  <th>  Kurtosis:          </th> <td>2.87</td> \n",
       "</tr>\n",
       "</table><br/><br/>Warnings:<br/>[1] Covariance matrix calculated using the outer product of gradients (complex-step).<br/>[2] Covariance matrix is singular or near-singular, with condition number 3.34e+33. Standard errors may be unstable."
      ],
      "text/plain": [
       "<class 'statsmodels.iolib.summary.Summary'>\n",
       "\"\"\"\n",
       "                               SARIMAX Results                                \n",
       "==============================================================================\n",
       "Dep. Variable:                  value   No. Observations:                  201\n",
       "Model:                 ARIMA(0, 0, 1)   Log Likelihood               -2736.513\n",
       "Date:                Tue, 24 Aug 2021   AIC                           5479.026\n",
       "Time:                        14:37:05   BIC                           5488.936\n",
       "Sample:                    06-01-1997   HQIC                          5483.036\n",
       "                         - 02-01-2014                                         \n",
       "Covariance Type:                  opg                                         \n",
       "==============================================================================\n",
       "                 coef    std err          z      P>|z|      [0.025      0.975]\n",
       "------------------------------------------------------------------------------\n",
       "const       1.417e+05   9.28e+04      1.528      0.127   -4.01e+04    3.24e+05\n",
       "ma.L1          0.9806      0.312      3.147      0.002       0.370       1.591\n",
       "sigma2      8.136e+10      0.056   1.44e+12      0.000    8.14e+10    8.14e+10\n",
       "===================================================================================\n",
       "Ljung-Box (L1) (Q):                 201.21   Jarque-Bera (JB):                25.20\n",
       "Prob(Q):                              0.00   Prob(JB):                         0.00\n",
       "Heteroskedasticity (H):               5.03   Skew:                            -0.86\n",
       "Prob(H) (two-sided):                  0.00   Kurtosis:                         2.87\n",
       "===================================================================================\n",
       "\n",
       "Warnings:\n",
       "[1] Covariance matrix calculated using the outer product of gradients (complex-step).\n",
       "[2] Covariance matrix is singular or near-singular, with condition number 3.34e+33. Standard errors may be unstable.\n",
       "\"\"\""
      ]
     },
     "execution_count": 102,
     "metadata": {},
     "output_type": "execute_result"
    }
   ],
   "source": [
    "ma_1.summary()"
   ]
  },
  {
   "cell_type": "code",
   "execution_count": 103,
   "metadata": {},
   "outputs": [
    {
     "name": "stdout",
     "output_type": "stream",
     "text": [
      "4549.838547357989\n",
      "4144.104227726902\n",
      "4071.749518189915\n",
      "4302.2386755469215\n"
     ]
    },
    {
     "name": "stderr",
     "output_type": "stream",
     "text": [
      "/Users/a_conte/opt/anaconda3/envs/learn-env/lib/python3.8/site-packages/statsmodels/tsa/base/tsa_model.py:524: ValueWarning: No frequency information was provided, so inferred frequency MS will be used.\n",
      "  warnings.warn('No frequency information was'\n",
      "/Users/a_conte/opt/anaconda3/envs/learn-env/lib/python3.8/site-packages/statsmodels/tsa/base/tsa_model.py:524: ValueWarning: No frequency information was provided, so inferred frequency MS will be used.\n",
      "  warnings.warn('No frequency information was'\n",
      "/Users/a_conte/opt/anaconda3/envs/learn-env/lib/python3.8/site-packages/statsmodels/tsa/base/tsa_model.py:524: ValueWarning: No frequency information was provided, so inferred frequency MS will be used.\n",
      "  warnings.warn('No frequency information was'\n",
      "/Users/a_conte/opt/anaconda3/envs/learn-env/lib/python3.8/site-packages/statsmodels/tsa/statespace/sarimax.py:977: UserWarning: Non-invertible starting MA parameters found. Using zeros as starting parameters.\n",
      "  warn('Non-invertible starting MA parameters found.'\n"
     ]
    }
   ],
   "source": [
    "# Looking at the 1st order MA model with a 1st order difference\n",
    "\n",
    "ma_1 = ARIMA(train, order=(0, 1, 1)).fit()\n",
    "\n",
    "print(random_walk_model.aic)\n",
    "print(ar_1.aic)\n",
    "print(ar_2.aic)\n",
    "print(ma_1.aic)"
   ]
  },
  {
   "cell_type": "code",
   "execution_count": 105,
   "metadata": {},
   "outputs": [
    {
     "data": {
      "text/plain": [
       "11360.44652689901"
      ]
     },
     "execution_count": 105,
     "metadata": {},
     "output_type": "execute_result"
    }
   ],
   "source": [
    "y_hat_ar1 = ma_1.predict(typ='levels')\n",
    "np.sqrt(mean_squared_error(train, y_hat_ar1))"
   ]
  },
  {
   "cell_type": "code",
   "execution_count": 107,
   "metadata": {},
   "outputs": [
    {
     "name": "stderr",
     "output_type": "stream",
     "text": [
      "/Users/a_conte/opt/anaconda3/envs/learn-env/lib/python3.8/site-packages/statsmodels/tsa/base/tsa_model.py:524: ValueWarning: No frequency information was provided, so inferred frequency MS will be used.\n",
      "  warnings.warn('No frequency information was'\n",
      "/Users/a_conte/opt/anaconda3/envs/learn-env/lib/python3.8/site-packages/statsmodels/tsa/base/tsa_model.py:524: ValueWarning: No frequency information was provided, so inferred frequency MS will be used.\n",
      "  warnings.warn('No frequency information was'\n",
      "/Users/a_conte/opt/anaconda3/envs/learn-env/lib/python3.8/site-packages/statsmodels/tsa/base/tsa_model.py:524: ValueWarning: No frequency information was provided, so inferred frequency MS will be used.\n",
      "  warnings.warn('No frequency information was'\n",
      "/Users/a_conte/opt/anaconda3/envs/learn-env/lib/python3.8/site-packages/statsmodels/tsa/statespace/sarimax.py:977: UserWarning: Non-invertible starting MA parameters found. Using zeros as starting parameters.\n",
      "  warn('Non-invertible starting MA parameters found.'\n"
     ]
    },
    {
     "data": {
      "text/plain": [
       "1997-06-01         0.000000\n",
       "1997-07-01     53512.262571\n",
       "1997-08-01     27369.277242\n",
       "1997-09-01     52033.903240\n",
       "1997-10-01     55784.870943\n",
       "                  ...      \n",
       "2013-10-01    325872.574045\n",
       "2013-11-01    393956.450224\n",
       "2013-12-01    419902.687690\n",
       "2014-01-01    427751.299815\n",
       "2014-02-01    451741.875558\n",
       "Freq: MS, Name: predicted_mean, Length: 201, dtype: float64"
      ]
     },
     "execution_count": 107,
     "metadata": {},
     "output_type": "execute_result"
    }
   ],
   "source": [
    "ma_2 = ARIMA(train, order=(0, 1, 2)).fit()\n",
    "y_hat = ma_2.predict(typ='levels')\n",
    "y_hat"
   ]
  },
  {
   "cell_type": "code",
   "execution_count": 108,
   "metadata": {},
   "outputs": [
    {
     "name": "stdout",
     "output_type": "stream",
     "text": [
      "4549.838547357989\n",
      "4144.104227726902\n",
      "4071.749518189915\n",
      "4302.2386755469215\n",
      "4176.413096513015\n"
     ]
    }
   ],
   "source": [
    "print(random_walk_model.aic)\n",
    "print(ar_1.aic)\n",
    "print(ar_2.aic)\n",
    "print(ma_1.aic)\n",
    "print(ma_2.aic)"
   ]
  },
  {
   "cell_type": "markdown",
   "metadata": {},
   "source": [
    "# ARMA"
   ]
  },
  {
   "cell_type": "code",
   "execution_count": 109,
   "metadata": {},
   "outputs": [
    {
     "name": "stderr",
     "output_type": "stream",
     "text": [
      "/Users/a_conte/opt/anaconda3/envs/learn-env/lib/python3.8/site-packages/statsmodels/tsa/base/tsa_model.py:524: ValueWarning: No frequency information was provided, so inferred frequency MS will be used.\n",
      "  warnings.warn('No frequency information was'\n",
      "/Users/a_conte/opt/anaconda3/envs/learn-env/lib/python3.8/site-packages/statsmodels/tsa/base/tsa_model.py:524: ValueWarning: No frequency information was provided, so inferred frequency MS will be used.\n",
      "  warnings.warn('No frequency information was'\n",
      "/Users/a_conte/opt/anaconda3/envs/learn-env/lib/python3.8/site-packages/statsmodels/tsa/base/tsa_model.py:524: ValueWarning: No frequency information was provided, so inferred frequency MS will be used.\n",
      "  warnings.warn('No frequency information was'\n"
     ]
    }
   ],
   "source": [
    "arma_21 = ARIMA(train, order=(2, 1, 2)).fit()"
   ]
  },
  {
   "cell_type": "code",
   "execution_count": 110,
   "metadata": {},
   "outputs": [
    {
     "name": "stdout",
     "output_type": "stream",
     "text": [
      "4549.838547357989\n",
      "4144.104227726902\n",
      "4071.749518189915\n",
      "4302.2386755469215\n",
      "4176.413096513015\n",
      "3989.5490784756535\n"
     ]
    }
   ],
   "source": [
    "print(random_walk_model.aic)\n",
    "print(ar_1.aic)\n",
    "print(ar_2.aic)\n",
    "print(ma_1.aic)\n",
    "print(ma_2.aic)\n",
    "print(arma_21.aic)"
   ]
  },
  {
   "cell_type": "code",
   "execution_count": 111,
   "metadata": {},
   "outputs": [],
   "source": [
    "def find_rmse(model, train_data=train):\n",
    "    y_hat = model.predict(typ='levels')\n",
    "    return np.sqrt(mean_squared_error(train_data, y_hat))"
   ]
  },
  {
   "cell_type": "code",
   "execution_count": 112,
   "metadata": {},
   "outputs": [
    {
     "name": "stdout",
     "output_type": "stream",
     "text": [
      "21030.60787665662\n",
      "7863.503101132045\n",
      "6703.550207708691\n",
      "11360.44652689901\n",
      "8402.085657532916\n",
      "5654.923031270215\n"
     ]
    }
   ],
   "source": [
    "print(find_rmse(random_walk_model))\n",
    "print(find_rmse(ar_1))\n",
    "print(find_rmse(ar_2))\n",
    "print(find_rmse(ma_1))\n",
    "print(find_rmse(ma_2))\n",
    "print(find_rmse(arma_21))"
   ]
  },
  {
   "cell_type": "markdown",
   "metadata": {},
   "source": [
    "# SARIMA"
   ]
  },
  {
   "cell_type": "code",
   "execution_count": 114,
   "metadata": {},
   "outputs": [
    {
     "name": "stdout",
     "output_type": "stream",
     "text": [
      "Examples of parameter for SARIMA...\n",
      "SARIMAX: (0, 1, 0) x (0, 1, 0, 52)\n",
      "SARIMAX: (0, 1, 0) x (0, 1, 1, 52)\n",
      "SARIMAX: (0, 1, 0) x (1, 1, 0, 52)\n",
      "SARIMAX: (0, 1, 0) x (1, 1, 1, 52)\n",
      "SARIMAX: (0, 1, 1) x (0, 1, 0, 52)\n",
      "SARIMAX: (0, 1, 1) x (0, 1, 1, 52)\n",
      "SARIMAX: (0, 1, 1) x (1, 1, 0, 52)\n",
      "SARIMAX: (0, 1, 1) x (1, 1, 1, 52)\n",
      "SARIMAX: (1, 1, 0) x (0, 1, 0, 52)\n",
      "SARIMAX: (1, 1, 0) x (0, 1, 1, 52)\n",
      "SARIMAX: (1, 1, 0) x (1, 1, 0, 52)\n",
      "SARIMAX: (1, 1, 0) x (1, 1, 1, 52)\n",
      "SARIMAX: (1, 1, 1) x (0, 1, 0, 52)\n",
      "SARIMAX: (1, 1, 1) x (0, 1, 1, 52)\n",
      "SARIMAX: (1, 1, 1) x (1, 1, 0, 52)\n",
      "SARIMAX: (1, 1, 1) x (1, 1, 1, 52)\n"
     ]
    }
   ],
   "source": [
    "p = q = range(0, 2)\n",
    "pdq = list(itertools.product(p, [1], q))\n",
    "seasonal_pdq = [(x[0], x[1], x[2], 52) for x in list(itertools.product(p, [1], q))]\n",
    "print('Examples of parameter for SARIMA...')\n",
    "for i in pdq:\n",
    "    for s in seasonal_pdq:\n",
    "        print('SARIMAX: {} x {}'.format(i, s))"
   ]
  },
  {
   "cell_type": "code",
   "execution_count": 115,
   "metadata": {},
   "outputs": [
    {
     "name": "stderr",
     "output_type": "stream",
     "text": [
      "/Users/a_conte/opt/anaconda3/envs/learn-env/lib/python3.8/site-packages/statsmodels/tsa/base/tsa_model.py:524: ValueWarning: No frequency information was provided, so inferred frequency MS will be used.\n",
      "  warnings.warn('No frequency information was'\n",
      "/Users/a_conte/opt/anaconda3/envs/learn-env/lib/python3.8/site-packages/statsmodels/tsa/base/tsa_model.py:524: ValueWarning: No frequency information was provided, so inferred frequency MS will be used.\n",
      "  warnings.warn('No frequency information was'\n"
     ]
    },
    {
     "name": "stdout",
     "output_type": "stream",
     "text": [
      "ARIMA(0, 1, 0)x(0, 1, 0, 52) - AIC:3481.3619364874994\n"
     ]
    },
    {
     "name": "stderr",
     "output_type": "stream",
     "text": [
      "/Users/a_conte/opt/anaconda3/envs/learn-env/lib/python3.8/site-packages/statsmodels/tsa/base/tsa_model.py:524: ValueWarning: No frequency information was provided, so inferred frequency MS will be used.\n",
      "  warnings.warn('No frequency information was'\n",
      "/Users/a_conte/opt/anaconda3/envs/learn-env/lib/python3.8/site-packages/statsmodels/tsa/base/tsa_model.py:524: ValueWarning: No frequency information was provided, so inferred frequency MS will be used.\n",
      "  warnings.warn('No frequency information was'\n",
      "/Users/a_conte/opt/anaconda3/envs/learn-env/lib/python3.8/site-packages/statsmodels/tsa/statespace/sarimax.py:865: UserWarning: Too few observations to estimate starting parameters for seasonal ARMA. All parameters except for variances will be set to zeros.\n",
      "  warn('Too few observations to estimate starting parameters%s.'\n"
     ]
    },
    {
     "name": "stdout",
     "output_type": "stream",
     "text": [
      "ARIMA(0, 1, 0)x(0, 1, 1, 52) - AIC:2221.923680092454\n"
     ]
    },
    {
     "name": "stderr",
     "output_type": "stream",
     "text": [
      "/Users/a_conte/opt/anaconda3/envs/learn-env/lib/python3.8/site-packages/statsmodels/tsa/base/tsa_model.py:524: ValueWarning: No frequency information was provided, so inferred frequency MS will be used.\n",
      "  warnings.warn('No frequency information was'\n",
      "/Users/a_conte/opt/anaconda3/envs/learn-env/lib/python3.8/site-packages/statsmodels/tsa/base/tsa_model.py:524: ValueWarning: No frequency information was provided, so inferred frequency MS will be used.\n",
      "  warnings.warn('No frequency information was'\n"
     ]
    },
    {
     "name": "stdout",
     "output_type": "stream",
     "text": [
      "ARIMA(0, 1, 0)x(1, 1, 0, 52) - AIC:2254.2613118961217\n"
     ]
    },
    {
     "name": "stderr",
     "output_type": "stream",
     "text": [
      "/Users/a_conte/opt/anaconda3/envs/learn-env/lib/python3.8/site-packages/statsmodels/tsa/base/tsa_model.py:524: ValueWarning: No frequency information was provided, so inferred frequency MS will be used.\n",
      "  warnings.warn('No frequency information was'\n",
      "/Users/a_conte/opt/anaconda3/envs/learn-env/lib/python3.8/site-packages/statsmodels/tsa/base/tsa_model.py:524: ValueWarning: No frequency information was provided, so inferred frequency MS will be used.\n",
      "  warnings.warn('No frequency information was'\n"
     ]
    },
    {
     "name": "stdout",
     "output_type": "stream",
     "text": [
      "ARIMA(0, 1, 0)x(1, 1, 1, 52) - AIC:2223.6158964507495\n"
     ]
    },
    {
     "name": "stderr",
     "output_type": "stream",
     "text": [
      "/Users/a_conte/opt/anaconda3/envs/learn-env/lib/python3.8/site-packages/statsmodels/tsa/base/tsa_model.py:524: ValueWarning: No frequency information was provided, so inferred frequency MS will be used.\n",
      "  warnings.warn('No frequency information was'\n",
      "/Users/a_conte/opt/anaconda3/envs/learn-env/lib/python3.8/site-packages/statsmodels/tsa/base/tsa_model.py:524: ValueWarning: No frequency information was provided, so inferred frequency MS will be used.\n",
      "  warnings.warn('No frequency information was'\n"
     ]
    },
    {
     "name": "stdout",
     "output_type": "stream",
     "text": [
      "ARIMA(0, 1, 1)x(0, 1, 0, 52) - AIC:3333.549419223009\n"
     ]
    },
    {
     "name": "stderr",
     "output_type": "stream",
     "text": [
      "/Users/a_conte/opt/anaconda3/envs/learn-env/lib/python3.8/site-packages/statsmodels/tsa/base/tsa_model.py:524: ValueWarning: No frequency information was provided, so inferred frequency MS will be used.\n",
      "  warnings.warn('No frequency information was'\n",
      "/Users/a_conte/opt/anaconda3/envs/learn-env/lib/python3.8/site-packages/statsmodels/tsa/base/tsa_model.py:524: ValueWarning: No frequency information was provided, so inferred frequency MS will be used.\n",
      "  warnings.warn('No frequency information was'\n"
     ]
    },
    {
     "name": "stdout",
     "output_type": "stream",
     "text": [
      "ARIMA(0, 1, 1)x(0, 1, 1, 52) - AIC:2144.3592414021587\n"
     ]
    },
    {
     "name": "stderr",
     "output_type": "stream",
     "text": [
      "/Users/a_conte/opt/anaconda3/envs/learn-env/lib/python3.8/site-packages/statsmodels/tsa/base/tsa_model.py:524: ValueWarning: No frequency information was provided, so inferred frequency MS will be used.\n",
      "  warnings.warn('No frequency information was'\n",
      "/Users/a_conte/opt/anaconda3/envs/learn-env/lib/python3.8/site-packages/statsmodels/tsa/base/tsa_model.py:524: ValueWarning: No frequency information was provided, so inferred frequency MS will be used.\n",
      "  warnings.warn('No frequency information was'\n"
     ]
    },
    {
     "name": "stdout",
     "output_type": "stream",
     "text": [
      "ARIMA(0, 1, 1)x(1, 1, 0, 52) - AIC:2191.4460737326326\n"
     ]
    },
    {
     "name": "stderr",
     "output_type": "stream",
     "text": [
      "/Users/a_conte/opt/anaconda3/envs/learn-env/lib/python3.8/site-packages/statsmodels/tsa/base/tsa_model.py:524: ValueWarning: No frequency information was provided, so inferred frequency MS will be used.\n",
      "  warnings.warn('No frequency information was'\n",
      "/Users/a_conte/opt/anaconda3/envs/learn-env/lib/python3.8/site-packages/statsmodels/tsa/base/tsa_model.py:524: ValueWarning: No frequency information was provided, so inferred frequency MS will be used.\n",
      "  warnings.warn('No frequency information was'\n"
     ]
    },
    {
     "name": "stdout",
     "output_type": "stream",
     "text": [
      "ARIMA(0, 1, 1)x(1, 1, 1, 52) - AIC:2145.4104814073467\n"
     ]
    },
    {
     "name": "stderr",
     "output_type": "stream",
     "text": [
      "/Users/a_conte/opt/anaconda3/envs/learn-env/lib/python3.8/site-packages/statsmodels/tsa/base/tsa_model.py:524: ValueWarning: No frequency information was provided, so inferred frequency MS will be used.\n",
      "  warnings.warn('No frequency information was'\n",
      "/Users/a_conte/opt/anaconda3/envs/learn-env/lib/python3.8/site-packages/statsmodels/tsa/base/tsa_model.py:524: ValueWarning: No frequency information was provided, so inferred frequency MS will be used.\n",
      "  warnings.warn('No frequency information was'\n"
     ]
    },
    {
     "name": "stdout",
     "output_type": "stream",
     "text": [
      "ARIMA(1, 1, 0)x(0, 1, 0, 52) - AIC:3110.7637029726047\n"
     ]
    },
    {
     "name": "stderr",
     "output_type": "stream",
     "text": [
      "/Users/a_conte/opt/anaconda3/envs/learn-env/lib/python3.8/site-packages/statsmodels/tsa/base/tsa_model.py:524: ValueWarning: No frequency information was provided, so inferred frequency MS will be used.\n",
      "  warnings.warn('No frequency information was'\n",
      "/Users/a_conte/opt/anaconda3/envs/learn-env/lib/python3.8/site-packages/statsmodels/tsa/base/tsa_model.py:524: ValueWarning: No frequency information was provided, so inferred frequency MS will be used.\n",
      "  warnings.warn('No frequency information was'\n"
     ]
    },
    {
     "name": "stdout",
     "output_type": "stream",
     "text": [
      "ARIMA(1, 1, 0)x(0, 1, 1, 52) - AIC:2023.3959379818061\n"
     ]
    },
    {
     "name": "stderr",
     "output_type": "stream",
     "text": [
      "/Users/a_conte/opt/anaconda3/envs/learn-env/lib/python3.8/site-packages/statsmodels/tsa/base/tsa_model.py:524: ValueWarning: No frequency information was provided, so inferred frequency MS will be used.\n",
      "  warnings.warn('No frequency information was'\n",
      "/Users/a_conte/opt/anaconda3/envs/learn-env/lib/python3.8/site-packages/statsmodels/tsa/base/tsa_model.py:524: ValueWarning: No frequency information was provided, so inferred frequency MS will be used.\n",
      "  warnings.warn('No frequency information was'\n"
     ]
    },
    {
     "name": "stdout",
     "output_type": "stream",
     "text": [
      "ARIMA(1, 1, 0)x(1, 1, 0, 52) - AIC:2030.724794444211\n"
     ]
    },
    {
     "name": "stderr",
     "output_type": "stream",
     "text": [
      "/Users/a_conte/opt/anaconda3/envs/learn-env/lib/python3.8/site-packages/statsmodels/tsa/base/tsa_model.py:524: ValueWarning: No frequency information was provided, so inferred frequency MS will be used.\n",
      "  warnings.warn('No frequency information was'\n",
      "/Users/a_conte/opt/anaconda3/envs/learn-env/lib/python3.8/site-packages/statsmodels/tsa/base/tsa_model.py:524: ValueWarning: No frequency information was provided, so inferred frequency MS will be used.\n",
      "  warnings.warn('No frequency information was'\n"
     ]
    },
    {
     "name": "stdout",
     "output_type": "stream",
     "text": [
      "ARIMA(1, 1, 0)x(1, 1, 1, 52) - AIC:2024.8688748823372\n"
     ]
    },
    {
     "name": "stderr",
     "output_type": "stream",
     "text": [
      "/Users/a_conte/opt/anaconda3/envs/learn-env/lib/python3.8/site-packages/statsmodels/tsa/base/tsa_model.py:524: ValueWarning: No frequency information was provided, so inferred frequency MS will be used.\n",
      "  warnings.warn('No frequency information was'\n",
      "/Users/a_conte/opt/anaconda3/envs/learn-env/lib/python3.8/site-packages/statsmodels/tsa/base/tsa_model.py:524: ValueWarning: No frequency information was provided, so inferred frequency MS will be used.\n",
      "  warnings.warn('No frequency information was'\n"
     ]
    },
    {
     "name": "stdout",
     "output_type": "stream",
     "text": [
      "ARIMA(1, 1, 1)x(0, 1, 0, 52) - AIC:3015.6764704090956\n"
     ]
    },
    {
     "name": "stderr",
     "output_type": "stream",
     "text": [
      "/Users/a_conte/opt/anaconda3/envs/learn-env/lib/python3.8/site-packages/statsmodels/tsa/base/tsa_model.py:524: ValueWarning: No frequency information was provided, so inferred frequency MS will be used.\n",
      "  warnings.warn('No frequency information was'\n",
      "/Users/a_conte/opt/anaconda3/envs/learn-env/lib/python3.8/site-packages/statsmodels/tsa/base/tsa_model.py:524: ValueWarning: No frequency information was provided, so inferred frequency MS will be used.\n",
      "  warnings.warn('No frequency information was'\n"
     ]
    },
    {
     "name": "stdout",
     "output_type": "stream",
     "text": [
      "ARIMA(1, 1, 1)x(0, 1, 1, 52) - AIC:1960.102199618566\n"
     ]
    },
    {
     "name": "stderr",
     "output_type": "stream",
     "text": [
      "/Users/a_conte/opt/anaconda3/envs/learn-env/lib/python3.8/site-packages/statsmodels/tsa/base/tsa_model.py:524: ValueWarning: No frequency information was provided, so inferred frequency MS will be used.\n",
      "  warnings.warn('No frequency information was'\n",
      "/Users/a_conte/opt/anaconda3/envs/learn-env/lib/python3.8/site-packages/statsmodels/tsa/base/tsa_model.py:524: ValueWarning: No frequency information was provided, so inferred frequency MS will be used.\n",
      "  warnings.warn('No frequency information was'\n"
     ]
    },
    {
     "name": "stdout",
     "output_type": "stream",
     "text": [
      "ARIMA(1, 1, 1)x(1, 1, 0, 52) - AIC:1985.0871204383668\n"
     ]
    },
    {
     "name": "stderr",
     "output_type": "stream",
     "text": [
      "/Users/a_conte/opt/anaconda3/envs/learn-env/lib/python3.8/site-packages/statsmodels/tsa/base/tsa_model.py:524: ValueWarning: No frequency information was provided, so inferred frequency MS will be used.\n",
      "  warnings.warn('No frequency information was'\n",
      "/Users/a_conte/opt/anaconda3/envs/learn-env/lib/python3.8/site-packages/statsmodels/tsa/base/tsa_model.py:524: ValueWarning: No frequency information was provided, so inferred frequency MS will be used.\n",
      "  warnings.warn('No frequency information was'\n"
     ]
    },
    {
     "name": "stdout",
     "output_type": "stream",
     "text": [
      "ARIMA(1, 1, 1)x(1, 1, 1, 52) - AIC:1962.0849811503663\n"
     ]
    }
   ],
   "source": [
    "for param in pdq:\n",
    "    for param_seasonal in seasonal_pdq:\n",
    "        try:\n",
    "            mod=SARIMAX(train,\n",
    "                         order=param,\n",
    "                         seasonal_order=param_seasonal,\n",
    "                         enforce_stationarity=False,\n",
    "                         enforce_invertibility=False)\n",
    "            results = mod.fit()\n",
    "            print('ARIMA{}x{} - AIC:{}'.format(param,param_seasonal,results.aic))\n",
    "        except: \n",
    "            print('Oops!')\n",
    "            continue"
   ]
  },
  {
   "cell_type": "code",
   "execution_count": 116,
   "metadata": {},
   "outputs": [
    {
     "name": "stderr",
     "output_type": "stream",
     "text": [
      "/Users/a_conte/opt/anaconda3/envs/learn-env/lib/python3.8/site-packages/statsmodels/tsa/base/tsa_model.py:524: ValueWarning: No frequency information was provided, so inferred frequency MS will be used.\n",
      "  warnings.warn('No frequency information was'\n",
      "/Users/a_conte/opt/anaconda3/envs/learn-env/lib/python3.8/site-packages/statsmodels/tsa/base/tsa_model.py:524: ValueWarning: No frequency information was provided, so inferred frequency MS will be used.\n",
      "  warnings.warn('No frequency information was'\n"
     ]
    }
   ],
   "source": [
    "sari_mod =SARIMAX(train,\n",
    "                  order=(1, 1, 1),\n",
    "                  seasonal_order=(1, 1, 1, 52),\n",
    "                  enforce_stationarity=False,\n",
    "                  enforce_invertibility=False).fit()"
   ]
  },
  {
   "cell_type": "code",
   "execution_count": 118,
   "metadata": {},
   "outputs": [],
   "source": [
    "train_with_ind = train.reset_index()"
   ]
  },
  {
   "cell_type": "code",
   "execution_count": 120,
   "metadata": {},
   "outputs": [
    {
     "name": "stderr",
     "output_type": "stream",
     "text": [
      "/Users/a_conte/opt/anaconda3/envs/learn-env/lib/python3.8/site-packages/statsmodels/tsa/statespace/sarimax.py:865: UserWarning: Too few observations to estimate starting parameters for ARMA and trend. All parameters except for variances will be set to zeros.\n",
      "  warn('Too few observations to estimate starting parameters%s.'\n",
      "/Users/a_conte/opt/anaconda3/envs/learn-env/lib/python3.8/site-packages/statsmodels/tsa/statespace/sarimax.py:865: UserWarning: Too few observations to estimate starting parameters for seasonal ARMA. All parameters except for variances will be set to zeros.\n",
      "  warn('Too few observations to estimate starting parameters%s.'\n"
     ]
    },
    {
     "name": "stdout",
     "output_type": "stream",
     "text": [
      "48594.62046407132\n"
     ]
    },
    {
     "name": "stderr",
     "output_type": "stream",
     "text": [
      "/Users/a_conte/opt/anaconda3/envs/learn-env/lib/python3.8/site-packages/statsmodels/tsa/statespace/sarimax.py:865: UserWarning: Too few observations to estimate starting parameters for seasonal ARMA. All parameters except for variances will be set to zeros.\n",
      "  warn('Too few observations to estimate starting parameters%s.'\n"
     ]
    },
    {
     "name": "stdout",
     "output_type": "stream",
     "text": [
      "87788.35437354243\n"
     ]
    },
    {
     "name": "stderr",
     "output_type": "stream",
     "text": [
      "/Users/a_conte/opt/anaconda3/envs/learn-env/lib/python3.8/site-packages/statsmodels/tsa/statespace/sarimax.py:865: UserWarning: Too few observations to estimate starting parameters for seasonal ARMA. All parameters except for variances will be set to zeros.\n",
      "  warn('Too few observations to estimate starting parameters%s.'\n"
     ]
    },
    {
     "name": "stdout",
     "output_type": "stream",
     "text": [
      "442689.84668932843\n"
     ]
    },
    {
     "name": "stderr",
     "output_type": "stream",
     "text": [
      "/Users/a_conte/opt/anaconda3/envs/learn-env/lib/python3.8/site-packages/statsmodels/tsa/statespace/sarimax.py:865: UserWarning: Too few observations to estimate starting parameters for seasonal ARMA. All parameters except for variances will be set to zeros.\n",
      "  warn('Too few observations to estimate starting parameters%s.'\n"
     ]
    },
    {
     "name": "stdout",
     "output_type": "stream",
     "text": [
      "378258.37807777827\n"
     ]
    },
    {
     "name": "stderr",
     "output_type": "stream",
     "text": [
      "/Users/a_conte/opt/anaconda3/envs/learn-env/lib/python3.8/site-packages/statsmodels/tsa/statespace/sarimax.py:865: UserWarning: Too few observations to estimate starting parameters for seasonal ARMA. All parameters except for variances will be set to zeros.\n",
      "  warn('Too few observations to estimate starting parameters%s.'\n"
     ]
    },
    {
     "name": "stdout",
     "output_type": "stream",
     "text": [
      "470481.08171295625\n"
     ]
    }
   ],
   "source": [
    "for train_ind, val_ind in split.split(train_with_ind):\n",
    "    sarimax = SARIMAX(endog=train_with_ind.iloc[train_ind, -1],\n",
    "                      order=(1, 1, 1),\n",
    "                     seasonal_order=(1, 1, 1, 52),\n",
    "                     enforce_stationarity=False,\n",
    "                     enforce_invertibility=False).fit()\n",
    "    preds = sarimax.predict(typ='levels', start=val_ind[0], end=val_ind[-1])\n",
    "    true = train_with_ind.iloc[val_ind, -1]\n",
    "    print(np.sqrt(mean_squared_error(true, preds)))"
   ]
  },
  {
   "cell_type": "code",
   "execution_count": 122,
   "metadata": {},
   "outputs": [
    {
     "data": {
      "image/png": "[encoded data removed]",
      "text/plain": [
       "<Figure size 432x288 with 1 Axes>"
      ]
     },
     "metadata": {
      "needs_background": "light"
     },
     "output_type": "display_data"
    }
   ],
   "source": [
    "y_hat_train = sari_mod.predict(typ='levels')\n",
    "y_hat_test = sari_mod.predict(start=test.index[0], end=test.index[-1],typ='levels')\n",
    "\n",
    "fig, ax = plt.subplots()\n",
    "ax.plot(train, label='train')\n",
    "ax.plot(test, label='test')\n",
    "ax.plot(y_hat_train, label='train_pred')\n",
    "ax.plot(y_hat_test, label='test_pred')\n",
    "\n",
    "plt.legend();"
   ]
  },
  {
   "cell_type": "code",
   "execution_count": 123,
   "metadata": {},
   "outputs": [
    {
     "data": {
      "image/png": "[encoded data removed]",
      "text/plain": [
       "<Figure size 432x288 with 1 Axes>"
      ]
     },
     "metadata": {
      "needs_background": "light"
     },
     "output_type": "display_data"
    }
   ],
   "source": [
    "# Let's zoom in on test\n",
    "fig, ax = plt.subplots()\n",
    "\n",
    "ax.plot(test, label='true')\n",
    "ax.plot(y_hat_test, label='pred')\n",
    "\n",
    "plt.legend();"
   ]
  },
  {
   "cell_type": "code",
   "execution_count": 125,
   "metadata": {},
   "outputs": [
    {
     "data": {
      "text/plain": [
       "78556.2402648046"
      ]
     },
     "execution_count": 125,
     "metadata": {},
     "output_type": "execute_result"
    }
   ],
   "source": [
    "np.sqrt(mean_squared_error(test, y_hat_test))"
   ]
  },
  {
   "cell_type": "markdown",
   "metadata": {},
   "source": [
    "# Forecasting"
   ]
  },
  {
   "cell_type": "code",
   "execution_count": 128,
   "metadata": {},
   "outputs": [
    {
     "name": "stderr",
     "output_type": "stream",
     "text": [
      "/Users/a_conte/opt/anaconda3/envs/learn-env/lib/python3.8/site-packages/statsmodels/tsa/base/tsa_model.py:524: ValueWarning: No frequency information was provided, so inferred frequency MS will be used.\n",
      "  warnings.warn('No frequency information was'\n",
      "/Users/a_conte/opt/anaconda3/envs/learn-env/lib/python3.8/site-packages/statsmodels/tsa/base/tsa_model.py:524: ValueWarning: No frequency information was provided, so inferred frequency MS will be used.\n",
      "  warnings.warn('No frequency information was'\n",
      "/Users/a_conte/opt/anaconda3/envs/learn-env/lib/python3.8/site-packages/statsmodels/base/model.py:566: ConvergenceWarning: Maximum Likelihood optimization failed to converge. Check mle_retvals\n",
      "  warnings.warn(\"Maximum Likelihood optimization failed to \"\n"
     ]
    }
   ],
   "source": [
    "sari_mod = SARIMAX(series_diff,\n",
    "                  order=(1, 1, 1),\n",
    "                  seasonal_order=(1, 1, 1, 52),\n",
    "                  enforce_stationarity=False,\n",
    "                  enforce_invertibility=False).fit()"
   ]
  },
  {
   "cell_type": "code",
   "execution_count": 129,
   "metadata": {},
   "outputs": [],
   "source": [
    "forecast = sari_mod.forecast(steps=52)"
   ]
  },
  {
   "cell_type": "code",
   "execution_count": 133,
   "metadata": {},
   "outputs": [
    {
     "data": {
      "image/png": "[encoded data removed]",
      "text/plain": [
       "<Figure size 432x288 with 1 Axes>"
      ]
     },
     "metadata": {
      "needs_background": "light"
     },
     "output_type": "display_data"
    }
   ],
   "source": [
    "fig, ax = plt.subplots()\n",
    "ax.plot(series_diff, label='so_far')\n",
    "ax.plot(forecast, label='forecast')\n",
    "ax.set_title('Insert Title Here')\n",
    "\n",
    "plt.legend();"
   ]
  },
  {
   "cell_type": "markdown",
   "metadata": {},
   "source": [
    "# LSTM(RNN)"
   ]
  },
  {
   "cell_type": "code",
   "execution_count": 135,
   "metadata": {},
   "outputs": [],
   "source": [
    "def split_sequence(seq, n_steps_in, n_steps_out):\n",
    "    \"\"\"\n",
    "    Splits the multivariate time sequence\n",
    "    \"\"\"\n",
    "    \n",
    "    # Creating a list for both variables\n",
    "    X, y = [], []\n",
    "    \n",
    "    for i in range(len(seq)):\n",
    "        \n",
    "        # Finding the end of the current sequence\n",
    "        end = i + n_steps_in\n",
    "        out_end = end + n_steps_out\n",
    "        \n",
    "        # Breaking out of the loop if we have exceeded the dataset's length\n",
    "        if out_end > len(seq):\n",
    "            break\n",
    "        \n",
    "        # Splitting the sequences into: x = past prices and indicators, y = prices ahead\n",
    "        seq_x, seq_y = seq[i:end, :], seq[end:out_end, 0]\n",
    "        \n",
    "        X.append(seq_x)\n",
    "        y.append(seq_y)\n",
    "    \n",
    "    return np.array(X), np.array(y)"
   ]
  },
  {
   "cell_type": "code",
   "execution_count": 138,
   "metadata": {},
   "outputs": [],
   "source": [
    "def layer_maker(n_layers, n_nodes, activation, drop=None, d_rate=.5):\n",
    "    \"\"\"\n",
    "    Creates a specified number of hidden layers for an RNN\n",
    "    Optional: Adds regularization option - the dropout layer to prevent potential overfitting (if necessary)\n",
    "    \"\"\"\n",
    "    \n",
    "    # Creating the specified number of hidden layers with the specified number of nodes\n",
    "    for x in range(1,n_layers+1):\n",
    "        model.add(LSTM(n_nodes, activation=activation, return_sequences=True))\n",
    "\n",
    "        # Adds a Dropout layer after every Nth hidden layer (the 'drop' variable)\n",
    "        try:\n",
    "            if x % drop == 0:\n",
    "                model.add(Dropout(d_rate))\n",
    "        except:\n",
    "            pass"
   ]
  },
  {
   "cell_type": "code",
   "execution_count": 139,
   "metadata": {},
   "outputs": [],
   "source": [
    "# How many periods looking back to learn\n",
    "n_per_in  = 90\n",
    "\n",
    "# How many periods to predict\n",
    "n_per_out = 30\n",
    "\n",
    "# Features \n",
    "n_features = series_diff.shape[1]\n",
    "\n",
    "# Splitting the data into appropriate sequences\n",
    "X, y = split_sequence(series_diff.to_numpy(), n_per_in, n_per_out)"
   ]
  },
  {
   "cell_type": "code",
   "execution_count": 134,
   "metadata": {},
   "outputs": [],
   "source": []
  },
  {
   "cell_type": "code",
   "execution_count": 140,
   "metadata": {},
   "outputs": [
    {
     "name": "stdout",
     "output_type": "stream",
     "text": [
      "Model: \"sequential_1\"\n",
      "_________________________________________________________________\n",
      "Layer (type)                 Output Shape              Param #   \n",
      "=================================================================\n",
      "lstm_1 (LSTM)                (None, 90, 90)            33120     \n",
      "_________________________________________________________________\n",
      "lstm_2 (LSTM)                (None, 90, 30)            14520     \n",
      "_________________________________________________________________\n",
      "dropout (Dropout)            (None, 90, 30)            0         \n",
      "_________________________________________________________________\n",
      "lstm_3 (LSTM)                (None, 90, 30)            7320      \n",
      "_________________________________________________________________\n",
      "dropout_1 (Dropout)          (None, 90, 30)            0         \n",
      "_________________________________________________________________\n",
      "lstm_4 (LSTM)                (None, 90)                43560     \n",
      "_________________________________________________________________\n",
      "dense (Dense)                (None, 30)                2730      \n",
      "=================================================================\n",
      "Total params: 101,250\n",
      "Trainable params: 101,250\n",
      "Non-trainable params: 0\n",
      "_________________________________________________________________\n"
     ]
    }
   ],
   "source": [
    "# Instatiating the model\n",
    "model = Sequential()\n",
    "\n",
    "# Activation\n",
    "activ = \"tanh\"\n",
    "\n",
    "# Input layer\n",
    "model.add(LSTM(90, \n",
    "               activation=activ, \n",
    "               return_sequences=True, \n",
    "               input_shape=(n_per_in, n_features)))\n",
    "\n",
    "# Hidden layers\n",
    "layer_maker(n_layers=2, \n",
    "            n_nodes=30, \n",
    "            activation=activ,\n",
    "            drop=1,\n",
    "            d_rate=.1)\n",
    "\n",
    "# Final Hidden layer\n",
    "model.add(LSTM(90, activation=activ))\n",
    "\n",
    "# Output layer\n",
    "model.add(Dense(n_per_out))\n",
    "\n",
    "# Model summary\n",
    "model.summary()"
   ]
  },
  {
   "cell_type": "code",
   "execution_count": 141,
   "metadata": {},
   "outputs": [],
   "source": [
    "# Compiling the data with selected specifications\n",
    "model.compile(optimizer='adam', loss='mse', metrics=['accuracy'])"
   ]
  },
  {
   "cell_type": "code",
   "execution_count": 142,
   "metadata": {},
   "outputs": [
    {
     "name": "stdout",
     "output_type": "stream",
     "text": [
      "Epoch 1/100\n",
      "4/4 [==============================] - 2s 457ms/step - loss: 114500427776.0000 - accuracy: 0.1780 - val_loss: 182457499648.0000 - val_accuracy: 0.0000e+00\n",
      "Epoch 2/100\n",
      "4/4 [==============================] - 1s 144ms/step - loss: 114500395008.0000 - accuracy: 0.1949 - val_loss: 182457303040.0000 - val_accuracy: 0.0000e+00\n",
      "Epoch 3/100\n",
      "4/4 [==============================] - 1s 146ms/step - loss: 114500272128.0000 - accuracy: 0.1695 - val_loss: 182456795136.0000 - val_accuracy: 0.0000e+00\n",
      "Epoch 4/100\n",
      "4/4 [==============================] - 1s 161ms/step - loss: 114500075520.0000 - accuracy: 0.1441 - val_loss: 182456369152.0000 - val_accuracy: 0.0000e+00\n",
      "Epoch 5/100\n",
      "4/4 [==============================] - 1s 143ms/step - loss: 114499895296.0000 - accuracy: 0.1949 - val_loss: 182455943168.0000 - val_accuracy: 0.0000e+00\n",
      "Epoch 6/100\n",
      "4/4 [==============================] - 1s 199ms/step - loss: 114499715072.0000 - accuracy: 0.1695 - val_loss: 182455484416.0000 - val_accuracy: 0.0000e+00\n",
      "Epoch 7/100\n",
      "4/4 [==============================] - 1s 172ms/step - loss: 114499543040.0000 - accuracy: 0.0847 - val_loss: 182455009280.0000 - val_accuracy: 0.0000e+00\n",
      "Epoch 8/100\n",
      "4/4 [==============================] - 1s 192ms/step - loss: 114499346432.0000 - accuracy: 0.0508 - val_loss: 182454534144.0000 - val_accuracy: 0.0000e+00\n",
      "Epoch 9/100\n",
      "4/4 [==============================] - 1s 137ms/step - loss: 114499166208.0000 - accuracy: 0.0932 - val_loss: 182454075392.0000 - val_accuracy: 0.0000e+00\n",
      "Epoch 10/100\n",
      "4/4 [==============================] - 1s 145ms/step - loss: 114498985984.0000 - accuracy: 0.1017 - val_loss: 182453633024.0000 - val_accuracy: 0.0000e+00\n",
      "Epoch 11/100\n",
      "4/4 [==============================] - 1s 178ms/step - loss: 114498822144.0000 - accuracy: 0.0932 - val_loss: 182453223424.0000 - val_accuracy: 0.0000e+00\n",
      "Epoch 12/100\n",
      "4/4 [==============================] - 1s 139ms/step - loss: 114498650112.0000 - accuracy: 0.0932 - val_loss: 182452830208.0000 - val_accuracy: 0.0000e+00\n",
      "Epoch 13/100\n",
      "4/4 [==============================] - 1s 195ms/step - loss: 114499084288.0000 - accuracy: 0.0763 - val_loss: 182452404224.0000 - val_accuracy: 0.0000e+00\n",
      "Epoch 14/100\n",
      "4/4 [==============================] - 1s 190ms/step - loss: 114499469312.0000 - accuracy: 0.0254 - val_loss: 182452109312.0000 - val_accuracy: 0.0000e+00\n",
      "Epoch 15/100\n",
      "4/4 [==============================] - 1s 176ms/step - loss: 114498560000.0000 - accuracy: 0.0508 - val_loss: 182451781632.0000 - val_accuracy: 0.0000e+00\n",
      "Epoch 16/100\n",
      "4/4 [==============================] - 1s 164ms/step - loss: 114498617344.0000 - accuracy: 0.0508 - val_loss: 182451437568.0000 - val_accuracy: 0.0000e+00\n",
      "Epoch 17/100\n",
      "4/4 [==============================] - 1s 160ms/step - loss: 114498101248.0000 - accuracy: 0.0847 - val_loss: 182451126272.0000 - val_accuracy: 0.0000e+00\n",
      "Epoch 18/100\n",
      "4/4 [==============================] - 1s 141ms/step - loss: 114497716224.0000 - accuracy: 0.0847 - val_loss: 182450765824.0000 - val_accuracy: 0.0714\n",
      "Epoch 19/100\n",
      "4/4 [==============================] - 1s 157ms/step - loss: 114497536000.0000 - accuracy: 0.0763 - val_loss: 182450388992.0000 - val_accuracy: 0.0714\n",
      "Epoch 20/100\n",
      "4/4 [==============================] - 1s 209ms/step - loss: 114497323008.0000 - accuracy: 0.0763 - val_loss: 182450012160.0000 - val_accuracy: 0.0714\n",
      "Epoch 21/100\n",
      "4/4 [==============================] - 1s 183ms/step - loss: 114497323008.0000 - accuracy: 0.0593 - val_loss: 182449635328.0000 - val_accuracy: 0.0714\n",
      "Epoch 22/100\n",
      "4/4 [==============================] - 1s 141ms/step - loss: 114496913408.0000 - accuracy: 0.0593 - val_loss: 182449258496.0000 - val_accuracy: 0.0714\n",
      "Epoch 23/100\n",
      "4/4 [==============================] - 1s 160ms/step - loss: 114496733184.0000 - accuracy: 0.1186 - val_loss: 182448898048.0000 - val_accuracy: 0.0714\n",
      "Epoch 24/100\n",
      "4/4 [==============================] - 1s 143ms/step - loss: 114496528384.0000 - accuracy: 0.0593 - val_loss: 182448537600.0000 - val_accuracy: 0.0714\n",
      "Epoch 25/100\n",
      "4/4 [==============================] - 1s 161ms/step - loss: 114496307200.0000 - accuracy: 0.1017 - val_loss: 182448177152.0000 - val_accuracy: 0.0714\n",
      "Epoch 26/100\n",
      "4/4 [==============================] - 1s 135ms/step - loss: 114496077824.0000 - accuracy: 0.0847 - val_loss: 182447800320.0000 - val_accuracy: 0.0714\n",
      "Epoch 27/100\n",
      "4/4 [==============================] - 1s 152ms/step - loss: 114495856640.0000 - accuracy: 0.0678 - val_loss: 182447423488.0000 - val_accuracy: 0.0714\n",
      "Epoch 28/100\n",
      "4/4 [==============================] - 1s 145ms/step - loss: 114495602688.0000 - accuracy: 0.0847 - val_loss: 182447095808.0000 - val_accuracy: 0.0714\n",
      "Epoch 29/100\n",
      "4/4 [==============================] - 1s 138ms/step - loss: 114495381504.0000 - accuracy: 0.0593 - val_loss: 182446718976.0000 - val_accuracy: 0.0714\n",
      "Epoch 30/100\n",
      "4/4 [==============================] - 1s 141ms/step - loss: 114495184896.0000 - accuracy: 0.0593 - val_loss: 182446342144.0000 - val_accuracy: 0.0714\n",
      "Epoch 31/100\n",
      "4/4 [==============================] - 1s 142ms/step - loss: 114494898176.0000 - accuracy: 0.0847 - val_loss: 182445981696.0000 - val_accuracy: 0.0714\n",
      "Epoch 32/100\n",
      "4/4 [==============================] - 1s 134ms/step - loss: 114494726144.0000 - accuracy: 0.0339 - val_loss: 182445588480.0000 - val_accuracy: 0.0714\n",
      "Epoch 33/100\n",
      "4/4 [==============================] - 1s 141ms/step - loss: 114494504960.0000 - accuracy: 0.0847 - val_loss: 182445228032.0000 - val_accuracy: 0.0714\n",
      "Epoch 34/100\n",
      "4/4 [==============================] - 1s 150ms/step - loss: 114494267392.0000 - accuracy: 0.0339 - val_loss: 182444851200.0000 - val_accuracy: 0.0714\n",
      "Epoch 35/100\n",
      "4/4 [==============================] - 1s 150ms/step - loss: 114494046208.0000 - accuracy: 0.0763 - val_loss: 182444474368.0000 - val_accuracy: 0.0714\n",
      "Epoch 36/100\n",
      "4/4 [==============================] - 1s 148ms/step - loss: 114493800448.0000 - accuracy: 0.0847 - val_loss: 182444097536.0000 - val_accuracy: 0.0714\n",
      "Epoch 37/100\n",
      "4/4 [==============================] - 1s 203ms/step - loss: 114493595648.0000 - accuracy: 0.0424 - val_loss: 182443720704.0000 - val_accuracy: 0.0714\n",
      "Epoch 38/100\n",
      "4/4 [==============================] - 1s 228ms/step - loss: 114493374464.0000 - accuracy: 0.1102 - val_loss: 182443327488.0000 - val_accuracy: 0.0714\n",
      "Epoch 39/100\n",
      "4/4 [==============================] - 1s 213ms/step - loss: 114493145088.0000 - accuracy: 0.0593 - val_loss: 182442950656.0000 - val_accuracy: 0.0714\n",
      "Epoch 40/100\n",
      "4/4 [==============================] - 1s 206ms/step - loss: 114492923904.0000 - accuracy: 0.0678 - val_loss: 182442573824.0000 - val_accuracy: 0.0714\n",
      "Epoch 41/100\n",
      "4/4 [==============================] - 1s 175ms/step - loss: 114492735488.0000 - accuracy: 0.1441 - val_loss: 182442180608.0000 - val_accuracy: 0.0714\n",
      "Epoch 42/100\n",
      "4/4 [==============================] - 1s 157ms/step - loss: 114492530688.0000 - accuracy: 0.2797 - val_loss: 182441836544.0000 - val_accuracy: 0.0714\n",
      "Epoch 43/100\n",
      "4/4 [==============================] - 1s 142ms/step - loss: 114492309504.0000 - accuracy: 0.2712 - val_loss: 182441443328.0000 - val_accuracy: 0.0714\n",
      "Epoch 44/100\n",
      "4/4 [==============================] - 1s 151ms/step - loss: 114492121088.0000 - accuracy: 0.2542 - val_loss: 182441066496.0000 - val_accuracy: 0.0714\n",
      "Epoch 45/100\n",
      "4/4 [==============================] - 1s 142ms/step - loss: 114491899904.0000 - accuracy: 0.2542 - val_loss: 182440689664.0000 - val_accuracy: 0.0714\n",
      "Epoch 46/100\n",
      "4/4 [==============================] - 1s 146ms/step - loss: 114491719680.0000 - accuracy: 0.2627 - val_loss: 182440312832.0000 - val_accuracy: 0.0714\n",
      "Epoch 47/100\n",
      "4/4 [==============================] - 1s 145ms/step - loss: 114491498496.0000 - accuracy: 0.2542 - val_loss: 182439952384.0000 - val_accuracy: 0.0714\n",
      "Epoch 48/100\n",
      "4/4 [==============================] - 1s 147ms/step - loss: 114491310080.0000 - accuracy: 0.2542 - val_loss: 182439591936.0000 - val_accuracy: 0.0714\n",
      "Epoch 49/100\n",
      "4/4 [==============================] - 1s 146ms/step - loss: 114491088896.0000 - accuracy: 0.2627 - val_loss: 182439231488.0000 - val_accuracy: 0.0714\n",
      "Epoch 50/100\n",
      "4/4 [==============================] - 1s 142ms/step - loss: 114490933248.0000 - accuracy: 0.2542 - val_loss: 182438854656.0000 - val_accuracy: 0.0714\n",
      "Epoch 51/100\n",
      "4/4 [==============================] - 1s 133ms/step - loss: 114490720256.0000 - accuracy: 0.2542 - val_loss: 182438494208.0000 - val_accuracy: 0.0714\n",
      "Epoch 52/100\n",
      "4/4 [==============================] - 1s 147ms/step - loss: 114490531840.0000 - accuracy: 0.2542 - val_loss: 182438117376.0000 - val_accuracy: 0.0714\n",
      "Epoch 53/100\n",
      "4/4 [==============================] - 1s 138ms/step - loss: 114490318848.0000 - accuracy: 0.2627 - val_loss: 182437773312.0000 - val_accuracy: 0.0714\n",
      "Epoch 54/100\n",
      "4/4 [==============================] - 1s 137ms/step - loss: 114490130432.0000 - accuracy: 0.2627 - val_loss: 182437396480.0000 - val_accuracy: 0.0714\n",
      "Epoch 55/100\n",
      "4/4 [==============================] - 1s 144ms/step - loss: 114489925632.0000 - accuracy: 0.2542 - val_loss: 182437052416.0000 - val_accuracy: 0.0714\n",
      "Epoch 56/100\n",
      "4/4 [==============================] - 1s 137ms/step - loss: 114489802752.0000 - accuracy: 0.2712 - val_loss: 182436708352.0000 - val_accuracy: 0.0714\n",
      "Epoch 57/100\n",
      "4/4 [==============================] - 1s 146ms/step - loss: 114489589760.0000 - accuracy: 0.2458 - val_loss: 182436347904.0000 - val_accuracy: 0.0714\n",
      "Epoch 58/100\n",
      "4/4 [==============================] - 1s 146ms/step - loss: 114489368576.0000 - accuracy: 0.2627 - val_loss: 182435971072.0000 - val_accuracy: 0.0714\n",
      "Epoch 59/100\n",
      "4/4 [==============================] - 1s 142ms/step - loss: 114489196544.0000 - accuracy: 0.2373 - val_loss: 182435610624.0000 - val_accuracy: 0.0714\n",
      "Epoch 60/100\n",
      "4/4 [==============================] - 1s 154ms/step - loss: 114489057280.0000 - accuracy: 0.2458 - val_loss: 182435266560.0000 - val_accuracy: 0.0714\n",
      "Epoch 61/100\n",
      "4/4 [==============================] - 1s 154ms/step - loss: 114488950784.0000 - accuracy: 0.2373 - val_loss: 182434906112.0000 - val_accuracy: 0.0714\n",
      "Epoch 62/100\n",
      "4/4 [==============================] - 1s 145ms/step - loss: 114488680448.0000 - accuracy: 0.2373 - val_loss: 182434562048.0000 - val_accuracy: 0.0714\n",
      "Epoch 63/100\n",
      "4/4 [==============================] - 1s 149ms/step - loss: 114488475648.0000 - accuracy: 0.2627 - val_loss: 182434185216.0000 - val_accuracy: 0.0714\n",
      "Epoch 64/100\n",
      "4/4 [==============================] - 1s 166ms/step - loss: 114488262656.0000 - accuracy: 0.2542 - val_loss: 182433857536.0000 - val_accuracy: 0.0714\n",
      "Epoch 65/100\n",
      "4/4 [==============================] - 1s 235ms/step - loss: 114488074240.0000 - accuracy: 0.2458 - val_loss: 182433497088.0000 - val_accuracy: 0.0714\n",
      "Epoch 66/100\n",
      "4/4 [==============================] - 1s 208ms/step - loss: 114487910400.0000 - accuracy: 0.2627 - val_loss: 182433169408.0000 - val_accuracy: 0.0714\n",
      "Epoch 67/100\n",
      "4/4 [==============================] - 1s 190ms/step - loss: 114487705600.0000 - accuracy: 0.2458 - val_loss: 182432792576.0000 - val_accuracy: 0.0714\n",
      "Epoch 68/100\n",
      "4/4 [==============================] - 1s 151ms/step - loss: 114487517184.0000 - accuracy: 0.2542 - val_loss: 182432448512.0000 - val_accuracy: 0.0714\n",
      "Epoch 69/100\n",
      "4/4 [==============================] - 1s 150ms/step - loss: 114487345152.0000 - accuracy: 0.2458 - val_loss: 182432088064.0000 - val_accuracy: 0.0714\n",
      "Epoch 70/100\n",
      "4/4 [==============================] - 1s 215ms/step - loss: 114487132160.0000 - accuracy: 0.2458 - val_loss: 182431776768.0000 - val_accuracy: 0.0714\n",
      "Epoch 71/100\n",
      "4/4 [==============================] - 1s 147ms/step - loss: 114486984704.0000 - accuracy: 0.2627 - val_loss: 182431416320.0000 - val_accuracy: 0.0714\n",
      "Epoch 72/100\n",
      "4/4 [==============================] - 1s 143ms/step - loss: 114486804480.0000 - accuracy: 0.2373 - val_loss: 182431072256.0000 - val_accuracy: 0.0714\n",
      "Epoch 73/100\n",
      "4/4 [==============================] - 1s 187ms/step - loss: 114486616064.0000 - accuracy: 0.2542 - val_loss: 182430744576.0000 - val_accuracy: 0.0714\n",
      "Epoch 74/100\n",
      "4/4 [==============================] - 1s 160ms/step - loss: 114486427648.0000 - accuracy: 0.2458 - val_loss: 182430384128.0000 - val_accuracy: 0.0714\n",
      "Epoch 75/100\n",
      "4/4 [==============================] - 1s 144ms/step - loss: 114486312960.0000 - accuracy: 0.2288 - val_loss: 182430056448.0000 - val_accuracy: 0.0714\n",
      "Epoch 76/100\n",
      "4/4 [==============================] - 1s 146ms/step - loss: 114486165504.0000 - accuracy: 0.2542 - val_loss: 182429712384.0000 - val_accuracy: 0.0714\n",
      "Epoch 77/100\n",
      "4/4 [==============================] - 1s 162ms/step - loss: 114485977088.0000 - accuracy: 0.2288 - val_loss: 182429384704.0000 - val_accuracy: 0.0714\n",
      "Epoch 78/100\n",
      "4/4 [==============================] - 1s 167ms/step - loss: 114485796864.0000 - accuracy: 0.2627 - val_loss: 182429057024.0000 - val_accuracy: 0.0714\n",
      "Epoch 79/100\n",
      "4/4 [==============================] - 1s 169ms/step - loss: 114485690368.0000 - accuracy: 0.2542 - val_loss: 182428712960.0000 - val_accuracy: 0.0714\n",
      "Epoch 80/100\n",
      "4/4 [==============================] - 1s 232ms/step - loss: 114485518336.0000 - accuracy: 0.2373 - val_loss: 182428368896.0000 - val_accuracy: 0.0714\n",
      "Epoch 81/100\n",
      "4/4 [==============================] - 1s 261ms/step - loss: 114485321728.0000 - accuracy: 0.2542 - val_loss: 182428057600.0000 - val_accuracy: 0.0714\n",
      "Epoch 82/100\n",
      "4/4 [==============================] - 1s 201ms/step - loss: 114485092352.0000 - accuracy: 0.2542 - val_loss: 182427697152.0000 - val_accuracy: 0.0714\n",
      "Epoch 83/100\n",
      "4/4 [==============================] - 1s 205ms/step - loss: 114484879360.0000 - accuracy: 0.2458 - val_loss: 182427369472.0000 - val_accuracy: 0.0714\n",
      "Epoch 84/100\n",
      "4/4 [==============================] - 1s 188ms/step - loss: 114484699136.0000 - accuracy: 0.2458 - val_loss: 182427025408.0000 - val_accuracy: 0.0714\n",
      "Epoch 85/100\n",
      "4/4 [==============================] - 1s 193ms/step - loss: 114484535296.0000 - accuracy: 0.2542 - val_loss: 182426697728.0000 - val_accuracy: 0.0714\n",
      "Epoch 86/100\n",
      "4/4 [==============================] - 1s 217ms/step - loss: 114484330496.0000 - accuracy: 0.2458 - val_loss: 182426386432.0000 - val_accuracy: 0.0714\n",
      "Epoch 87/100\n",
      "4/4 [==============================] - 1s 224ms/step - loss: 114484158464.0000 - accuracy: 0.2288 - val_loss: 182426042368.0000 - val_accuracy: 0.0714\n",
      "Epoch 88/100\n",
      "4/4 [==============================] - 1s 203ms/step - loss: 114483986432.0000 - accuracy: 0.2542 - val_loss: 182425714688.0000 - val_accuracy: 0.0714\n",
      "Epoch 89/100\n",
      "4/4 [==============================] - 1s 143ms/step - loss: 114483806208.0000 - accuracy: 0.2373 - val_loss: 182425387008.0000 - val_accuracy: 0.0714\n",
      "Epoch 90/100\n",
      "4/4 [==============================] - 1s 183ms/step - loss: 114483634176.0000 - accuracy: 0.2458 - val_loss: 182425059328.0000 - val_accuracy: 0.0714\n",
      "Epoch 91/100\n",
      "4/4 [==============================] - 1s 191ms/step - loss: 114483445760.0000 - accuracy: 0.2458 - val_loss: 182424715264.0000 - val_accuracy: 0.0714\n",
      "Epoch 92/100\n",
      "4/4 [==============================] - 1s 216ms/step - loss: 114483281920.0000 - accuracy: 0.2542 - val_loss: 182424387584.0000 - val_accuracy: 0.0714\n",
      "Epoch 93/100\n",
      "4/4 [==============================] - 1s 184ms/step - loss: 114483118080.0000 - accuracy: 0.2458 - val_loss: 182424043520.0000 - val_accuracy: 0.0714\n",
      "Epoch 94/100\n",
      "4/4 [==============================] - 1s 184ms/step - loss: 114482937856.0000 - accuracy: 0.2458 - val_loss: 182423699456.0000 - val_accuracy: 0.0714\n",
      "Epoch 95/100\n",
      "4/4 [==============================] - 1s 169ms/step - loss: 114482765824.0000 - accuracy: 0.2458 - val_loss: 182423388160.0000 - val_accuracy: 0.0714\n",
      "Epoch 96/100\n",
      "4/4 [==============================] - 1s 178ms/step - loss: 114482585600.0000 - accuracy: 0.2458 - val_loss: 182423044096.0000 - val_accuracy: 0.0714\n",
      "Epoch 97/100\n",
      "4/4 [==============================] - 1s 186ms/step - loss: 114482413568.0000 - accuracy: 0.2458 - val_loss: 182422732800.0000 - val_accuracy: 0.0714\n",
      "Epoch 98/100\n",
      "4/4 [==============================] - 1s 139ms/step - loss: 114482233344.0000 - accuracy: 0.2373 - val_loss: 182422421504.0000 - val_accuracy: 0.0714\n",
      "Epoch 99/100\n",
      "4/4 [==============================] - 1s 182ms/step - loss: 114482061312.0000 - accuracy: 0.2542 - val_loss: 182422077440.0000 - val_accuracy: 0.0714\n",
      "Epoch 100/100\n",
      "4/4 [==============================] - 1s 161ms/step - loss: 114481881088.0000 - accuracy: 0.2458 - val_loss: 182421733376.0000 - val_accuracy: 0.0714\n"
     ]
    }
   ],
   "source": [
    "res = model.fit(X, y, epochs=100, batch_size=32, validation_split=0.1)"
   ]
  },
  {
   "cell_type": "code",
   "execution_count": 144,
   "metadata": {},
   "outputs": [],
   "source": [
    "def visualize_training_results(results):\n",
    "    \"\"\"\n",
    "    Plots the loss and accuracy for the training and testing data\n",
    "    \"\"\"\n",
    "    history = results.history\n",
    "    plt.figure(figsize=(16,5))\n",
    "    plt.plot(history['val_loss'])\n",
    "    plt.plot(history['loss'])\n",
    "    plt.legend(['val_loss', 'loss'])\n",
    "    plt.title('Loss')\n",
    "    plt.xlabel('Epochs')\n",
    "    plt.ylabel('Loss')\n",
    "    plt.show()\n",
    "    \n",
    "    plt.figure(figsize=(16,5))\n",
    "    plt.plot(history['val_accuracy'])\n",
    "    plt.plot(history['accuracy'])\n",
    "    plt.legend(['val_accuracy', 'accuracy'])\n",
    "    plt.title('Accuracy')\n",
    "    plt.xlabel('Epochs')\n",
    "    plt.ylabel('Accuracy')\n",
    "    plt.show()"
   ]
  },
  {
   "cell_type": "code",
   "execution_count": 145,
   "metadata": {},
   "outputs": [
    {
     "data": {
      "image/png": "[encoded data removed]",
      "text/plain": [
       "<Figure size 1152x360 with 1 Axes>"
      ]
     },
     "metadata": {
      "needs_background": "light"
     },
     "output_type": "display_data"
    },
    {
     "data": {
      "image/png": "[encoded data removed]",
      "text/plain": [
       "<Figure size 1152x360 with 1 Axes>"
      ]
     },
     "metadata": {
      "needs_background": "light"
     },
     "output_type": "display_data"
    }
   ],
   "source": [
    "visualize_training_results(res)"
   ]
  },
  {
   "cell_type": "code",
   "execution_count": null,
   "metadata": {},
   "outputs": [],
   "source": []
  }
 ],
 "metadata": {
  "kernelspec": {
   "display_name": "Python (learn-env)",
   "language": "python",
   "name": "learn-env"
  },
  "language_info": {
   "codemirror_mode": {
    "name": "ipython",
    "version": 3
   },
   "file_extension": ".py",
   "mimetype": "text/x-python",
   "name": "python",
   "nbconvert_exporter": "python",
   "pygments_lexer": "ipython3",
   "version": "3.8.5"
  }
 },
 "nbformat": 4,
 "nbformat_minor": 4
}
